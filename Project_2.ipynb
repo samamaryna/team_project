{
 "cells": [
  {
   "cell_type": "markdown",
   "metadata": {},
   "source": [
    "## Airline Passenger Satisfaction Data Analysis and Visualisation Project\n",
    "**Team #27:** [Maryna Kostiuk](https://github.com/samamaryna), [Ying Li](https://github.com/yingliamanda), [Yinglin Zhang](https://github.com/Jolin0101), [Tetiana Nurkanova](https://github.com/nurkanovat)"
   ]
  },
  {
   "cell_type": "markdown",
   "metadata": {},
   "source": [
<<<<<<< HEAD
    "Welcome to our second team project within Data Science Certificate. For this project we used the dataset [Airline Passenger Satisfaction](https://www.kaggle.com/datasets/teejmahal20/airline-passenger-satisfaction). Within this project we will analyse data and answer such questions as: \n",
    "- What percentage of airline passengers are satisfied?\n",
    "- Does satisfaction vary by customer type?\n",
    "- What is the customer profile for a repeating airline passenger?\n",
    "- Does flight distance affect customer preferences or flight patterns?\n",
    "- Which factors contribute to customer satisfaction the most? What about dissatisfaction?\n",
    "  \n",
    "We hope that with the answers to this questions the airline company can improve the services and increase the satisfaction rate between customers. \n",
    "\n",
    "\n",
    "Unfortunately, the data source doesn't provide any information about the collection of data, sampling methods, and other details. We also couldn't find this information online. "
=======
    "Welcome to our second team project within Data Science Certificate. For this project we used the dataset [Airline Passenger Satisfaction](https://www.kaggle.com/datasets/teejmahal20/airline-passenger-satisfaction). Within this project we will analyse data and answer four questions: \n",
    "- What percentage of airline passengers are satisfied?\n",
    "- question 2\n",
    "- Does flight distance affect customer preferences or flight patterns?\n",
    "- Which factors contribute to customer satisfaction the most? What about dissatisfaction?\n"
>>>>>>> 2340e33fc88fd5bd600ee7643b6b87380f722fd3
   ]
  },
  {
   "cell_type": "code",
<<<<<<< HEAD
   "execution_count": 2,
   "metadata": {},
   "outputs": [],
   "source": [
    "#to import librariers we will be working with\n",
    "import numpy as np\n",
    "import pandas as pd\n",
    "import matplotlib.pyplot as plt\n",
    "import seaborn as sns\n",
=======
   "execution_count": 76,
   "metadata": {},
   "outputs": [],
   "source": [
    "import numpy as np\n",
    "import pandas as pd\n",
    "import matplotlib.pyplot as plt\n",
>>>>>>> 2340e33fc88fd5bd600ee7643b6b87380f722fd3
    "from sklearn.ensemble import RandomForestClassifier\n",
    "from sklearn.model_selection import train_test_split"
   ]
  },
  {
   "cell_type": "code",
<<<<<<< HEAD
   "execution_count": 3,
=======
   "execution_count": 55,
>>>>>>> 2340e33fc88fd5bd600ee7643b6b87380f722fd3
   "metadata": {},
   "outputs": [
    {
     "data": {
      "text/html": [
       "<div>\n",
       "<style scoped>\n",
       "    .dataframe tbody tr th:only-of-type {\n",
       "        vertical-align: middle;\n",
       "    }\n",
       "\n",
       "    .dataframe tbody tr th {\n",
       "        vertical-align: top;\n",
       "    }\n",
       "\n",
       "    .dataframe thead th {\n",
       "        text-align: right;\n",
       "    }\n",
       "</style>\n",
       "<table border=\"1\" class=\"dataframe\">\n",
       "  <thead>\n",
       "    <tr style=\"text-align: right;\">\n",
       "      <th></th>\n",
       "      <th>ID</th>\n",
       "      <th>Gender</th>\n",
       "      <th>Age</th>\n",
       "      <th>Customer Type</th>\n",
       "      <th>Type of Travel</th>\n",
       "      <th>Class</th>\n",
       "      <th>Flight Distance</th>\n",
       "      <th>Departure Delay</th>\n",
       "      <th>Arrival Delay</th>\n",
       "      <th>Departure and Arrival Time Convenience</th>\n",
       "      <th>...</th>\n",
       "      <th>On-board Service</th>\n",
       "      <th>Seat Comfort</th>\n",
       "      <th>Leg Room Service</th>\n",
       "      <th>Cleanliness</th>\n",
       "      <th>Food and Drink</th>\n",
       "      <th>In-flight Service</th>\n",
       "      <th>In-flight Wifi Service</th>\n",
       "      <th>In-flight Entertainment</th>\n",
       "      <th>Baggage Handling</th>\n",
       "      <th>Satisfaction</th>\n",
       "    </tr>\n",
       "  </thead>\n",
       "  <tbody>\n",
       "    <tr>\n",
       "      <th>0</th>\n",
       "      <td>1</td>\n",
       "      <td>Male</td>\n",
       "      <td>48</td>\n",
       "      <td>First-time</td>\n",
       "      <td>Business</td>\n",
       "      <td>Business</td>\n",
       "      <td>821</td>\n",
       "      <td>2</td>\n",
       "      <td>5.0</td>\n",
       "      <td>3</td>\n",
       "      <td>...</td>\n",
       "      <td>3</td>\n",
       "      <td>5</td>\n",
       "      <td>2</td>\n",
       "      <td>5</td>\n",
       "      <td>5</td>\n",
       "      <td>5</td>\n",
       "      <td>3</td>\n",
       "      <td>5</td>\n",
       "      <td>5</td>\n",
       "      <td>Neutral or Dissatisfied</td>\n",
       "    </tr>\n",
       "    <tr>\n",
       "      <th>1</th>\n",
       "      <td>2</td>\n",
       "      <td>Female</td>\n",
       "      <td>35</td>\n",
       "      <td>Returning</td>\n",
       "      <td>Business</td>\n",
       "      <td>Business</td>\n",
       "      <td>821</td>\n",
       "      <td>26</td>\n",
       "      <td>39.0</td>\n",
       "      <td>2</td>\n",
       "      <td>...</td>\n",
       "      <td>5</td>\n",
       "      <td>4</td>\n",
       "      <td>5</td>\n",
       "      <td>5</td>\n",
       "      <td>3</td>\n",
       "      <td>5</td>\n",
       "      <td>2</td>\n",
       "      <td>5</td>\n",
       "      <td>5</td>\n",
       "      <td>Satisfied</td>\n",
       "    </tr>\n",
       "    <tr>\n",
       "      <th>2</th>\n",
       "      <td>3</td>\n",
       "      <td>Male</td>\n",
       "      <td>41</td>\n",
       "      <td>Returning</td>\n",
       "      <td>Business</td>\n",
       "      <td>Business</td>\n",
       "      <td>853</td>\n",
       "      <td>0</td>\n",
       "      <td>0.0</td>\n",
       "      <td>4</td>\n",
       "      <td>...</td>\n",
       "      <td>3</td>\n",
       "      <td>5</td>\n",
       "      <td>3</td>\n",
       "      <td>5</td>\n",
       "      <td>5</td>\n",
       "      <td>3</td>\n",
       "      <td>4</td>\n",
       "      <td>3</td>\n",
       "      <td>3</td>\n",
       "      <td>Satisfied</td>\n",
       "    </tr>\n",
       "    <tr>\n",
       "      <th>3</th>\n",
       "      <td>4</td>\n",
       "      <td>Male</td>\n",
       "      <td>50</td>\n",
       "      <td>Returning</td>\n",
       "      <td>Business</td>\n",
       "      <td>Business</td>\n",
       "      <td>1905</td>\n",
       "      <td>0</td>\n",
       "      <td>0.0</td>\n",
       "      <td>2</td>\n",
       "      <td>...</td>\n",
       "      <td>5</td>\n",
       "      <td>5</td>\n",
       "      <td>5</td>\n",
       "      <td>4</td>\n",
       "      <td>4</td>\n",
       "      <td>5</td>\n",
       "      <td>2</td>\n",
       "      <td>5</td>\n",
       "      <td>5</td>\n",
       "      <td>Satisfied</td>\n",
       "    </tr>\n",
       "    <tr>\n",
       "      <th>4</th>\n",
       "      <td>5</td>\n",
       "      <td>Female</td>\n",
       "      <td>49</td>\n",
       "      <td>Returning</td>\n",
       "      <td>Business</td>\n",
       "      <td>Business</td>\n",
       "      <td>3470</td>\n",
       "      <td>0</td>\n",
       "      <td>1.0</td>\n",
       "      <td>3</td>\n",
       "      <td>...</td>\n",
       "      <td>3</td>\n",
       "      <td>4</td>\n",
       "      <td>4</td>\n",
       "      <td>5</td>\n",
       "      <td>4</td>\n",
       "      <td>3</td>\n",
       "      <td>3</td>\n",
       "      <td>3</td>\n",
       "      <td>3</td>\n",
       "      <td>Satisfied</td>\n",
       "    </tr>\n",
       "  </tbody>\n",
       "</table>\n",
       "<p>5 rows × 24 columns</p>\n",
       "</div>"
      ],
      "text/plain": [
       "   ID  Gender  Age Customer Type Type of Travel     Class  Flight Distance  \\\n",
       "0   1    Male   48    First-time       Business  Business              821   \n",
       "1   2  Female   35     Returning       Business  Business              821   \n",
       "2   3    Male   41     Returning       Business  Business              853   \n",
       "3   4    Male   50     Returning       Business  Business             1905   \n",
       "4   5  Female   49     Returning       Business  Business             3470   \n",
       "\n",
       "   Departure Delay  Arrival Delay  Departure and Arrival Time Convenience  \\\n",
       "0                2            5.0                                       3   \n",
       "1               26           39.0                                       2   \n",
       "2                0            0.0                                       4   \n",
       "3                0            0.0                                       2   \n",
       "4                0            1.0                                       3   \n",
       "\n",
       "   ...  On-board Service  Seat Comfort  Leg Room Service  Cleanliness  \\\n",
       "0  ...                 3             5                 2            5   \n",
       "1  ...                 5             4                 5            5   \n",
       "2  ...                 3             5                 3            5   \n",
       "3  ...                 5             5                 5            4   \n",
       "4  ...                 3             4                 4            5   \n",
       "\n",
       "   Food and Drink  In-flight Service  In-flight Wifi Service  \\\n",
       "0               5                  5                       3   \n",
       "1               3                  5                       2   \n",
       "2               5                  3                       4   \n",
       "3               4                  5                       2   \n",
       "4               4                  3                       3   \n",
       "\n",
       "   In-flight Entertainment  Baggage Handling             Satisfaction  \n",
       "0                        5                 5  Neutral or Dissatisfied  \n",
       "1                        5                 5                Satisfied  \n",
       "2                        3                 3                Satisfied  \n",
       "3                        5                 5                Satisfied  \n",
       "4                        3                 3                Satisfied  \n",
       "\n",
       "[5 rows x 24 columns]"
      ]
     },
<<<<<<< HEAD
     "execution_count": 3,
=======
     "execution_count": 55,
>>>>>>> 2340e33fc88fd5bd600ee7643b6b87380f722fd3
     "metadata": {},
     "output_type": "execute_result"
    }
   ],
   "source": [
<<<<<<< HEAD
    "#to import dataset into df and take a look at the first 5 rows of the data:\n",
=======
    "# import dataset into df and take a look at the first 5 rows of the data:\n",
>>>>>>> 2340e33fc88fd5bd600ee7643b6b87380f722fd3
    "\n",
    "df = pd.read_csv('./data/raw/airline_passenger_satisfaction.csv')\n",
    "df.head()"
   ]
  },
  {
   "cell_type": "markdown",
   "metadata": {},
   "source": [
<<<<<<< HEAD
    "## Data exploration and cleaning"
=======
    "### Data exploration and cleaning"
>>>>>>> 2340e33fc88fd5bd600ee7643b6b87380f722fd3
   ]
  },
  {
   "cell_type": "code",
<<<<<<< HEAD
   "execution_count": 4,
=======
   "execution_count": 56,
>>>>>>> 2340e33fc88fd5bd600ee7643b6b87380f722fd3
   "metadata": {},
   "outputs": [
    {
     "data": {
      "text/plain": [
       "(129880, 24)"
      ]
     },
<<<<<<< HEAD
     "execution_count": 4,
=======
     "execution_count": 56,
>>>>>>> 2340e33fc88fd5bd600ee7643b6b87380f722fd3
     "metadata": {},
     "output_type": "execute_result"
    }
   ],
   "source": [
    "#to check how many rows and columns our dataframe has:\n",
    "df.shape"
   ]
  },
  {
   "cell_type": "code",
<<<<<<< HEAD
   "execution_count": 5,
=======
   "execution_count": 57,
>>>>>>> 2340e33fc88fd5bd600ee7643b6b87380f722fd3
   "metadata": {},
   "outputs": [
    {
     "data": {
      "text/plain": [
       "Index(['ID', 'Gender', 'Age', 'Customer Type', 'Type of Travel', 'Class',\n",
       "       'Flight Distance', 'Departure Delay', 'Arrival Delay',\n",
       "       'Departure and Arrival Time Convenience', 'Ease of Online Booking',\n",
       "       'Check-in Service', 'Online Boarding', 'Gate Location',\n",
       "       'On-board Service', 'Seat Comfort', 'Leg Room Service', 'Cleanliness',\n",
       "       'Food and Drink', 'In-flight Service', 'In-flight Wifi Service',\n",
       "       'In-flight Entertainment', 'Baggage Handling', 'Satisfaction'],\n",
       "      dtype='object')"
      ]
     },
<<<<<<< HEAD
     "execution_count": 5,
=======
     "execution_count": 57,
>>>>>>> 2340e33fc88fd5bd600ee7643b6b87380f722fd3
     "metadata": {},
     "output_type": "execute_result"
    }
   ],
   "source": [
    "# to see what columns look like\n",
    "df.columns"
   ]
  },
  {
   "cell_type": "code",
<<<<<<< HEAD
   "execution_count": 6,
=======
   "execution_count": 58,
>>>>>>> 2340e33fc88fd5bd600ee7643b6b87380f722fd3
   "metadata": {},
   "outputs": [
    {
     "data": {
      "text/plain": [
       "ID                                          0\n",
       "Gender                                      0\n",
       "Age                                         0\n",
       "Customer Type                               0\n",
       "Type of Travel                              0\n",
       "Class                                       0\n",
       "Flight Distance                             0\n",
       "Departure Delay                             0\n",
       "Arrival Delay                             393\n",
       "Departure and Arrival Time Convenience      0\n",
       "Ease of Online Booking                      0\n",
       "Check-in Service                            0\n",
       "Online Boarding                             0\n",
       "Gate Location                               0\n",
       "On-board Service                            0\n",
       "Seat Comfort                                0\n",
       "Leg Room Service                            0\n",
       "Cleanliness                                 0\n",
       "Food and Drink                              0\n",
       "In-flight Service                           0\n",
       "In-flight Wifi Service                      0\n",
       "In-flight Entertainment                     0\n",
       "Baggage Handling                            0\n",
       "Satisfaction                                0\n",
       "dtype: int64"
      ]
     },
<<<<<<< HEAD
     "execution_count": 6,
=======
     "execution_count": 58,
>>>>>>> 2340e33fc88fd5bd600ee7643b6b87380f722fd3
     "metadata": {},
     "output_type": "execute_result"
    }
   ],
   "source": [
    "# to explore how many null values we have: \n",
    "df.isnull().sum()"
   ]
  },
  {
   "cell_type": "code",
<<<<<<< HEAD
   "execution_count": 7,
=======
   "execution_count": 59,
>>>>>>> 2340e33fc88fd5bd600ee7643b6b87380f722fd3
   "metadata": {},
   "outputs": [],
   "source": [
    "#to remove null values from dataset\n",
    "\n",
    "df.dropna(subset=['Arrival Delay'], inplace=True)"
   ]
  },
  {
   "cell_type": "code",
<<<<<<< HEAD
   "execution_count": 8,
=======
   "execution_count": 60,
>>>>>>> 2340e33fc88fd5bd600ee7643b6b87380f722fd3
   "metadata": {},
   "outputs": [
    {
     "data": {
      "text/plain": [
       "ID                                        0\n",
       "Gender                                    0\n",
       "Age                                       0\n",
       "Customer Type                             0\n",
       "Type of Travel                            0\n",
       "Class                                     0\n",
       "Flight Distance                           0\n",
       "Departure Delay                           0\n",
       "Arrival Delay                             0\n",
       "Departure and Arrival Time Convenience    0\n",
       "Ease of Online Booking                    0\n",
       "Check-in Service                          0\n",
       "Online Boarding                           0\n",
       "Gate Location                             0\n",
       "On-board Service                          0\n",
       "Seat Comfort                              0\n",
       "Leg Room Service                          0\n",
       "Cleanliness                               0\n",
       "Food and Drink                            0\n",
       "In-flight Service                         0\n",
       "In-flight Wifi Service                    0\n",
       "In-flight Entertainment                   0\n",
       "Baggage Handling                          0\n",
       "Satisfaction                              0\n",
       "dtype: int64"
      ]
     },
<<<<<<< HEAD
     "execution_count": 8,
=======
     "execution_count": 60,
>>>>>>> 2340e33fc88fd5bd600ee7643b6b87380f722fd3
     "metadata": {},
     "output_type": "execute_result"
    }
   ],
   "source": [
<<<<<<< HEAD
    "#to check for null values again\n",
=======
    "#to check for null values\n",
>>>>>>> 2340e33fc88fd5bd600ee7643b6b87380f722fd3
    "\n",
    "df.isnull().sum()"
   ]
  },
  {
   "cell_type": "code",
<<<<<<< HEAD
   "execution_count": 9,
=======
   "execution_count": 61,
>>>>>>> 2340e33fc88fd5bd600ee7643b6b87380f722fd3
   "metadata": {},
   "outputs": [
    {
     "data": {
      "text/plain": [
       "0"
      ]
     },
<<<<<<< HEAD
     "execution_count": 9,
=======
     "execution_count": 61,
>>>>>>> 2340e33fc88fd5bd600ee7643b6b87380f722fd3
     "metadata": {},
     "output_type": "execute_result"
    }
   ],
   "source": [
    "#to check for duplicates\n",
    "\n",
    "df.duplicated().sum()"
   ]
  },
  {
   "cell_type": "markdown",
   "metadata": {},
   "source": [
<<<<<<< HEAD
    "## Exploratory Analysis\n",
    "In this part of our project we will explore the data, correlation between different services and their impact to satisfaction, flying patterns for distance, and other questions to understand, how company can improve its satisfaction score. "
   ]
  },
  {
   "cell_type": "markdown",
   "metadata": {},
   "source": [
    "### What percentage of airline passengers are satisfied?\n",
    "To answer this question we will be comparing the number of satisfied and neutral or dissatisfied customers. "
=======
    "### What percentage of airline passengers are satisfied?"
>>>>>>> 2340e33fc88fd5bd600ee7643b6b87380f722fd3
   ]
  },
  {
   "cell_type": "code",
<<<<<<< HEAD
   "execution_count": 10,
=======
   "execution_count": 62,
>>>>>>> 2340e33fc88fd5bd600ee7643b6b87380f722fd3
   "metadata": {},
   "outputs": [
    {
     "name": "stdout",
     "output_type": "stream",
     "text": [
      "Neutral or Dissatisfied    56.55\n",
      "Satisfied                  43.45\n",
      "Name: Satisfaction, dtype: float64\n"
     ]
    }
   ],
   "source": [
    "#to calculate the percentage of satisfied customers: \n",
    "\n",
    "satisf = df['Satisfaction'].value_counts()\n",
    "satisf_percentages = round(satisf / satisf.sum() * 100, 2)\n",
    "\n",
    "print(satisf_percentages)\n",
    "\n"
   ]
  },
  {
   "cell_type": "code",
<<<<<<< HEAD
   "execution_count": 11,
=======
   "execution_count": 63,
>>>>>>> 2340e33fc88fd5bd600ee7643b6b87380f722fd3
   "metadata": {},
   "outputs": [
    {
     "data": {
<<<<<<< HEAD
      "image/png": "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",
=======
      "image/png": "iVBORw0KGgoAAAANSUhEUgAAAeIAAAH4CAYAAACWpO5eAAAAOXRFWHRTb2Z0d2FyZQBNYXRwbG90bGliIHZlcnNpb24zLjkuMCwgaHR0cHM6Ly9tYXRwbG90bGliLm9yZy80BEi2AAAACXBIWXMAAA9hAAAPYQGoP6dpAABaUUlEQVR4nO3deXhTVf4G8PdmT/dS2tJCaaGl7Isssgll06qAKDvqKKCAOiAjM6PjuIA6gjijoKggzgjI4A9FQXEBBAFlE9lFwFIKLaUL3fe02c7vj9oMoS200PYmue/nefpAk5t7vzdJ8+ace869khBCgIiIiGShkrsAIiIiJWMQExERyYhBTEREJCMGMRERkYwYxERERDJiEBMREcmIQUxERCQjBjEREZGMGMREREQyYhCT29u6dSt69OgBg8EASZJQUFAgd0nYvXs3JEnC7t276/U4q9WKp59+GhEREVCpVLj33nsBAJIkYcGCBbLXdz31qXPBggWQJMnptqioKEydOrVBayJydQziK6xevRqSJDl+DAYDYmNjMXv2bFy+fFnu8m7a6dOnsWDBAiQnJ8tdSoPJzc3FxIkTYTQa8e6772Lt2rXw9vaudfmTJ09i/PjxiIyMhMFgQMuWLXH77bdj2bJlN7T99957D6tXr77B6qv78MMP8c9//hPjx4/HmjVr8NRTTzXYum/We++9B0mS0LdvX7lLaXBVX0yqfrRaLdq2bYuHHnoI58+fl7s88nAauQtwRS+//DLatGmD8vJy7N27F8uXL8e3336LX3/9FV5eXnKXd8NOnz6Nl156CUOGDEFUVJTc5TSIQ4cOobi4GK+88gpGjBhxzWX379+PoUOHonXr1pgxYwZatGiB1NRU/PTTT3jrrbcwZ86cem//vffeQ/Pmzau14gYPHgyTyQSdTlev9e3cuRMtW7bEkiVLnG43mUzQaOT9c123bh2ioqLw888/49y5c4iJiam2zM3WmZCQAJVKvvbBk08+iT59+sBiseDo0aNYuXIlvvnmG5w8eRLh4eGy1UWejUFcg7vuugu9e/cGADz66KMICgrCm2++iS+//BJTpky5qXWXlZW5dZi7mqysLABAQEDAdZd99dVX4e/vj0OHDlVbvmo9DUWlUsFgMNT7cVlZWTXuy42sqyFduHAB+/fvx8aNGzFr1iysW7cO8+fPr7ZcXeosLS2ttddCr9ffdK03Y9CgQRg/fjwAYNq0aYiNjcWTTz6JNWvW4Nlnn5W1NnchhEB5eTmMRqPcpbgNdk3XwbBhwwBUfhhV+e9//4tevXrBaDSiWbNmmDx5MlJTU50eN2TIEHTp0gVHjhzB4MGD4eXlhb///e8AgPLycixYsACxsbEwGAwICwvD2LFjkZSU5Hi83W7H0qVL0blzZxgMBoSGhmLWrFnIz8932k5UVBRGjRqFvXv34tZbb4XBYEDbtm3x0UcfOZZZvXo1JkyYAAAYOnSoowuu6hjhl19+iZEjRyI8PBx6vR7R0dF45ZVXYLPZqj0f7777Ltq2bQuj0Yhbb70Ve/bswZAhQzBkyBCn5SoqKjB//nzExMRAr9cjIiICTz/9NCoqKur0vG/YsMHxHDdv3hwPPvgg0tLSnJ7fhx9+GADQp08fSJJ0zeOLSUlJ6Ny5c41BFxIS4vT7qlWrMGzYMISEhECv16NTp05Yvny50zJRUVE4deoUfvjhB8fzWfUc1HQMNjExEePGjUOLFi1gMBjQqlUrTJ48GYWFhUhOToYkSdi1axdOnTpV7fWp6dhrWloapk+fjtDQUOj1enTu3BkffvhhtX27dOkS7r33Xnh7eyMkJARPPfVUnV+DKuvWrUNgYCBGjhyJ8ePHY926dTUud3WdVceBT58+jfvvvx+BgYG47bbbat3O1ceIqw4X7du3D/PmzUNwcDC8vb1x3333ITs7u9rjt2zZgkGDBsHb2xu+vr4YOXIkTp06Va99vdLVf/t1eV8AwOHDhxEfH4/mzZvDaDSiTZs2mD59utMy69evR69eveDr6ws/Pz907doVb731ltMyBQUF+NOf/oSIiAjo9XrExMRg8eLFsNvtjmWq3jv/+te/sHLlSkRHR0Ov16NPnz44dOhQtdo2bNiATp06wWAwoEuXLti0aROmTp1arZesvp8/27ZtQ+/evWE0GvH+++8DALZv347bbrsNAQEB8PHxQfv27R2fgfQ/bBHXQVU4BgUFAahsWb3wwguYOHEiHn30UWRnZ2PZsmUYPHgwjh075vRBn5ubi7vuuguTJ0/Ggw8+iNDQUNhsNowaNQrff/89Jk+ejLlz56K4uBjbt2/Hr7/+iujoaADArFmzsHr1akybNg1PPvkkLly4gHfeeQfHjh3Dvn37oNVqHds5d+4cxo8fj0ceeQQPP/wwPvzwQ0ydOhW9evVC586dMXjwYDz55JN4++238fe//x0dO3YEAMe/q1evho+PD+bNmwcfHx/s3LkTL774IoqKivDPf/7TsZ3ly5dj9uzZGDRoEJ566ikkJyfj3nvvRWBgIFq1auVYzm6345577sHevXsxc+ZMdOzYESdPnsSSJUtw9uxZfPHFF9d8zqv2u0+fPli0aBEuX76Mt956C/v27XM8x8899xzat2+PlStXOg4nVD13NYmMjMSBAwfw66+/okuXLtfc/vLly9G5c2fcc8890Gg0+Oqrr/DEE0/Abrfjj3/8IwBg6dKlmDNnDnx8fPDcc88BAEJDQ2tcn9lsRnx8PCoqKjBnzhy0aNECaWlp+Prrr1FQUIDg4GCsXbsWr776KkpKSrBo0SKn1+dqly9fRr9+/SBJEmbPno3g4GBs2bIFjzzyCIqKivCnP/0JQGVX8fDhw3Hx4kU8+eSTCA8Px9q1a7Fz585r7v/V1q1bh7Fjx0Kn02HKlClYvnw5Dh06hD59+tTp8RMmTEC7du2wcOFC3MiVV+fMmYPAwEDMnz8fycnJWLp0KWbPno1PPvnEsczatWvx8MMPIz4+HosXL0ZZWRmWL1+O2267DceOHbuhwzFX/+3X5X2RlZWFO+64A8HBwfjb3/6GgIAAJCcnY+PGjY71bt++HVOmTMHw4cOxePFiAMCZM2ewb98+zJ07F0Bl71lcXBzS0tIwa9YstG7dGvv378ezzz6LjIwMLF261KnWjz/+GMXFxZg1axYkScLrr7+OsWPH4vz5847Pim+++QaTJk1C165dsWjRIuTn5+ORRx5By5Ytq+17fT5/EhISMGXKFMyaNQszZsxA+/btcerUKYwaNQrdunXDyy+/DL1ej3PnzmHfvn31fh08niCHVatWCQBix44dIjs7W6Smpor169eLoKAgYTQaxaVLl0RycrJQq9Xi1VdfdXrsyZMnhUajcbo9Li5OABArVqxwWvbDDz8UAMSbb75ZrQa73S6EEGLPnj0CgFi3bp3T/Vu3bq12e2RkpAAgfvzxR8dtWVlZQq/Xiz//+c+O2zZs2CAAiF27dlXbbllZWbXbZs2aJby8vER5ebkQQoiKigoRFBQk+vTpIywWi2O51atXCwAiLi7OcdvatWuFSqUSe/bscVrnihUrBACxb9++aturYjabRUhIiOjSpYswmUyO27/++msBQLz44ouO26pes0OHDtW6virfffedUKvVQq1Wi/79+4unn35abNu2TZjN5jo9H/Hx8aJt27ZOt3Xu3Nlpv6vs2rXL6bk+duyYACA2bNhwzRrj4uJE586dq90OQMyfP9/x+yOPPCLCwsJETk6O03KTJ08W/v7+jvqXLl0qAIhPP/3UsUxpaamIiYmp9b1wtcOHDwsAYvv27UKIyvdoq1atxNy5c69b5/z58wUAMWXKlGrLVt13pcjISPHwww87fq96fUeMGOH42xBCiKeeekqo1WpRUFAghBCiuLhYBAQEiBkzZjitLzMzU/j7+1e7/WpVr9eHH34osrOzRXp6uvjmm29EVFSUkCTJ8f6qy/ti06ZN131Pzp07V/j5+Qmr1VrrMq+88orw9vYWZ8+edbr9b3/7m1Cr1eLixYtCCCEuXLggAIigoCCRl5fnWO7LL78UAMRXX33luK1r166iVatWori42HHb7t27BQARGRnpuO1GPn+2bt3qtOySJUsEAJGdnV3rPlIldk3XYMSIEQgODkZERAQmT54MHx8fbNq0CS1btsTGjRtht9sxceJE5OTkOH5atGiBdu3aYdeuXU7r0uv1mDZtmtNtn3/+OZo3b17j4KCq6RwbNmyAv78/br/9dqft9OrVCz4+PtW206lTJwwaNMjxe3BwMNq3b1/nEZ9XHs8pLi5GTk4OBg0ahLKyMvz2228AKrvbcnNzMWPGDKcBOQ888AACAwOd1rdhwwZ07NgRHTp0cKq/qqvv6vqvdPjwYWRlZeGJJ55wOuY4cuRIdOjQAd98802d9ulqt99+Ow4cOIB77rkHJ06cwOuvv474+Hi0bNkSmzdvrvX5KCwsRE5ODuLi4nD+/HkUFhbWe9v+/v4AgG3btqGsrOyG6q8ihMDnn3+O0aNHQwjh9PzGx8ejsLAQR48eBQB8++23CAsLcxz3BAAvLy/MnDmzzttbt24dQkNDMXToUACV79FJkyZh/fr1NR66qMljjz1Wjz2sbubMmU5TnQYNGgSbzYaUlBQAlS3MgoICTJkyxen5UKvV6Nu37zXfb1eaPn06goODER4ejpEjR6K0tBRr1qxxjBmpy/uiqkfs66+/hsViqXE7AQEBKC0txfbt22utZcOGDRg0aBACAwOd9mnEiBGw2Wz48ccfnZafNGmS099h1edB1WdAeno6Tp48iYceegg+Pj6O5eLi4tC1a9dq267P50+bNm0QHx9fbR+BysNeV3alU3Xsmq7Bu+++i9jYWGg0GoSGhqJ9+/aOkZyJiYkQQqBdu3Y1PvbK7hoAaNmyZbWRs0lJSWjfvv01R5cmJiaisLCw2rHLKlcPLmrdunW1ZQIDA6sdz6nNqVOn8Pzzz2Pnzp0oKipyuq/qA6bqQ+/q0bIajaZat19iYiLOnDmD4ODgOtV/parttG/fvtp9HTp0wN69e6+9M9fQp08fbNy4EWazGSdOnMCmTZuwZMkSjB8/HsePH0enTp0AAPv27cP8+fNx4MCBasFZWFjoCNa6atOmDebNm4c333wT69atw6BBg3DPPffgwQcfrPe6srOzUVBQgJUrV2LlypU1LlP1/KakpCAmJqbafN2antua2Gw2rF+/HkOHDnUaI9G3b1+88cYb+P7773HHHXdcdz1t2rSp0/Zqc/X7uypwqt7fiYmJAP53TPdqfn5+ddrOiy++iEGDBkGtVqN58+bo2LGj099pXd4XcXFxGDduHF566SUsWbIEQ4YMwb333ov777/fMRjtiSeewKeffoq77roLLVu2xB133IGJEyfizjvvdKwvMTERv/zyS53/hq73HNX291t1W9WXt6pt1+fzp6bXd9KkSfj3v/+NRx99FH/7298wfPhwjB07FuPHj5d1ZLwrYhDX4NZbb3V8A76a3W6HJEnYsmUL1Gp1tfuv/KYJ4IZHDtrtdoSEhNQ6KObqP86aagFQp+NxBQUFiIuLg5+fH15++WVER0fDYDDg6NGjeOaZZ27o26zdbkfXrl3x5ptv1nh/REREvdfZkHQ6Hfr06YM+ffogNjYW06ZNw4YNGzB//nwkJSVh+PDh6NChA958801ERERAp9Ph22+/xZIlS2742/0bb7yBqVOn4ssvv8R3332HJ598EosWLcJPP/3kdHz9eqq2/+CDDzoGq12tW7duN1Tj1Xbu3ImMjAysX78e69evr3b/unXr6hTENzuC9nrv76rnZO3atWjRokW15eo6papr1661ToOr6/tCkiR89tln+Omnn/DVV19h27ZtmD59Ot544w389NNP8PHxQUhICI4fP45t27Zhy5Yt2LJlC1atWoWHHnoIa9ascezT7bffjqeffrrGemJjY51+v5nPgKvV9/OnptfXaDTixx9/xK5du/DNN99g69at+OSTTzBs2DB89913tdarRAzieoqOjoYQAm3atKn2h1CfdRw8eBAWi6VaC/rKZXbs2IGBAwc22DSAq1tFVXbv3o3c3Fxs3LgRgwcPdtx+ZQsIqBzsBFQODKvqpgQqzwaVnJzs9OEfHR2NEydOYPjw4bVutzZV20lISKjWwklISHDc31CqvnRlZGQAAL766itUVFRg8+bNTq2Mmro367tvXbt2RdeuXfH8889j//79GDhwIFasWIF//OMfdV5HcHAwfH19YbPZrjt3OjIyEr/++iuEEE61JiQk1Glb69atQ0hICN59991q923cuBGbNm3CihUrZJ+qUjVILyQk5LrPyY2qz/sCAPr164d+/frh1Vdfxccff4wHHngA69evx6OPPgqg8svg6NGjMXr0aNjtdjzxxBN4//338cILLyAmJgbR0dEoKSlpsP258u/3alff1lCfPyqVCsOHD8fw4cPx5ptvYuHChXjuueewa9euRnud3BH7B+pp7NixUKvVeOmll6p90xRCIDc397rrGDduHHJycvDOO+9Uu69qnRMnToTNZsMrr7xSbRmr1XpDp3Gsmrt59WOrvpleuT9msxnvvfee03K9e/dGUFAQPvjgA1itVsft69atq9YFPnHiRKSlpeGDDz6oVofJZEJpaWmtdfbu3RshISFYsWKF0zSbLVu24MyZMxg5cuR19rRmu3btqrF18O233wL4X3dtTc9HYWEhVq1aVe2x3t7edXotioqKnJ4zoDKUVSpVvacSqdVqjBs3Dp9//jl+/fXXavdfOa3n7rvvRnp6Oj777DPHbWVlZbV2aV/JZDJh48aNGDVqFMaPH1/tZ/bs2SguLq52fF0O8fHx8PPzw8KFC2s8LlvTVKf6quv7Ij8/v9r7rEePHgDgeK2v/pxQqVSOL7JVy0ycOBEHDhzAtm3bqtVSUFBQ7f10PeHh4ejSpQs++ugjlJSUOG7/4YcfcPLkSadlG+LzJy8vr9ptVz8PVIkt4nqKjo7GP/7xDzz77LOOqTu+vr64cOECNm3ahJkzZ+Ivf/nLNdfx0EMP4aOPPsK8efPw888/Y9CgQSgtLcWOHTvwxBNPYMyYMYiLi8OsWbOwaNEiHD9+HHfccQe0Wi0SExOxYcMGvPXWW04DcOqiR48eUKvVWLx4MQoLC6HX6zFs2DAMGDAAgYGBePjhh/Hkk09CkiSsXbu22oeJTqfDggULMGfOHAwbNgwTJ05EcnIyVq9ejejoaKcW1x/+8Ad8+umneOyxx7Br1y4MHDgQNpsNv/32Gz799FPHnMOaaLVaLF68GNOmTUNcXBymTJnimL4UFRV1w6d9nDNnDsrKynDfffehQ4cOMJvN2L9/Pz755BNERUU5BtXdcccdjtbKrFmzUFJSgg8++AAhISGOVnOVXr16Yfny5fjHP/6BmJgYhISE1HiccufOnZg9ezYmTJiA2NhYWK1WrF271hGq9fXaa69h165d6Nu3L2bMmIFOnTohLy8PR48exY4dOxwfgjNmzMA777yDhx56CEeOHEFYWBjWrl1bp5PKbN68GcXFxbjnnntqvL9fv34IDg7GunXrMGnSpHrvQ0Py8/PD8uXL8Yc//AE9e/bE5MmTERwcjIsXL+Kbb77BwIEDa/ziWx91fV+sWbMG7733Hu677z5ER0ejuLgYH3zwAfz8/HD33XcDqDxRUF5eHoYNG4ZWrVohJSUFy5YtQ48ePRxT1v76179i8+bNGDVqlGMqYmlpKU6ePInPPvsMycnJaN68eb32YeHChRgzZgwGDhyIadOmIT8/H++88w66dOniFM4N8fnz8ssv48cff8TIkSMRGRmJrKwsvPfee2jVqtU155IrUpOP03Zh9ZkK8/nnn4vbbrtNeHt7C29vb9GhQwfxxz/+USQkJDiWqW0qihCV0yCee+450aZNG6HVakWLFi3E+PHjRVJSktNyK1euFL169RJGo1H4+vqKrl27iqefflqkp6c7lomMjBQjR46sto24uLhqU2s++OAD0bZtW6FWq52mr+zbt0/069dPGI1GER4e7pjagxqmuLz99tsiMjJS6PV6ceutt4p9+/aJXr16iTvvvNNpObPZLBYvXiw6d+4s9Hq9CAwMFL169RIvvfSSKCwsvN5TLD755BNxyy23CL1eL5o1ayYeeOABcenSJadl6vOabdmyRUyfPl106NBB+Pj4CJ1OJ2JiYsScOXPE5cuXnZbdvHmz6NatmzAYDCIqKkosXrzYMe3swoULjuUyMzPFyJEjha+vr9MUrqunL50/f15Mnz5dREdHC4PBIJo1ayaGDh0qduzY4bTduk5fEkKIy5cviz/+8Y8iIiLC8R4aPny4WLlypdNyKSkp4p577hFeXl6iefPmYu7cuY5pKNeavjR69GhhMBhEaWlprctMnTpVaLVaxzSqq+usmqJU0xSW+kxfuvr1vfr5vfL2+Ph44e/vLwwGg4iOjhZTp04Vhw8frnUfrlzf9aaX1eV9cfToUTFlyhTRunVrodfrRUhIiBg1apRTDZ999pm44447REhIiNDpdKJ169Zi1qxZIiMjw2l7xcXF4tlnnxUxMTFCp9OJ5s2biwEDBoh//etfjml3VdOX/vnPf1art6b3zfr160WHDh2EXq8XXbp0EZs3bxbjxo0THTp0qPb4m/n8+f7778WYMWNEeHi40Ol0Ijw8XEyZMqXadCwSQhLiBo7kE13BbrcjODgYY8eOrbErmohcW48ePRAcHHzN6VTUeHiMmOqlvLy8Wpf1Rx99hLy8vGqnuCQi12KxWKodW969ezdOnDjBv18ZsUVM9bJ792489dRTmDBhAoKCgnD06FH85z//QceOHXHkyJF6X22IiJpOcnIyRowYgQcffBDh4eH47bffsGLFCvj7++PXX391nMqTmhYHa1G9REVFISIiAm+//Tby8vLQrFkzPPTQQ3jttdcYwkQuLjAwEL169cK///1vZGdnw9vbGyNHjsRrr73GEJYRW8REREQy4jFiIiIiGTGIiYiIZMQgJiIikhGDmIiISEYMYiIiIhkxiImIiGTEICYiIpIRg5iIiEhGDGIiIiIZMYiJiIhkxCAmIiKSEYOYiIhIRgxiIiIiGTGIiYiIZMQgJiIikhGDmIiISEYMYiIiIhkxiImIiGTEICYiIpIRg5iIiEhGDGIiIiIZMYiJiIhkxCAmIiKSEYOYiIhIRgxiIiIiGTGIiYiIZMQgJiIikhGDmIiISEYMYhns3r0bkiShoKBA7lKcTJ06Fffee69s21+9ejUCAgLqvPwXX3yBmJgYqNVq/OlPf6r342sjSRK++OKLm14PEVFduG0QT506FZIk4bXXXnO6/YsvvoAkSQ26reTkZEiShOPHjzfoeptCVehLkgSVSgV/f3/ccsstePrpp5GRkeG07FtvvYXVq1c3SV1RUVFYunSp022TJk3C2bNn67yOWbNmYfz48UhNTcUrr7xS78cTEbkCtw1iADAYDFi8eDHy8/PlLgUAYDabXXbbCQkJSE9Px6FDh/DMM89gx44d6NKlC06ePOlYxt/fv0FalDfKaDQiJCSkTsuWlJQgKysL8fHxCA8Ph6+vb70eT0TkKtw6iEeMGIEWLVpg0aJF11xu7969GDRoEIxGIyIiIvDkk0+itLTUcX9NXZEBAQGO1mGbNm0AALfccgskScKQIUMA/K8r99VXX0V4eDjat28PAFi7di169+4NX19ftGjRAvfffz+ysrLqtW8XL17EmDFj4OPjAz8/P0ycOBGXL1923L9gwQL06NED//73v9GmTRsYDIZrri8kJAQtWrRAbGwsJk+ejH379iE4OBiPP/64Y5mru6Y/++wzdO3aFUajEUFBQRgxYoTjedu9ezduvfVWeHt7IyAgAAMHDkRKSgoAICkpCWPGjEFoaCh8fHzQp08f7Nixw7HeIUOGICUlBU899ZSjtQ5U75o+ceIEhg4dCl9fX/j5+aFXr144fPgwdu/eDV9fXwDAsGHDIEkSdu/eXWPX9JdffomePXvCYDCgbdu2eOmll2C1Wh33JyYmYvDgwTAYDOjUqRO2b99eh1eHiKjhuHUQq9VqLFy4EMuWLcOlS5dqXCYpKQl33nknxo0bh19++QWffPIJ9u7di9mzZ9d5Oz///DMAYMeOHcjIyMDGjRsd933//fdISEjA9u3b8fXXXwMALBYLXnnlFZw4cQJffPEFkpOTMXXq1Dpvz263Y8yYMcjLy8MPP/yA7du34/z585g0aZLTcufOncPnn3+OjRs31rvb3Gg04rHHHsO+fftq/JKQkZGBKVOmYPr06Thz5gx2796NsWPHQggBq9WKe++9F3Fxcfjll19w4MABzJw50xGoJSUluPvuu/H999/j2LFjuPPOOzF69GhcvHgRALBx40a0atUKL7/8MjIyMqp1kVd54IEH0KpVKxw6dAhHjhzB3/72N2i1WgwYMAAJCQkAgM8//xwZGRkYMGBAtcfv2bMHDz30EObOnYvTp0/j/fffx+rVq/Hqq686nuexY8dCp9Ph4MGDWLFiBZ555pl6PY9ERDdNuKmHH35YjBkzRgghRL9+/cT06dOFEEJs2rRJXLlbjzzyiJg5c6bTY/fs2SNUKpUwmUxCCCEAiE2bNjkt4+/vL1atWiWEEOLChQsCgDh27Fi1GkJDQ0VFRcU1az106JAAIIqLi4UQQuzatUsAEPn5+TUu/9133wm1Wi0uXrzouO3UqVMCgPj555+FEELMnz9faLVakZWVdc1tX2tbW7ZsEQDEwYMHHftT9ZweOXJEABDJycnVHpebmysAiN27d19z21fq3LmzWLZsmeP3yMhIsWTJEqdlVq1aJfz9/R2/+/r6itWrV9e4vvz8fAFA7Nq1q9bHDx8+XCxcuNDpcWvXrhVhYWFCCCG2bdsmNBqNSEtLc9xf9Zxc/X4gImosbt0irrJ48WKsWbMGZ86cqXbfiRMnsHr1avj4+Dh+4uPjYbfbceHChZvedteuXaHT6ZxuO3LkCEaPHo3WrVvD19cXcXFxAOBoEV7PmTNnEBERgYiICMdtnTp1QkBAgNM+RkZGIjg4+IZrF0IAQI2D27p3747hw4eja9eumDBhAj744APHsfhmzZph6tSpiI+Px+jRo/HWW285tWpLSkrwl7/8BR07dkRAQAB8fHxw5syZOu9/lXnz5uHRRx/FiBEj8NprryEpKalejz9x4gRefvllp9d+xowZyMjIQFlZmeN5Dg8Pdzymf//+9doGEdHN8oggHjx4MOLj4/Hss89Wu6+kpASzZs3C8ePHHT8nTpxAYmIioqOjAVQGUVUoVbFYLHXatre3t9PvpaWliI+Ph5+fH9atW4dDhw5h06ZNABp+MNfV266vqlCPioqqdp9arcb27duxZcsWdOrUCcuWLUP79u0dX15WrVqFAwcOYMCAAfjkk08QGxuLn376CQDwl7/8BZs2bcLChQuxZ88eHD9+HF27dq33/i9YsACnTp3CyJEjsXPnTnTq1MnxXNZFSUkJXnrpJafX/uTJk0hMTLzuMXUioqaikbuAhvLaa6+hR48ejgFTVXr27InTp08jJiam1scGBwc7tegSExNRVlbm+L2qxWuz2a5bx2+//Ybc3Fy89tprjhbt4cOH67UvHTt2RGpqKlJTUx3rOH36NAoKCtCpU6d6ras2JpMJK1euxODBg2ttVUuShIEDB2LgwIF48cUXERkZiU2bNmHevHkAKgev3XLLLXj22WfRv39/fPzxx+jXrx/27duHqVOn4r777gNQGYjJyclO69bpdHV6PmNjYxEbG4unnnoKU6ZMwapVqxzrvZ6ePXsiISGh1te+6nnOyMhAWFgYADi+TBARNRWPaBEDlV3EDzzwAN5++22n25955hns378fs2fPxvHjx5GYmIgvv/zSabDWsGHD8M477+DYsWM4fPgwHnvsMWi1Wsf9ISEhMBqN2Lp1Ky5fvozCwsJa62jdujV0Oh2WLVuG8+fPY/PmzXjllVfqtS8jRoxw7M/Ro0fx888/46GHHkJcXBx69+5dr3VVycrKQmZmJhITE7F+/XoMHDgQOTk5WL58eY3LHzx4EAsXLsThw4dx8eJFbNy4EdnZ2ejYsSMuXLiAZ599FgcOHEBKSgq+++47JCYmomPHjgCAdu3aOQaQnThxAvfffz/sdrvT+qOiovDjjz8iLS0NOTk51bZvMpkwe/Zs7N69GykpKdi3bx8OHTrk2EZdvPjii/joo4/w0ksv4dSpUzhz5gzWr1+P559/HkDl8xwbG4uHH34YJ06cwJ49e/Dcc8/Vef1ERA1C7oPUN+rKgUVVLly4IHQ6nbh6t37++Wdx++23Cx8fH+Ht7S26desmXn31Vcf9aWlp4o477hDe3t6iXbt24ttvv3UarCWEEB988IGIiIgQKpVKxMXF1VqDEEJ8/PHHIioqSuj1etG/f3+xefNmp8Fe1xusJYQQKSkp4p577hHe3t7C19dXTJgwQWRmZjrunz9/vujevft1n6eqbQEQkiQJX19f0b17d/HXv/5VZGRkOC175f6cPn1axMfHi+DgYKHX60VsbKxjsFVmZqa49957RVhYmNDpdCIyMlK8+OKLwmazCSEqX4ehQ4cKo9EoIiIixDvvvCPi4uLE3LlzHds6cOCA6Natm9Dr9Y7X68rBVhUVFWLy5MkiIiJC6HQ6ER4eLmbPnu0YYFeXwVpCCLF161YxYMAAYTQahZ+fn7j11lvFypUrHfcnJCSI2267Teh0OhEbGyu2bt3KwVpE1KQkIa46OEpERERNxmO6pomIiNwRg5iIiEhGDGIiIiIZMYiJiIhkxCAmIiKSEYOYiIhIRgxiIiIiGTGIiYiIZMQgJiIikpHHXPSByB3ZhUC51Y5yqw0VNjvKrXZY7XbYhIDVLmATAjb77z9CwGqH4zYBAZUkQQIq/5UACZUX61BJgITKf9WSBJ1aBa1aBZ268v86lary399v06j4nZxILgxiokZiFwKlFhtKzFaUmK2VgWv7PXStdpTbbDDbXOMMsyoJ0KtV8NKq4aXVwFurhpdW7fjXS6Ou8brVRHTzeK5poptUbq0M22Jz1b9WlFisKDXb4Cl/XBIA4+/B7K1Vw0+vRYBeA3+9Flo1W9NEN4NBTFRHQgiUWGwoKLcgv9yCgnILCisssNiV/SfkpVHD31AZyv56DQL0Wnhp2YImqisGMVEtyq025JVbkGcyI//38LUqPHTrSqOS4K/XoJlBhyAvHYKMOujZciaqEYOY6HcVVhuyyszIKqtATpkZpRab3CV5FF+dGkFGHZp76RHspYNRo5a7JCKXwCAmxbLZBXJMZmSVViCrrAKFFVa5S1IUH60azb30CPHSIcRbDx1bzKRQDGJSDCEECiosyCqtbPXmmsxgT7NrkAAEGXUI89EjzMcAHx0ndJByMIjJowkhkGuyIK3YhPSScpisdrlLojrw1WkqQ9nbgGZGLQd+kUdjEJPHEaKyyzmtuBzpxeUotzF83ZlerUKotx7hPga08NFDxVAmD8MgJo8ghEB22e/hW1KOCoavR9KpJLT0NaK1vxFBRp3c5RA1CAYxubVisxXJBWW4WGRi+CqMt1aNCD8jWvsZeUyZ3BqDmNyO1S6QVmxCcmEZck0WucshF9DMoEVrfyNa+Ro5+prcDoOY3EZ+uQXJBWW4VGxS/NmsqGYqCQj3MSA60Jtd1+Q2GMTk0ix2Oy4WVrZ+Oc+X6iPQoEV0gBda+Rk5wItcGoOYXJLJYsO5/FIkF5ax9Us3Ra9WoU2AF9oEePFsXuSSGMTkUgorLEjMK0VqkcljrlxErkEC0NLXgJhAbzRjtzW5EAYxuYSs0gok5pficmmF3KWQAjQzaNE+yAdhPga5SyFiEJN87EIgrbgciXklKODxX5JBgEGLjgxkkhmDmJqcEAKpxeU4k1PMKxyRSwjQa9AhyBdhPnqeTpOaHIOYmlR6STlOZxejyMwWMLke/98DOZyBTE2IQUxNIrusAqeyi5FXzhNwkOurDGQftPQ1yl0KKQCDmBpVnsmM0znFyCozy10KUb0FGbXoGuzHUdbUqBjE1CiKK6w4lVOE9BKOgib3F+FnROfmvvDSch4yNTwGMTUoi92OMzklSMov5Txg8ihqSUK7Zt6IbeYNjYrns6aGwyCmBpNaZMLJrCJe/5c8mkGjQufmvmjtZ+SALmoQDGK6aYUVFpy4XIQcE48Dk3IEGLToHuyHIC8eP6abwyCmG2ax2XE6txjn88vYDU2KFeXvha7BvtDy8ot0gxjEdEMuFpbhZHYxKtgNTQSDRoUeIf4I9+UZuqj+GMRUL2UWK45kFiKb05GIqgn3MaBHqB8MvMoT1QODmOrsQkEZTmYXwcrLEhLVSquS0DXYD1EBXnKXQm6CQUzXZbLYcPRyIa+MRFQPwV463BLqDx+dRu5SyMUxiOmaUgrL8EtWESxsBRPVm1oCOgf7ISbQW+5SyIUxiKlG5VYbjl0uRAbPjEV001p469GrhT/0PHZMNWAQUzWXikw4nlUIs41vDaKGYlCr0DssACHeerlLIRfDICYHm13geFYhUgpNcpdC5LFim3mjU3NfqHhWLvodg5gAAEUVFvycXsDrBBM1gUCDFn3CAjiQiwAwiAmVA7KOXy6CjW8FoiajUUnoEeKH1v6c5qR0DGIFs9kFTmQVIpld0USyae1nxC2h/lCr2FWtVAxihSq1WHEwrQAFFRa5SyFSPH+9Bv1bBsJLy65qJWIQK1BmSTkOZxTAzLnBRC5Dp5Zwa1ggR1UrEINYYc7mluDXnGK5yyCiGkgAugT7ol0zH7lLoSbEIFYIuxA4fpnHg4ncQWs/I3q28OcUJ4VgECuA2WbHwfR8XjGJyI00M2jRr2Ugr+SkAAxiD1dqtmJ/Wh6KzTa5SyGiejJq1OjfMhABBq3cpVAjYhB7sFyTGT+l5aPCZpe7FCK6QRqVhH7hHMTlyRjEHiq1yIQjmQXgwGgi96eSgD5hAWjpa5S7FGoEDGIPdCanGGdyS+Qug4gaWI8QP7TlJRU9DoPYw/ySVYRz+aVyl0FEjaRDkA86NfeVuwxqQAxiDyGEwDFOTyJShDb+XugR6geJ05s8AoPYA9iFwOGMAlwqLpe7FCJqIuE+BvQJC+A5qj0Ag9jN2ewCP2fkI6OkQu5SiKiJBXvp0K9lILQqldyl0E1gELsxq13gp7Q8ZPFEHUSK1cygxW0RzaBhGLstBrGbstjs2J+Wh1wTr55EpHRBRh0GtgpkGLspvmpuyGyzY88lhjARVco1mbH/Uj6sPHGAW2IQuxmr3Y59l/JQUM4QJqL/yTGZcSAtDzaGsdthELsRm13gQFo+8hnCRFSD7DKGsTtiELsJuxC8ghIRXVdWmRk/pefDzuE/boNB7AbE7/OEM0s5RYmIru9yaQV+SmMYuwsGsRs4frmIJ+sgonrJLK3A4YwCcGKM62MQu7hfs4twobBM7jKIyA1dKi7Hr9nFcpdB18EgdmEJuSU4m8cLOBDRjUvML0USLwTj0hjELiq5sAyncvhNlohu3omsIqTz8JbLYhC7oOyyChzLLJS7DCLyIIcy8pFn4qwLV8QgdjElZisOpuWDwyuIqCHZBLA/LR8lZqvcpdBVGMQuxPz7+aPNnIxPRI3AbKs8M1+F1SZ3KXQFBrGLsAuBn9PzUWLmHwgRNZ5Siw370/J59i0XwiB2ESeying5QyJqEvnlFhy7zHEoroJB7AKS8ktxoYBzhYmo6VwsMnFak4tgEMsss7Qcv2QVyV0GESnQL1lFyOVIatkxiGVUarbiUHoBR0gTkSwEgIPp+Sjn4C1ZMYhlYhcCBzMKYOGACZfzybJ/YVyHcKefOXcNclom4dhhzH94Au6/JRoP9orF8w/eh4py0zXXm3s5A2/9dTYe7tsZU7q3xVOjh+HcyROO+7/8z3JMG9AV0wZ0xeYPVzg99uyJo/jr2HjYrJx6Qg2r3GrHwfQCXiBCRhq5C1Cqk1lFKOB1hV1WRLv2mP/hJ47f1Rq14/8Jxw7jHzMewH0zZ+OR5/8BtVqN5ITTUKlq/15bUliA56aMQZe+A/D8B/+FX7MgZCSfh4+/PwAgOeE01i/7J/6+4iMIIbDosYfRfWAcItt3hM1qxcoFz+Cxl/8JtYZ/stTwck1mnMwuQvcQf7lLUST+VcsgrdiEJA7OcmlqtRqBwSE13rfqtQW4+w+PYOzMOY7bWraNueb6Nv37XTQPC8fsRUsdt4W2au34f9r5c4hs3wld+90GAIhs3xFpF84hsn1HfPmf5ejYux9iuva48R0iuo6k/DI0M+gQ4WeUuxTFYdd0Eys1W3GUp690eRkpF/DooFvw+Ih+WPqXPyI7/RIAoDA3B4knjsK/WRD+Pnk0pg/shhceHIszRw5ec32Hd36H6C7d8a+5MzFtQFf85b7bsf3TdY77I2M7IiP5PLLTLyEr7RLSk8+jdbsOyLyYjJ0bP8H9c59p1P0lAoCjmYUoZE9dk5MEL1bZZOxC4IeLucjnG92lHf1xJ8rLShHeJhr5WVnY8O4byM3KxNLNu5B6LgHPTh4NH/9APPz0C4jq2Bk/fPkZtn68Bku+2onwqLY1rnNytzYAgNFTZ6L/naNw7uQJrFr4ImYueA1D75sIANi2/iN8vXolAGDU1JmIn/wQFkybiLsemAa71YZP3n0DGo0G0/7+Cjr36dc0TwYpjq9Og2GRzaFWSXKXohjsmm5CJ7OKGMJuoOfgYY7/R7XvhNjut+CxYbdi39bNaNW2HQDgjkkPYti4yQCAtp264pcDe7Hz8/V48M9/r3GdQtgR3bkbHpj3rOMxqYm/4bv1ax1BHD/5IcRPfsjxmF2bPoXR2wfte/TGnLsGYfGGb5GbmYEl8x7H8u9/glanb5T9J2UrNlvxa3YRuofyeHFTYdd0E0krLudxYTfl7eePsKi2yExJRmBIKACgVUys0zKtomOQk5FW6zoCgkOqPaZldLtaH1OUn4tP330Tjz7/DyT+chThUW0RHtUWXfsNhM1qQfqF8ze5V0S1Syoow+XSCrnLUAwGcRMwWWw4mlkgdxl0g0ylpbicmoLA4BCEtIxAs5AWSL+Q5LRMRvJ5BIe3qnUdHW7pU8tjWta4/KpFCzD64RkIahEOu80Om/V/PSk2mw12O+d9UuM6klkAs80udxmKwCBuAkcvF3K+sBtZs/glnPr5ALIupeK3o4fw+pzpUKlUuG3UfZAkCWMeeRzfrv0PDmz9GhkpF/B/b72OtPNJGD5+imMdC6ZOxLf//dDx++ipM3H2xFF8vuJtZKRcwJ6vNmL7p//FnQ9Mq7b9E/t+QEbyecd9MV27I+18Eo7+uBPfffJfqFQqhLeJbvwnghSt3GrnddGbCI8RN7LkQnbxuJvcyxlY8ucnUFyQD79mQejYqw8WffI1/JsFAQBGPTwD5opyrHptPkoKCxDVvhNe/PD/0KJ1lGMdmReTUZyf5/g9pmsPPL3sP1j35iJseG8JQlpFYNqzL2Pw6LFO264oN+HfrzyHeUtWOOYlB7UIxyPPv4J3//4UNDod5rz2FvQGTjGhxpdWUo6UwjJE+nvJXYpH46jpRmSy2LAjOZutYSJyWxqVhOFRzeGtZbutsbBruhGxS5qI3J3VLnA4oxBsszUeBnEjYZc0EXmKXJMZ53jJxEbDIG4EJosNJ3lpQyLyIKdzSlBm4Wj9xsAgbgTskiYiT2MTAieyOIq6MTCIG1gKu6SJyENllFQgvbhc7jI8DoO4AZltdpzMZpc0EXmuE1mFsNp5oo+GxCBuQKdzimG2sUuaiDyXyWrHmZwSucvwKAziBlJYbsEFnkuaiBTgXH4pCngBmwbDIG4gJ7KKwLYwESmBAHDsMucWNxQGcQNILTIhx2SWuwwioiaTz17ABsMgvklWOwdoEZEyVY6L4cCtm8Ugvkm/5Zag3Mo3IhEpj9kucDaPA7duFoP4JpSYrTztGxEp2rn8Up5x6yYxiG/CL1lF4Am0iEjJ7KKyi5puHIP4BuWUVSCTZ9AiIsLFIhOnM90EBvEN+jWb3wCJiKr8ykGrN4xBfAMySsqRx29/REQOWWVmnmf/BjGI60kIgVNsDRMRVfNrdhFP8nEDGMT1dKm4HEVmq9xlEBG5nMIKK1KLTHKX4XYYxPUghMBvuWwNExHV5kxuCVvF9cQgrofUIhOKzZwvR0RUm1KLja3iemIQ11Fla5hnkCEiup6EPLaK64NBXEcXi0wo4dljiIiuq9hsQ1pxudxluA0GcR0l5vFUlkREdZXAc1DXGYO4DjJLOVKaiKg+CiusyCxhq7guGMR1cI6tYSKiejvLz846YRBfR2G5BVllZrnLICJyOzkmM/JM/Py8HgbxdSTyModERDeM1yu+PgbxNZisNlwq5nw4IqIblV5SgRKOsbkmBvE1nM8v5fWGiYhu0oWCMrlLcGkM4lpY7YJvHiKiBpBSVAYbWzW1YhDXIqWwDGa+cYiIbprZJpDGw3y1YhDX4nwBB2kRETWU8+xhrBWDuAa5JjMv7kBE1IDyyi0oLLfIXYZLYhDXIKWQ39yIiBraeX621ohBfBWrXeAST1ZORNTgUotMsNrtcpfhchjEV0krNsHKQVpERA3Oahe4yGsVV8MgvkpKId8kRESNhdNCq2MQX6HEbEUOz4tKRNRoCiusHLR1FQbxFThIi4io8aVyTrETBvHvhBBI4bELIqJGxwGxzhjEv7tcVoFyK0fzERE1tjKLjZdHvAKD+HeXivgNjYioqbB7+n8YxADsQiCzlEFMRNRU0orKIQSnigIMYgBATpkZZhvfEERETaXcZucsld8xiAGkl7A1TETU1FJ5SBAAgxhCCAYxEZEM0ktMsLN7mkGcV27haGkiIhmYbQJZZRVylyE7xQdxOuezERHJJrOEQcwgZrc0EZFsLpcyiBUdxAXlFpRabHKXQUSkWKUWG0rMVrnLkJWigziDrWEiItllKrxVrOgg5iABIiL5Kb17WrFBbLXbkWfipbiIiOSWXVYBm12505gUG8Q5ZWYo92UnInIddlEZxkql2CDOLuOp1YiIXIWSu6cVG8Q8PkxE5DqUPGBLkUFsttlRWKHs4fJERK6k1GJDqUWZn8uKDGIlH4sgInJVuQodQKvIIM7i8WEiIpeTp9DLIioyiLMVfCyCiMhV5TKIlaHcakMJT2tJRORyiiqssNqVdzU8xQVxXrkyj0EQEbk6ASjyREuKC+ICBjERkcvKK1de97TigjifQUxE5LKUOHJacUHMFjERkevKM5khhLJOQKyoIC6z2FBhU95AACIid2GxCxQr7PrEigpitoaJiFyf0g4hKiqIlfbiEhG5oyKFnYJYUUFcUMEgJiJydUXsmvZc7JomInJ9bBF7KA7UIiJyDyarDRYFnWFLMUFcorCuDiIid1asoFaxcoJYode5JCJyR0o6TqycIDbzQg9ERO5CSceJFRTEynlRiYjcHYPYA7FrmojIfRSblTPLRRFBLIRAKbumiYjchslqV8zIaUUEcZnFBmWdQpyIyP2ZLMpoQCkiiEsU8mISEXkSk5UtYo/BgVpERO6HLWIPwoFaRETux2RlEHuMcoV0bxAReZIyBrHnqGAQExG5HZNFGZ/dyghimzK+VREReRJ2TXsQtoiJiNwPg9hD2IWA2c5ZxERE7sZqF7Ao4PK1Hh/EvAYxEZH7UkKr2PODmN3SRERuy6KAHk2PD+JyDtQiInJb7Jr2AGwRExG5LytbxO6Px4iJiNwXu6Y9gBJeRCIiT6WESyF6fBDbGMRERG6LXdMeQAkvIhGRp2KL2APYFPAiEhF5KovN8xtTHh/EVuH5LyIRkadSQq+mxwexAl5DIiKPZVVAr6YCgphJTETkrhTQM80gJiIiV+b5n+EKCGK5KyAiohulhLaUAoJYAa8iEZGHUsInuMcHMRERuS8lBLFG7gIam0qS5C6BqBHYYQi4jHx9AnJEltzFEDWaCnUIgClyl9GoPD6IGcPkSdQaM9T+F5GpSUCpKFVGc4EUTaWAjluPD2K2iMkT6AylsPol4RLOwQorA5gUQyUxiN2eijlMbkpAwOCXg2LjWaSKNLnLIZKFpIB+TQUEsee/iORZJMkGXeAlZGkTcEkUsPVLisauaQ/AICZ3odWVQ/ifR5qUCDMqGMBEYBB7BHZNk6vT++TD5J2ICyIFgulL5IRd0x6ALWJyRZJkg97/MvL0CUgV2Wz9EtWCg7U8AHOYXIlGY4YUkIJMdQLKRBkDmOg6dJJO7hIanccHsYZJTC5AZyyGxTcJF5EEG2wMYKI6MkpGuUtodB4fxFq153drkGsSEDD6Z6PQcBapIl3ucojckpfKS+4SGp3HB7GeQUxNTKW2QhOQiixNAi6JIrZ+iW4CW8QeQMcgpiai1Ztg9zuPdCkRZpgZwEQNgC1iD8AWMTU2vU8eyrwTcUlc5PQjogbGFrEHYIuYGoMk2aAPyECOLgGpIpetX6JG4iWxRez22CKmhqTWVEAVkIIMdQJMwsQAJmpk7Jr2AGwRU0PQG4tQ4XsOF3EedtgZwERNQAstNJLHx5TnB7FaJUEjSbAKfnJSfdlh8M9GgSEBqSJT7mKIFEcJrWFAAUEMADqNClaLTe4yyE2o1RZoAlKRqUlAiShm65dIJko4PgwoJIj1ahXKGMR0HVp9KWz+F5CGRFhgYQATycyo8vwR04BCgthLq0Z+uUXuMshFGXxzUeKViFRxUe5SiOgKbBF7EG+tWu4SyMVIkhU6x/SjPLZ+iVwQW8QexFuriN2kOtBoy4GAFGSoElAuyhnARC6MLWIPwhYx6b0KUe57DiniAqcfEbkJjpr2ID46BrEy2WEIuIx8/VmkissMXyI3E6gKlLuEJqGIIDZq1JDAz2GlUKvNUP8+/ahUlPCFJ3JDEiQEqhnEHkOSJHhr1SjhFCaPpjOUwuKXhEs4ByusDGAiNxagClDEWbUAhQQxAHhpNQxiDyQgYPTLRbHxLFLFJbnLIaIGEqQOkruEJqOYIPbRqZFVJncV1FAkyQZdYBqytb/hkihg65fIwzCIPRBHTnsGja4c8L+AdOksKlDBACbyUAxiD+Sn18pdAt0EvU8+TN7nkCySIZi+RB6vubq53CU0GcUEcQCD2A3ZYQjIRJ4+Aakim61fIoVQQw1/lb/cZTQZxQSxXqOCUaOCyWqXuxS6Do3GDCngIjLVv6FMlDGAiRSmmboZVJJyriWvmCAGAH+9FiZrhdxlUC10hhJY/M7hIpJgg40BTKRQSjo+DCgsiAMMWmSWMohdiYCAwS8bxcZEpIo0ucshIhegpOPDgNKCmMeJXYZKskIbeAlZ2gRcEoVs/RKRA1vEHizAwCCWm0ZvgvA7j3QpEWaYGcBEVA2D2IN5adXQqSSY7fz0b2p6n3yUeSfikkjh9CMiqpVO0sFX5St3GU1KUUEMAP4GLbLLzHKXoQiSZIMuIBN5ugSkihy2fonouoJUymoNAwoM4gA9g7ixqTVmqAKSkaE+CxOnHxFRPYRqQuUuockpLoiDjDok5pfKXYZH0hmLYPZNwkUkwQ47A5iI6i1CEyF3CU1OcUHc3EsndwkeRUDA6J+FAsNZpIoMucshIjcmQUJLbUu5y2hyigtinVoFf70GhRVWuUtxa2q1BeqAS8jSJOCSKGLrl4huWqg6FHpJL3cZTU5xQQwAzY06BvEN0urLYPc/jzQkwgILA5iIGkyEVnnd0oBSg9hLj6QCXpy4PvS+uSj1SsQlkcrpR0TUKJR4fBhQaBAH8zhxnVROP0pHji4BqSKPrV8iajRqqBGmCZO7DFkoMoh5nPjaNNoKSAHJSFcloFyUM4CJqNGFa8KhkRQZScoMYoDHiWui9ypCue85pIjznH5ERE1Kqd3SgJKDmMeJf2eHISALBfqzSBWZDF8ikoVSB2oBCg5ipR8nVqkt0ARcRKYmAaWihAFMRLLRSTqEqEPkLkM2ig1inVqFZgYt8sotcpfSpHSGUlj9kpCGc7DCygAmItm10rSCSlLJXYZsFBvEABDuY1BEEAsIGHxzUeKViFSRKnc5REROlHx8GFB4EIf5GvBrTrHcZTSayulHacjWJeCSyGfrl4hcUmtta7lLkJWig9hXp4GPTo0Ss03uUhqURmcC/JORLp1FBSoYwETksrwlbzRTN5O7DFkpOoiByu7ps3mecTUmvXcByn3OIUUkV04/IiJycUpvDQMMYoS5fRDbYQjIRJ7+LFJFFlu/RORW2uvay12C7BQfxM0MWujVKlTY3KsFqdaYofa/iAxNAspEKQOYiNyOl+Sl+IFaAIMYkiQhzEeP5EKT3KXUic5QAotfEi4hidOPiMitxepiFT1tqYrigxio7J525SAWEDD65aDIeBapIk3ucoiIGgS7pSsxiAGEeOmhUUmw2l2reamSrNAGpiFL+xsuiUK2fonIYwSoAtBC00LuMlwCgxiAWiWhpY8BKUWu0SrW6k0QfheQJp2FGWYGMBF5HLaG/4dB/LtIf6PsQaz3yYfJOxEXRAoE05eIPBiD+H8YxL8LMurgpVWjzNK0J/eQJBv0/peRq09Aqshm65eIPF6oOhSB6kC5y3AZDOLfSZKE1n5G/JZb0iTbU2vMUAWkIFOdgDJRxgAmIsVga9gZg/gKkU0QxDpjMSy+SUhFEmywMYCJSFEkSIjVxcpdhkthEF/BW6dBkFGHXJO5QdcrIGD0z0Kh4SxSRUaDrpuIyJ1EaCLgrfKWuwyXwiC+SqSfscGCWKW2QhtwCZc1v+GSKGLrl4gUr4Oug9wluBwG8VVa+hpwIqsINnHjqanVl8HufwFpOAsLLAxgIiIAGmgQrYuWuwyXwyC+ilatQriPHqnF5fV+rME3DyVeibgkLnL6ERHRVdpq20In6eQuw+UwiGsQFeBV5yCWJBt0ARnI1SUgVeSy9UtEVItO+k5yl+CSGMQ1CPbSw0+nQZHZWusyGk0FpIBkpKvPolyYGMBERNfQXN0ckdpIuctwSQziWrQN9MLxy0XVbtcbi1Dhew4pOA877AxgIqI66KnvKXcJLotBXIvWfkacyi6GxS4A2GHwz0aBIQGpIlPu0oiI3IqP5MO5w9fAIK6FRqVCVKAWKfgNlzUJKBHFbP0SEd2AHoYeUEtquctwWbwi8zVEBmpxXn2kMoSJiKjedNChi76L3GW4NAbxNfip/RCjjZG7DCIit9VZ3xl6SS93GS6NQXwdvQy95C6BiMgtqaDCLYZb5C7D5TGIryNUE4qWmpZyl0FE5Hba6drBV+Urdxkuj0FcBxx2T0RUf7307FGsCwZxHbTRtkEzVTO5yyAichsRmggEa4LlLsMtMIjrQJIkHucgIqoHjq+pOwZxHXXUdeSxDiKiOghSB/F0lvXAIK4jtaTGAMMAucsgInJ5HFdTPwziemiva49gNY95EBHVxlfli/a69nKX4VYYxPUgSRIGGgfKXQYRkcsaYBjA01nWE4O4niK1kYjQRMhdBhGRywlVh7I1fAMYxDfgNuNtcpdARORyBnkNgiRJcpfhdhjENyBEE8JvfUREV4jWRvMshDeIQXyD+hv6Qw0eByEiUkPNnsKbwCC+Qf5qf3TVd5W7DCIi2XXTd0OAOkDuMtwWg/gm3Gq4FTpJJ3cZRESyMUgG9DX0lbsMt8YgvglGlRG99b3lLoOISDZ9DX2hV/F6wzeDQXyTbjHcAh/JR+4yiIiaXIAqgIfoGgCD+CZpJA36GtktQ0TKc5vxNp68owEwiBtAJ10nXiaRiBSllaYVonXRcpfhERjEDUAlqTDEa4jcZRARNQkJEgYZB8ldhsdgEDeQCG0Euui6yF0GEVGj66DrgBBNiNxleAwGcQMa5DWI1ywmIo+ml/S8+E0DYxA3IJ2kw3Cv4XKXQUTUaIYYh8Bb5S13GR6FQdzAIrWR6KTrJHcZREQNLkYbgw76DnKX4XEYxI1gsNdgzi0mIo9ilIwY6jVU7jI8EoO4EeglPYZ5D5O7DCKiBjPMaxi8VF5yl+GRGMSNpI22DTro2IVDRO6vg64DYnQxcpfhsTRyF+DJ4oxxuGi5iDJRJncppDA7lu7A1y9/jcGzBmPsorEAgE+e+gRnfziLoswi6Lx1aHNrG4yePxqhsaG1rmfdH9fh0P8dcrqtw7AOeOyzxwAA1gor1s9dj5PfnoRfqB/G/3M82g/537W6d769E/lp+Ri3eFwj7CU1BR/JB0OMQ+Quw6MxiBuRQWXAUK+h+Kb0G7lLIQW5ePQi9q/ej/DO4U63R3SPQO8JvRHQKgBl+WXYungrlo9bjhePvwiVuvbOsQ7DO+D+d+53/K7R/+9jY/+a/Ug9noo/bfsTzuw4g7Uz1+KVhFcgSRJyU3JxYO0B/Pn7Pzf8TlKTGe49nBd1aGTsmm5kMboYtNO2k7sMUoiKkgqsnbUWk5ZOgjHA6HTfgKkDED0gGkGtgxDRPQIjnxuJgrQC5F3Mu+Y6NXoN/EL9HD9eAf87Tnj57GV0uasLwjqG4bZHb0NJTglKc0sBABv+vAGj54+Gwc/Q8DtKTaKLrguitFFyl+HxGMRNYIjXEBgl4/UXJLpJnz39GTrd3smpe7gmFaUVOLjuIIIigxDQMuCay57bew7Pxz6PV299FZ/++VOU5pU67gvvEo7zP52H2WTGbzt/g18LP3gHeePwhsPQGDToNqpbQ+wWycBP5YdBXjyNZVNg13QT8FJ5YYjXEGwp3SJ3KeTBjn5+FJdOXMK87+fVusze/+zF5gWbYS41I6RdCB7f+Dg0uto/BjoO64juo7qjWWQz5FzIwTevfIP3J76PP237E1RqFfo90A8ZpzLwWv/X4B3kjakfTkVZQRm2LNqC2Ztn45tXv8GxjccQFBWEKcumICA8oBH2nBrD7V63Qyfp5C5DESQhhJC7CKXYWroVCeYEucsgD5R/KR9vDH8DT2x8wnFseNnoZWjZpaVjsBYAmIpMKMkuQdHlIux8ZycKMwoxd8tcaA3aOm0nJzkH/+j5Dzyx6QnExsXWuMzHf/wYLbu2RFBkEL5+5Ws8tf0p7Hx7JzLOZGD6R9Nvfmep0fXQ90CcV5zcZSgGu6ab0HCv4Wiubi53GeSBUk+koiS7BP8a8i/MC56HecHzkLQvCXtW7sG84Hmw2+wAAKOfEcHRwYgeEI1pq6chKzELv3zzS5230zyqObyDvJF9IbvG+xP3JCIzIRODZgxC4t5EdLq9E/TeevS4twfO7TvXIPtKjStQFchzSTcxdk03Ia2kxSjvUfi/4v9DhaiQuxzyILGDY/HM3mecbvt4zscIbReK4U8Or3lUtACEELBWWOu8nYK0ApTllcE/1L/afZZyCz7762f4w8o/QKVWQdgEbMIGALBZbY4vA+S61FAj3jseGonR0JTYIm5i/mp/3Ol9JyRIcpdCHsTga0BYpzCnH52XDl6BXgjrFIac5BxsX7IdqcdTkX8pHxcOXsCqaaugNWjR6fb/nRt9Yd+F+OXryhZyRUkFvnzxSyQfSkbuxVyc/eEs/v3gv9G8bXN0GFb9ZDXf/es7dLq9E1p1awUAaNO3DX75+hekn0rH3g/2om3ftk3zZNANG+I1BKGa2ueVU+Pg1x4ZRGmj0NfQFz+V/yR3KaQQWr0W5w+cxw8rfoCpwATfYF9ED4jG3K1z4Rv8v0t3ZiVmwVRkAgBIagnpp9JxaP0hmApN8Gvhhw5DO+Duv9/tNJcYADJOZ+DYF8fw1x/+6rit+5juOLfvHN6++22EtAvBH1b+oWl2lm5IZ11ndNHzmupy4GAtmQgh8FXpV7hguSB3KUSkcKHqUIz3Hc8uaZmwa1omkiQh3jseAaoAuUshIgUzSkaM9BnJEJYRg1hGekmPUT6joEXdpo4QETUkCRLu9r4bvirf6y9MjYZBLLMgdRBGeI+QuwwiUqDbjLehlbaV3GUoHoPYBcTqYtFT31PuMohIQTrpOqGngZ87roBB7CIGGgeilYbfTImo8bXUtMQwr2Fyl0G/YxC7CJWkwl3ed8FH8pG7FCLyYP4qf4z0Hgm1pJa7FPodg9iFeKm8MMpnFDSc3k1EjUAn6XCPzz0wqng1OFfCIHYxoZpQjPIZBTX4bZWIGk7VCOlm6mZyl0JXYRC7oEhtJOK943kaTCJqMHHGOERqI+Uug2rAIHZR7XTtMNxruNxlEJEH6G/oj+6G7nKXQbVgELuwzvrOGGwcLHcZROTG+hj64FbjrXKXQdfAIHZxtxhuQV9DX7nLICI31FPfEwOMA+Qug66DQewG+hn7oYe+h9xlEJEb6abvhkFeg+Qug+qAQewmBhsHo6Ouo9xlEJEb6KzrjCHGIXKXQXXEIHYTkiRhhNcIRGuj5S6FiFxYe117DPcaDknirAt3wSB2I1Vn32qtaS13KUTkgmK0MbjD6w6GsJthELsZtaTGKJ9RCFOHyV0KEbmQNto2uNP7Tqgkfqy7G75ibkgraTHGZwyaq5vLXQoRuYDWmta42/tunj/aTTGI3ZRepcdYn7FooW4hdylEJKNWmlYY7TMaGonnqHdXkhBCyF0E3TiLsODb0m+RbEmWuxQiamJh6jDc63svdJJO7lLoJjCIPYBd2PF92fc4bT4tdylE1EQiNZG42+duhrAHYBB7kP2m/ThUfkjuMoiokXXRdcFQr6EcmOUhGMQe5kT5Cfxg+gECfFmJPFF/Q3+eO9rDMIg9UKI5EdtKt8EGm9ylEFEDUUONEd4j0EHXQe5SqIExiD3UJcslfFX6FczCLHcpRHST9JIeo7xHoZW2ldylUCNgEHuwbGs2viz5EqWiVO5SiOgG+an8MMZnDJqpm8ldCjUSBrGHK7IV4YuSL5Bvz5e7FCKqpxB1CO7xuQfeKm+5S6FGxCBWAJPdhM0lm5Fpy5S7FCKqozbaNrjL+y5oJa3cpVAjYxArhEVYsK10G5IsSXKXQkTX0U3fDXHGOE5PUggGscIcLT+KfaZ9sMMudylEVIPbjLehl6GX3GVQE2IQK1CGNQPflnyLElEidylE9DudpMPtXrcjRhcjdynUxBjECmWym7CtdBtSrClyl0KkeC3ULXCX913wU/vJXQrJgEGsYEIIHC4/jAPlB3gmLiKZ9Db0Rn9Dfx4PVjAGMSHNkoYtpVs435ioCXlJXoj3jkdrbWu5SyGZMYgJAFBmL8PW0q1ItabKXQqRx4vUROIO7zvgpfKSuxRyAQxichBC4GD5Qfxc/jO7qokagQoqDDAOQE99T0iSJHc55CIYxFTNRctFbC3dCpMwyV0KkcfwV/njTu870ULTQu5SyMUwiKlGJfYSbCndgnRrutylELm9WG0shnkPg17Sy10KuSAGMdXKLuw4XnEcP5l+ggUWucshcjsaaDDEawg66zvLXQq5MAYxXVeRrQi7TLuQbEmWuxQitxGiDkG8dzyvmkTXxSCmOjtrPosfyn5AmSiTuxQil6WTdOhv6I9u+m6cG0x1wiCmeqmwV2CvaS9+Nf8qdylELqe9rj0GGQfxsoVULwxiuiHp1nR8X/o98ux5cpdCJLtmqmYY6jUUrbSt5C6F3BCDmG6YTdhwuPwwDpUfgg02ucshanIaaHCr8Vb01PeEWlLLXQ65KQYx3bR8Wz52lu3EJesluUshajJttW0R5xUHPxUv1EA3h0FMDeZUxSnsNe1FuSiXuxSiRuOn8sMQryFoo20jdynkIRjE1KDK7GXYb9qP0+bTPE0meRQ11Ohl6IU+hj7QSBq5yyEPwiCmRpFny8N+034kWZLkLoXoprXWtMYQryEIVAfKXQp5IAYxNaoMawb2mfYhzZomdylE9dZK0wr9DP3QUttS7lLIgzGIqUkkW5Kxz7QPObYcuUshui4GMDUlBjE1GSEEzlrO4mfTz5x/TC4pQhOBvsa+aKlhAFPTYRBTkxNCINGSiIOmgwxkcgkMYJITg5hkUxXIP5t+Rq49V+5ySIFaa1qjr7EvwjXhcpdCCsYgJtlVBfKh8kM8hkxNggFMroRBTC4l3ZqOXyp+wTnzOZ42kxpcpCYSfY19EaYJk7sUIgcGMbmkMnsZTptP42TFSRTZi+Quh9yYl+SFjrqO6KLvggB1gNzlEFXDICaXJoRAsjUZJytOItmSzLN1UZ1IkNBa0xqd9Z3RVtuWF2Qgl8YgJrdRZCvCSfNJnKo4BZMwyV0OuSBvyRud9Z3RWdcZfmpejIHcA4OY3I5N2HDOcg6/VPyCdGu63OWQzCRIiNJGoYuuC6K0UVBJKrlLIqoXBjG5tRxbDk5WnMRZ81le9UlhfFW+6KzrjM76zvBR+chdDtENYxCTR7ALO9KsaUiyJCHJnIQSUSJ3SdQIdNAhShuFjvqOiNREQpIkuUsiumkMYvJIl62XHaHMs3e5N3+VP9po26CNtg1aalpy4BV5HAYxebx8W74jlDNtmXKXQ9chQUKYJswRvkHqILlLImpUDGJSlFJ7qSOUL1kvwQ673CURKrucI7WRaKNtgyhtFIwqo9wlETUZBjEpVoW9AhcsF3DRehGZ1kzk2/PlLklR2OVMVIlBTPS7cns5MmwZyLBW/ly2XoYFFrnL8hjNVM3QQtMCYZowhGvC0UzdTO6SiFwCg5ioFnZhR64t1ymcC+2FcpflFnTQIVQTijBNGMI0YWihbgGDyiB3WUQuiUFMVA9l9jJHKGfaMpFlzVJ8q9koGRGsDkawOhghmhAEq4MRoArg1CKiOmIQE92kUnspCuwFKLQVotD++8/v//eUU3HqoIOvyrfyR+0LP5UfmqmaIVgTDF+Vr9zlEbk1BjFRI6oQFSiyFVUG9RUBXWgvRLG92GUuYmGUjPBT+cFX5ev498r/s1uZqPEwiIlkYhM2VIgKmIUZFmGp/BeV/zrd9vu/Zlzxf2GGVVihltRQQw2NpIEGmsp/f/+/WlJXu00jaRzL6ySdI2g1kkbup4NIsRjEREREMuJlSoiIiGTEICYiIpIRg5iIiEhGDGIiIiIZMYiJiIhkxCAmIiKSEYOYiNxeVFQUli5dWqdly8rKMG7cOPj5+UGSJBQUFNTr8bVZsGABevTocVPrIGViEBNRk8nOzsbjjz+O1q1bQ6/Xo0WLFoiPj8e+ffvq9PjVq1cjICCg2u2HDh3CzJkz67SONWvWYM+ePdi/fz8yMjLg7+9fr8cTNTSeToeImsy4ceNgNpuxZs0atG3bFpcvX8b333+P3Nzcm1pvcHBwnZdNSkpCx44d0aVLlxt6PFGDE0RETSA/P18AELt37651mTfeeEN06dJFeHl5iVatWonHH39cFBcXCyGE2LVrlwDg9DN//nwhhBCRkZFiyZIlQggh7Ha7mD9/voiIiBA6nU6EhYWJOXPmCCGEiIuLc3p8XFxctcdX1frII4+I5s2bC19fXzF06FBx/Phxp1oXLVokQkJChI+Pj5g+fbp45plnRPfu3RvkuSJlYdc0ETUJHx8f+Pj44IsvvkBFRUWNy6hUKrz99ts4deoU1qxZg507d+Lpp58GAAwYMABLly6Fn58fMjIykJGRgb/85S/V1vH5559jyZIleP/995GYmIgvvvgCXbt2BQBs3LgRM2bMQP/+/ZGRkYGNGzfWWMeECROQlZWFLVu24MiRI+jZsyeGDx+OvLw8AMCnn36KBQsWYOHChTh8+DDCwsLw3nvvNcTTREok9zcBIlKOzz77TAQGBgqDwSAGDBggnn32WXHixIlal9+wYYMICgpy/L5q1Srh7+9fbbkrW7RvvPGGiI2NFWazucZ1zp0719ESrunxe/bsEX5+fqK8vNxpmejoaPH+++8LIYTo37+/eOKJJ5zu79u3L1vEdEPYIiaiJjNu3Dikp6dj8+bNuPPOO7F792707NkTq1evBgDs2LEDw4cPR8uWLeHr64s//OEPyM3NRVlZWZ23MWHCBJhMJrRt2xYzZszApk2bYLVa6/z4EydOoKSkBEFBQY5WvI+PDy5cuICkpCQAwJkzZ9C3b1+nx/Xv37/O2yC6EoOYiJqUwWDA7bffjhdeeAH79+/H1KlTMX/+fCQnJ2PUqFHo1q0bPv/8cxw5cgTvvvsuAMBsNtd5/REREUhISMB7770Ho9GIJ554AoMHD4bFYqnT40tKShAWFobjx487/SQkJOCvf/3rDe0z0bUwiIlIVp06dUJpaSmOHDkCu92ON954A/369UNsbCzS09OdltXpdLDZbNddp9FoxOjRo/H2229j9+7dOHDgAE6ePFmnenr27InMzExoNBrExMQ4/TRv3hwA0LFjRxw8eNDpcT/99FMd95jIGacvEVGTyM3NxYQJEzB9+nR069YNvr6+OHz4MF5//XWMGTMGMTExsFgsWLZsGUaPHo19+/ZhxYoVTuuIiopCSUkJvv/+e3Tv3h1eXl7w8vJyWmb16tWw2Wzo27cvvLy88N///hdGoxGRkZF1qnPEiBHo378/7r33Xrz++uuOLwTffPMN7rvvPvTu3Rtz587F1KlT0bt3bwwcOBDr1q3DqVOn0LZt2wZ7vkg52CImoibh4+ODvn37YsmSJRg8eDC6dOmCF154ATNmzMA777yD7t27480338TixYvRpUsXrFu3DosWLXJax4ABA/DYY49h0qRJCA4Oxuuvv15tOwEBAfjggw8wcOBAdOvWDTt27MBXX32FoKCgOtUpSRK+/fZbDB48GNOmTUNsbCwmT56MlJQUhIaGAgAmTZqEF154AU8//TR69eqFlJQUPP744zf/JJEiSUIIIXcRRERESsUWMRERkYwYxERERDJiEBMREcmIQUxERCQjBjEREZGMGMREREQyYhATERHJiEFMREQkIwYxERGRjBjEREREMmIQExERyYhBTEREJCMGMRERkYwYxERERDJiEBMREcmIQUxERCQjBjEREZGMGMREREQyYhATERHJiEFMREQkIwYxERGRjBjEREREMmIQExERyYhBTEREJCMGMRERkYwYxERERDJiEBMREcmIQUxERCQjBjEREZGMGMREREQyYhATERHJiEFMREQkIwYxERGRjBjEREREMmIQExERyYhBTEREJCMGMRERkYz+H49iuW6G1HiqAAAAAElFTkSuQmCC",
>>>>>>> 2340e33fc88fd5bd600ee7643b6b87380f722fd3
      "text/plain": [
       "<Figure size 800x600 with 1 Axes>"
      ]
     },
     "metadata": {},
     "output_type": "display_data"
    }
   ],
   "source": [
<<<<<<< HEAD
    "#to create a figure for our future visual:\n",
    "plt.figure(figsize=(8, 6))\n",
    "\n",
    "#to create a graph and assign the type of graph and color: \n",
    "bars = satisf_percentages.plot(kind='bar', color='lightblue')\n",
    "\n",
    "#to assign the title and ylabel:\n",
    "plt.title('Percentage of Satisfied Customers')\n",
    "plt.ylabel('Percentage %')\n",
    "\n",
    "#to leave xlabel empty:\n",
    "plt.xlabel('')\n",
    "\n",
    "#to assign the rotation for ticks to 0: \n",
    "plt.xticks(rotation=0)\n",
    "\n",
    "#to place percentage values on top of the bars\n",
    "for bar in bars.patches:\n",
    "    yval = bar.get_height()\n",
    "    plt.text(bar.get_x() + bar.get_width()/2.0, \n",
    "            yval, \n",
    "            f'{int(yval)}%', \n",
    "            ha='center', \n",
    "            va='bottom')\n",
    "\n",
=======
    "plt.figure(figsize=(8, 6))\n",
    "satisf_percentages.plot(kind='pie', autopct='%1.1f%%', colors=['lightblue', 'lightgreen'])\n",
    "plt.title('Percentage of Satisfied Airline Passengers')\n",
    "plt.ylabel('')\n",
>>>>>>> 2340e33fc88fd5bd600ee7643b6b87380f722fd3
    "plt.show()"
   ]
  },
  {
   "cell_type": "markdown",
   "metadata": {},
   "source": [
<<<<<<< HEAD
    "The analysis shows that 43.5% of customers are satisfied with services that this airline company provides. \n",
    "\n",
    "\"Typically, anything above 70% is considered a good customer satisfaction score, while a less-desirable score is anything below 50%. The average CSAT score across all industries is 78%, but that can vary widely depending on your industry, product, service, and customer base.\"-[What Is a Customer Satisfaction Score (CSAT)? by Katie Muse](https://www.salesforce.com/service/customer-service-incident-management/customer-satisfaction-score/)\n",
    "\n",
    "We recommend to explore data more to find out, how what services can be improved to increase the satisfaction score. "
=======
    "The analysis shows that 43.5% of customers are satisfied with services that this airline company provides. "
>>>>>>> 2340e33fc88fd5bd600ee7643b6b87380f722fd3
   ]
  },
  {
   "cell_type": "markdown",
   "metadata": {},
   "source": [
<<<<<<< HEAD
    "### Does satisfaction vary by customer type?\n",
    "To answer this question we will be comparing satisfaction rate between Returning and First-time customers. \n",
    "\n",
    "Firstly, we want to compare number of Returning and First-time customers overall: "
=======
    "Q3 "
>>>>>>> 2340e33fc88fd5bd600ee7643b6b87380f722fd3
   ]
  },
  {
   "cell_type": "code",
<<<<<<< HEAD
   "execution_count": 12,
   "metadata": {},
   "outputs": [],
   "source": [
    "#to check how many returning and first-time customers we have: \n",
    "cust_type = df['Customer Type'].value_counts()"
=======
   "execution_count": 64,
   "metadata": {},
   "outputs": [],
   "source": [
    "import matplotlib.pyplot as plt\n",
    "import seaborn as sns"
>>>>>>> 2340e33fc88fd5bd600ee7643b6b87380f722fd3
   ]
  },
  {
   "cell_type": "code",
<<<<<<< HEAD
   "execution_count": 13,
   "metadata": {},
   "outputs": [
    {
     "data": {
      "image/png": "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",
      "text/plain": [
       "<Figure size 800x600 with 1 Axes>"
      ]
     },
     "metadata": {},
     "output_type": "display_data"
    }
   ],
   "source": [
    "plt.figure(figsize=(8,6))\n",
    "bars_custtype = cust_type.plot(kind='bar', color='lightblue')\n",
    "\n",
    "plt.title('Customer Type')\n",
    "plt.xlabel('')\n",
    "plt.ylabel('Number of customers')\n",
    "plt.xticks(rotation=0)\n",
    "\n",
    "for bar in bars_custtype.patches:\n",
    "    yval = bar.get_height()\n",
    "    plt.text(bar.get_x() + bar.get_width()/2.0, \n",
    "            yval, \n",
    "            int(yval), \n",
    "            ha='center', \n",
    "            va='bottom')"
   ]
  },
  {
   "cell_type": "markdown",
   "metadata": {},
   "source": [
    "Next, we will be answering the question: \n",
    "### How many Returning customers are satisfied?"
   ]
  },
  {
   "cell_type": "code",
   "execution_count": 14,
   "metadata": {},
   "outputs": [
    {
     "name": "stdout",
     "output_type": "stream",
     "text": [
      "Neutral or Dissatisfied    52.19\n",
      "Satisfied                  47.81\n",
      "Name: Satisfaction, dtype: float64\n"
     ]
    }
   ],
   "source": [
    "#how many Returning customers are satisfied: \n",
    "#to filter dataframe: \n",
    "returning_filter = df[df['Customer Type'] == 'Returning']\n",
    "\n",
    "return_satisf = returning_filter['Satisfaction'].value_counts()\n",
    "\n",
    "return_satisf_percent = round(return_satisf / return_satisf.sum() * 100, 2)\n",
    "\n",
    "print(return_satisf_percent)\n"
   ]
  },
  {
   "cell_type": "markdown",
   "metadata": {},
   "source": [
    "### Percentage of Satisfaction for Returning Customers Visualisation\n",
    "This visual shows the difference between satisfaction and dissatisfaction rates among Returning customers: "
   ]
  },
  {
   "cell_type": "code",
   "execution_count": 15,
   "metadata": {},
   "outputs": [
    {
     "data": {
      "image/png": "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",
      "text/plain": [
       "<Figure size 800x600 with 1 Axes>"
      ]
     },
     "metadata": {},
     "output_type": "display_data"
    }
   ],
   "source": [
    "#to create a figure for our future visual:\n",
    "plt.figure(figsize=(8, 6))\n",
    "\n",
    "#to create a graph and assign the type of graph and color: \n",
    "ret_sat_bars = return_satisf_percent.plot(kind='bar', color='lightblue')\n",
    "\n",
    "#to assign the title and ylabel:\n",
    "plt.title('Percentage of Satisfaction for Returning Customers')\n",
    "plt.ylabel('Percentage %')\n",
    "\n",
    "#to leave xlabel empty:\n",
    "plt.xlabel('')\n",
    "\n",
    "#to assign the rotation for ticks to 0: \n",
    "plt.xticks(rotation=0)\n",
    "\n",
    "#to place percentage values on top of the bars\n",
    "for bar in ret_sat_bars.patches:\n",
    "    yval = bar.get_height()\n",
    "    plt.text(bar.get_x() + bar.get_width()/2.0, \n",
    "            yval, \n",
    "            f'{int(yval)}%', \n",
    "            ha='center', \n",
    "            va='bottom')\n",
    "\n",
    "plt.show()"
   ]
  },
  {
   "cell_type": "markdown",
   "metadata": {},
   "source": [
    "Next, we need to find out:\n",
    "### How many First-time customers are satisfied?"
   ]
  },
  {
   "cell_type": "code",
   "execution_count": 16,
   "metadata": {},
   "outputs": [
    {
     "name": "stdout",
     "output_type": "stream",
     "text": [
      "Neutral or Dissatisfied    76.01\n",
      "Satisfied                  23.99\n",
      "Name: Satisfaction, dtype: float64\n"
     ]
    }
   ],
   "source": [
    "#to filter dataframe: \n",
    "ftime_filter = df[df['Customer Type'] == 'First-time']\n",
    "\n",
    "ftime_satisf = ftime_filter['Satisfaction'].value_counts()\n",
    "\n",
    "ftime_satisf_percent = round(ftime_satisf / ftime_satisf.sum() * 100, 2)\n",
    "\n",
    "print(ftime_satisf_percent)\n"
   ]
  },
  {
   "cell_type": "markdown",
   "metadata": {},
   "source": [
    "##### Percentage of Satisfaction for First-time Customers Visualisation\n",
    "\n",
    "This visual shows the difference in satisfaction rate between First-time customers"
   ]
  },
  {
   "cell_type": "code",
   "execution_count": 17,
   "metadata": {},
   "outputs": [
    {
     "data": {
      "image/png": "iVBORw0KGgoAAAANSUhEUgAAAq4AAAIQCAYAAABAP+wDAAAAOXRFWHRTb2Z0d2FyZQBNYXRwbG90bGliIHZlcnNpb24zLjkuMCwgaHR0cHM6Ly9tYXRwbG90bGliLm9yZy80BEi2AAAACXBIWXMAAA9hAAAPYQGoP6dpAABXu0lEQVR4nO3dfXyP9f////tr57MzrJ04mZk5z1lOYk7DslJOMkQq0okyclIp78pZMemNolRKI+98K4VO3uHtvAg5D2khTNlGZHO2E9vz90e/vT69bGPT5uXI7Xq5vC71eh5nj+N4vXbs7rnncRw2Y4wRAAAAcJ1zcXYBAAAAQFEQXAEAAGAJBFcAAABYAsEVAAAAlkBwBQAAgCUQXAEAAGAJBFcAAABYAsEVAAAAlkBwBQAAgCUQXAFc1rJly9SoUSN5eXnJZrPp9OnTzi5Ja9eulc1m09q1a4u13MWLFzVq1CiFhYXJxcVF3bt3L5X6CnK1NZeUV199VdWqVZOrq6saNWrklBr+CebOnSubzabDhw87uxTghkRwxTWTd8LPe3l5ealmzZoaMmSIUlNTnV3e3/bjjz9q3Lhx/6hfaCdPnlTv3r3l7e2tN998U/Pnz5ePj0+h8+/evVs9e/ZUeHi4vLy8VKlSJd1+++2aOXPmVW1/1qxZmjt37lVWn9/777+vV199VT179tS8efM0YsSIElt3npKuuST873//06hRo9SqVSslJCRo0qRJpbq9AQMGOPyse3p6qmbNmhozZowyMjKuap1ff/21xo0bV7KFWtTOnTt1//33KywsTJ6enipfvryio6OVkJCgnJycUtnm9fi9xo3JZowxzi4CN4a5c+fqoYce0oQJExQREaGMjAytX79e8+fPV3h4uPbs2aMyZco4u8yr9umnn6pXr15as2aNbrvtNmeXUyKWLVumO++8UytWrFB0dPRl5/3uu+/Uvn17ValSRf3791doaKiOHj2qTZs26eDBgzpw4ECxt1+vXj3ddNNN+Xopc3NzlZWVJQ8PD7m4FP3f33369NH69ev166+/FruWoirpmkvCc889p1dffVUXLlyQh4dHqW9vwIAB+uijj/Tee+9JktLS0vT5559rxYoVuu+++/Thhx8We51DhgzRm2++KWf/ysrJyVF2drY8PT1ls9mu+fbfe+89Pf744woJCdEDDzygGjVq6MyZM1q1apX++9//6uWXX9a//vWvEt9uYd9r4Fpzc3YBuPHceeedatq0qSTpkUceUWBgoKZNm6bPP/9cffv2/VvrPn/+vKXD7/Xm+PHjkqSyZctecd6JEycqICBAW7ZsyTd/3npKiouLi7y8vIq93PHjx4u0L6XhamsuCcePH5e3t3eJhVZjjDIyMuTt7V3oPG5ubrr//vvt7wcPHqyWLVvq//2//6dp06YpJCSkRGr5u86dO3fZvyJcytXVVa6urqVYUeE2bdqkxx9/XFFRUfr666/l5+dnnzZ8+HBt3bpVe/bscUpt1zt+N/yDGOAaSUhIMJLMli1bHNq/+uorI8lMnDjR3jZ//nzTuHFj4+XlZcqVK2fuvfdek5SU5LBcu3btzM0332y2bt1q2rRpY7y9vc2wYcOMMcZcuHDBjB071tSoUcN4enqa0NBQc88995gDBw7Yl8/JyTHTp083devWNZ6eniY4ONg89thj5tSpUw7bCQ8PN3fddZf59ttvTbNmzYynp6eJiIgw8+bNy7dvl77WrFljjDFmyZIlpnPnzqZChQrGw8PDVKtWzUyYMMFcvHgx33F64403TEREhPHy8jLNmjUz33zzjWnXrp1p166dw3wZGRlmzJgxJjIy0nh4eJjKlSubZ555xmRkZBTp8/jkk0/sxzgwMND069fP/Prrrw7H99L96d+/f6Hrq1WrlrntttuKtO3333/ftG/f3gQFBRkPDw9Tp04dM2vWLId5wsPD820/7xisWbPG4fgaY8zPP/9sevToYUJCQoynp6epVKmSuffee83p06fNoUOHLvv5vPrqqyYqKsqUL1/eeHl5mcaNG5uFCxcWWPv8+fNNs2bNjLe3tylbtqxp06aNWb58+VXVbMyVPwdjjOnfv7/x8fExv/76q+nWrZvx8fExN910k3nqqacK/A79VUH7nZCQYIwxJjs720yYMMFUq1bNeHh4mPDwcDN69Oh836G8n4Fly5aZJk2aGE9PTzN9+vRCt5lX76WefvppI8l89913Du1ff/21ad26tSlTpozx9fU1nTt3Nnv27HFYX0H7cbnjmveZ5+3rX+s6cOCAufPOO42vr6/p1q2b/TjFxcWZxYsXm5tvvtl4eHiYunXrmqVLlzqsN+9n/dChQ/mOz+XOEXl27dpl2rZta7y8vEylSpXMSy+9ZN5///186yzIHXfcYdzc3MyRI0cuO19xj0tycrIZMGCAqVSpkvHw8DChoaGma9eu9nou9702xpiDBw+anj17mnLlyhlvb2/TvHlz89VXXxVYz8cff2zGjRtnKlasaHx9fU1sbKw5ffq0ycjIMMOGDTNBQUHGx8fHDBgwoMBz2d/93bBlyxbTqVMnExgYaLy8vEzVqlXNQw89dMXjiesHPa5wuoMHD0qSAgMDJf3Zc/fiiy+qd+/eeuSRR3TixAnNnDlTbdu21Y4dOxx6zE6ePKk777xTffr00f3336+QkBDl5OTo7rvv1qpVq9SnTx8NGzZMZ86c0YoVK7Rnzx5FRkZKkgYNGmQfvvDkk0/q0KFDeuONN7Rjxw5t2LBB7u7u9u0cOHBAPXv21MMPP6z+/fvr/fff14ABA9SkSRPdfPPNatu2rZ588knNmDFD//rXv1SnTh1Jsv937ty58vX11ciRI+Xr66vVq1drzJgxSk9P16uvvmrfzltvvaUhQ4aoTZs2GjFihA4fPqzu3burXLlyqly5sn2+3Nxcde3aVevXr9djjz2mOnXqaPfu3Zo+fbp+/vlnLVmy5LLHPG+/mzVrpvj4eKWmpur111/Xhg0b7Mf4+eefV61atTR79mz78I68Y1eQ8PBwbdy4UXv27FG9evUuu/233npLN998s7p27So3Nzd9+eWXGjx4sHJzcxUXFydJeu211zR06FD5+vrq+eefl6RCe+mysrIUExOjzMxMDR06VKGhofrtt9/01Vdf6fTp0woKCtL8+fM1ceJEnT17VvHx8Q6fz+uvv66uXbuqX79+ysrK0kcffaRevXrpq6++0l133WXfzvjx4zVu3Di1bNlSEyZMkIeHhzZv3qzVq1erU6dOxaq5qJ9DnpycHMXExKh58+b697//rZUrV2rq1KmKjIzUE088Ueg25s+fr9mzZ+v777+3/+m+ZcuWkv78i8e8efPUs2dPPfXUU9q8ebPi4+O1b98+LV682GE9iYmJ6tu3rwYNGqRHH31UtWrVKnSbhckb/12uXDmH+vr376+YmBi98sorOn/+vN566y21bt1aO3bsUNWqVTVo0CAdO3ZMK1as0Pz584u93b+6ePGiYmJi1Lp1a/373/926IVbv369Fi1apMGDB8vPz08zZsxQbGyskpKS7OenwlzpHCFJv/32m9q3by+bzabRo0fLx8dH7733njw9Pa9Y9/nz57Vq1Sq1bdtWVapU+VvH4FKxsbHau3evhg4dqqpVq+r48eNasWKFkpKSVLVq1ct+r1NTU9WyZUudP39eTz75pAIDAzVv3jx17dpVn376qe655x6HbcXHx8vb21vPPfecDhw4oJkzZ8rd3V0uLi76448/NG7cOG3atElz585VRESExowZY1/27/5uOH78uDp16qSgoCA999xzKlu2rA4fPqxFixaV6PFEKXN2csaNI6+nYuXKlebEiRPm6NGj5qOPPjKBgYHG29vb/Prrr+bw4cPG1dXVoffVGGN2795t3NzcHNrzegTffvtth3nzei+mTZuWr4bc3FxjjDHffvutkWQ+/PBDh+nLli3L157X2/DNN9/Y244fP248PT3NU089ZW9buHBhgT0cxhhz/vz5fG2DBg0yZcqUsfcqZGZmmsDAQNOsWTOTnZ1tn2/u3Ln5ejjmz59vXFxczLfffuuwzrfffttIMhs2bMi3vTxZWVkmODjY1KtXz1y4cMHentfzPWbMGHtbYb3kBfnf//5nXF1djaurq4mKijKjRo0yy5cvN1lZWUU6HjExMaZatWoObTfffHO+nmZj8vcm7dixw0gqtJc0T15PzJXqycrKMvXq1TMdOnSwt+3fv9+4uLiYe+65x+Tk5DjMn/e9Kk7Nxfkc8nocJ0yY4LDOW265xTRp0uSy+5y3/KU9oDt37jSSzCOPPOLQntcrunr1antb3s/AsmXLrritv27vxIkT5sSJE+bAgQPm3//+t7HZbKZevXr243XmzBlTtmxZ8+ijjzosn5KSYgICAhza4+LiTEG/sorb4yrJPPfcc/nWI8l4eHg4/FVm165dRpKZOXOmva2wHteinCOGDh1qbDab2bFjh73t5MmTpnz58lfscc2rJa/n8EqKelz++OMPI8m8+uqrl11fYd/r4cOHG0kO56IzZ86YiIgIU7VqVfvPSl499erVczgn9O3b19hsNnPnnXc6rDcqKsqEh4fb35fE74bFixcX+XyG6xd3FcA1Fx0draCgIIWFhalPnz7y9fXV4sWLValSJS1atEi5ubnq3bu3fv/9d/srNDRUNWrU0Jo1axzW5enpqYceesih7bPPPtNNN92koUOH5tt23sUUCxcuVEBAgG6//XaH7TRp0kS+vr75tlO3bl21adPG/j4oKEi1atXSL7/8UqR9/utYwDNnzuj3339XmzZtdP78ef3000+SpK1bt+rkyZN69NFH5eb2f38M6devn0MPVV79derUUe3atR3q79ChgyTlq/+vtm7dquPHj2vw4MEOYy7vuusu1a5dW//973+LtE+Xuv3227Vx40Z17dpVu3bt0pQpUxQTE6NKlSrpiy++KPR4pKWl6ffff1e7du30yy+/KC0trdjbDggIkCQtX75c58+fL/byf63njz/+UFpamtq0aaPt27fb25csWaLc3FyNGTMm38VVV3ORztV8Do8//rjD+zZt2hT5O3ipr7/+WpI0cuRIh/annnpKkvJtPyIiQjExMUVe/7lz5xQUFKSgoCBVr15dTz/9tFq1aqXPP//cfrxWrFih06dPq2/fvg7fY1dXVzVv3vyy3+O/o7Ae6ujoaIe/KjRo0ED+/v5FOsZFOUcsW7ZMUVFRDrcjK1++vPr163fF9aenp0uSw7jWkpA39nnt2rX6448/ir38119/rVtvvVWtW7e2t/n6+uqxxx7T4cOH9eOPPzrM/+CDDzr8Nat58+YyxmjgwIEO8zVv3lxHjx7VxYsXJalEfjfk9ch+9dVXys7OLva+4vrAUAFcc2+++aZq1qwpNzc3hYSEqFatWvYgsH//fhljVKNGjQKX/esJT5IqVaqU74KTgwcPqlatWg7h71L79+9XWlqagoODC5x+6cVEBf1prly5ckU+0e/du1cvvPCCVq9ebf8FlCcvqB05ckSSVL16dYfpbm5uqlq1ar769+3bp6CgoCLV/1d52ynoT721a9fW+vXrL78zl9GsWTMtWrRIWVlZ2rVrlxYvXqzp06erZ8+e2rlzp+rWrStJ2rBhg8aOHauNGzfmC5ppaWn2IFpUERERGjlypKZNm6YPP/xQbdq0UdeuXXX//fcXaV1fffWVXn75Ze3cuVOZmZn29r8G0oMHD8rFxcW+D39XcT8HLy+vfJ93cb6DBW3fxcUl3/ctNDRUZcuWtdeXJyIioljr9/Ly0pdffilJ+vXXXzVlyhT7RWJ59u/fL0n2f3Bdyt/fv1jbLAo3NzeHYTd/9Xd+zouy7JEjRxQVFZVvvks/g4LkHYszZ85ccd7i8PT01CuvvKKnnnpKISEhatGihe6++249+OCDCg0NveLyR44cUfPmzfO15w3DOXLkiMPQoUuPU97PZ1hYWL723NxcpaWlKTAwsER+N7Rr106xsbEaP368pk+frttuu03du3fXfffdV6ThGrg+EFxxzd166632uwpcKjc3VzabTUuXLi3wyl1fX1+H95e7qvlycnNzFRwcXOhteS4NCIVdRWyKcGue06dPq127dvL399eECRMUGRkpLy8vbd++Xc8++6xyc3Ovqv769etr2rRpBU6/9JfAtebh4aFmzZqpWbNmqlmzph566CEtXLhQY8eO1cGDB9WxY0fVrl1b06ZNU1hYmDw8PPT1119r+vTpV3U8JGnq1KkaMGCAPv/8c/3vf//Tk08+qfj4eG3atKnQoCJJ3377rbp27aq2bdtq1qxZqlChgtzd3ZWQkKAFCxZc7SEocaV1JXtRe4uL+7Pm6urqcAu1mJgY1a5dW4MGDbL3wOd91vPnzy8wJF3uH595Cqu/sPuZenp6Fno7sr/zc/53li2K6tWry83NTbt37y7S/MU5LsOHD1eXLl20ZMkSLV++XC+++KLi4+O1evVq3XLLLX+r7ksVdpyudPxK4neDzWbTp59+qk2bNunLL7/U8uXLNXDgQE2dOlWbNm3Ktw5cnwiuuK5ERkbKGKOIiAjVrFnzqtexefNmZWdn5/tX+F/nWblypVq1anXV4fdShf2iWLt2rU6ePKlFixapbdu29vZDhw45zBceHi7pz4s82rdvb2+/ePGiDh8+rAYNGjjUv2vXLnXs2LHYf6bO205iYmK+nq7ExET79JKS94+U5ORkSdKXX36pzMxMffHFFw69LwX9Wbi4+1a/fn3Vr19fL7zwgr777ju1atVKb7/9tl5++eVCl/nss8/k5eWl5cuXO/S6JCQkOMwXGRmp3Nxc/fjjj5d98lRRa77Wn0NB28/NzdX+/fvtvWPSnxfbnD59usS3X6FCBY0YMULjx4/Xpk2b1KJFC/uf5YODg694n+DCjmveMJpLn+h2aY/x9SA8PLzA+xkX5R7HZcqUUYcOHbR69WodPXr0iv84Le5xiYyM1FNPPaWnnnpK+/fvV6NGjTR16lT95z//kVT48Q8PD1diYmK+9rwhUCX1PSqJ3w15WrRooRYtWmjixIlasGCB+vXrp48++kiPPPJIidSK0sUYV1xXevToIVdXV40fPz5fT4UxRidPnrziOmJjY/X777/rjTfeyDctb529e/dWTk6OXnrppXzzXLx48aoea5p3L8hLl83rHfjr/mRlZWnWrFkO8zVt2lSBgYF699137eO6JOnDDz/M96fK3r1767ffftO7776br44LFy7o3LlzhdbZtGlTBQcH6+2333b4s/jSpUu1b98+h6voi2PNmjUF9i7ljaXM+5N4QccjLS0tX1CU/jymRfks0tPTHY6Z9GeIdXFxcdjHgri6uspmszn0RB0+fDjfnRm6d+8uFxcXTZgwIV+v8F/3pag1l9bnUFSdO3eW9OfdG/4qrxe/NLY/dOhQlSlTRpMnT5b0Zy+sv7+/Jk2aVOCYwxMnTtj/v7Cfr/DwcLm6uuqbb75xaL/05+t6EBMTo40bN2rnzp32tlOnThX5gQxjx46VMUYPPPCAzp49m2/6tm3bNG/ePElFPy7nz5/P9zSzyMhI+fn5OXwvC/ted+7cWd9//702btxobzt37pxmz56tqlWrltjQmpL43fDHH3/kWzbvH6FXOk/g+kGPK64rkZGRevnllzV69Gj7raD8/Px06NAhLV68WI899piefvrpy67jwQcf1AcffKCRI0fq+++/V5s2bXTu3DmtXLlSgwcPVrdu3dSuXTsNGjRI8fHx2rlzpzp16iR3d3ft379fCxcu1Ouvv66ePXsWq/ZGjRrJ1dVVr7zyitLS0uTp6akOHTqoZcuWKleunPr3768nn3xSNptN8+fPz3cC9fDw0Lhx4zR06FB16NBBvXv31uHDhzV37lxFRkY69Hg88MAD+uSTT/T4449rzZo1atWqlXJycvTTTz/pk08+0fLlywsdjuHu7q5XXnlFDz30kNq1a6e+ffvab8NUtWrVq34M6tChQ3X+/Hndc889ql27trKysvTdd9/p448/VtWqVe0XSnTq1EkeHh7q0qWLBg0apLNnz+rdd99VcHCwvVc2T5MmTfTWW2/p5ZdfVvXq1RUcHFzgeMjVq1dryJAh6tWrl2rWrKmLFy9q/vz5cnV1VWxs7GXrvuuuuzRt2jTdcccduu+++3T8+HG9+eabql69un744Qf7fNWrV9fzzz+vl156SW3atFGPHj3k6empLVu2qGLFivZbbBW15tL6HIqqYcOG6t+/v2bPnm0fzvL9999r3rx56t69u0Ovf0kJDAzUQw89pFmzZmnfvn2qU6eO3nrrLT3wwANq3Lix+vTpo6CgICUlJem///2vWrVqZf8HaJMmTSRJTz75pGJiYuTq6qo+ffooICBAvXr10syZM2Wz2RQZGamvvvqqxB96URJGjRql//znP7r99ts1dOhQ++2wqlSpolOnTl2xt75ly5Z68803NXjwYNWuXdvhyVlr167VF198Yf/rQlGPy88//6yOHTuqd+/eqlu3rtzc3LR48WKlpqaqT58+9vkK+14/99xz+n//7//pzjvv1JNPPqny5ctr3rx5OnTokD777LMSe0pcSfxumDdvnmbNmqV77rlHkZGROnPmjN599135+/vb/yEHC7im9zDADa04t1b67LPPTOvWrY2Pj4/x8fExtWvXNnFxcSYxMdE+T2G3NjLmz9sbPf/88yYiIsK4u7ub0NBQ07NnT3Pw4EGH+WbPnm2aNGlivL29jZ+fn6lfv74ZNWqUOXbsmH2evJuLX6qghwK8++67plq1asbV1dXhVjQbNmwwLVq0MN7e3qZixYr2W0WpgNvVzJgxw4SHhxtPT09z6623mg0bNpgmTZqYO+64w2G+rKws88orr5ibb77ZeHp6mnLlypkmTZqY8ePHm7S0tCsdYvPxxx+bW265xXh6epry5csXeOP74nxmS5cuNQMHDjS1a9c2vr6+xsPDw1SvXt0MHTrUpKamOsz7xRdfmAYNGthvAP7KK68UeBP2lJQUc9dddxk/P7/L3sz/l19+MQMHDjSRkZHGy8vLlC9f3rRv396sXLnSYbuFfWfmzJljf1hF7dq1TUJCghk7dmyBt196//337cetXLlypl27dmbFihXFrjlPUT6Hwm7oX1iNlyps+ezsbDN+/Hj7z0lYWNhlH0BQVIVtz5g/b1bv6urq8DCLNWvWmJiYGBMQEGC8vLxMZGSkGTBggNm6dat9nosXL5qhQ4eaoKAgY7PZHPb7xIkTJjY21pQpU8aUK1fODBo0yOzZs6fQBxAURP//AwguFR4e7lDr5R5AcKmCzhE7duwwbdq0MZ6enqZy5comPj7ezJgxw0gyKSkpBdZ2qW3btpn77rvPVKxY0bi7u5ty5cqZjh07mnnz5jncqq0ox+X33383cXFxpnbt2sbHx8cEBASY5s2bm08++cRhm4V9r435vwcQlC1b1nh5eZlbb7210AcQXHrLusLOMXnf7RMnTji0/53fDdu3bzd9+/Y1VapUsT905u6773b4nuH6ZzPGyQ9+BnBZubm5CgoKUo8ePQocGgDA2oYPH6533nlHZ8+eddrjZAGrYIwrcB3JyMjIN4Tggw8+0KlTp3Tbbbc5pygAJebChQsO70+ePKn58+erdevWhFagCOhxBa4ja9eu1YgRI9SrVy8FBgZq+/btmjNnjurUqaNt27bluy8hAGtp1KiRbrvtNtWpU0epqamaM2eOjh07Zn+cK4DL4+Is4DpStWpVhYWFacaMGTp16pTKly+vBx98UJMnTya0Av8AnTt31qeffqrZs2fLZrOpcePGmjNnDqEVKCJ6XAEAAGAJjHEFAACAJRBcAQAAYAn/+DGuubm5OnbsmPz8/Ir9+EgAAACUPmOMzpw5o4oVK172wRX/+OB67NixKz7TGQAAAM539OhRVa5cudDp//jg6ufnJ+nPA+Hv7+/kagAAAHCp9PR0hYWF2XNbYf7xwTVveIC/vz/BFQAA4Dp2pWGdXJwFAAAASyC4AgAAwBIIrgAAALAEgisAAAAsgeAKAAAASyC4AgAAwBIIrkABqlatKpvNlu8VFxdnn2fjxo3q0KGDfHx85O/vr7Zt2+rChQuSpMzMTD3wwAPy9/dXzZo1tXLlSof1v/rqqxo6dOg13ScAAKzuH38fV+BqbNmyRTk5Ofb3e/bs0e23365evXpJ+jO03nHHHRo9erRmzpwpNzc37dq1y/6YutmzZ2vbtm3auHGjli5dqvvuu0+pqamy2Ww6dOiQ3n33XW3dutUp+wYAgFXZjDHG2UWUpvT0dAUEBCgtLY0HEOCqDR8+XF999ZX2798vm82mFi1a6Pbbb9dLL71U4PyDBw+Wv7+/Jk+erAsXLqhMmTI6fvy4goKCdMcdd2jQoEG65557rvFeAABwfSpqXmOoAHAFWVlZ+s9//qOBAwfKZrPp+PHj2rx5s4KDg9WyZUuFhISoXbt2Wr9+vX2Zhg0bav369bpw4YKWL1+uChUq6KabbtKHH34oLy8vQisAAFeB4ApcwZIlS3T69GkNGDBAkvTLL79IksaNG6dHH31Uy5YtU+PGjdWxY0ft379fkjRw4EA1bNhQdevW1cSJE/XJJ5/ojz/+0JgxYzRz5ky98MILql69umJiYvTbb785a9cAALAUhgoAVxATEyMPDw99+eWXkqTvvvtOrVq10ujRozVp0iT7fA0aNNBdd92l+Pj4Atfz0EMPqVGjRoqIiNC//vUvbd68WVOmTNGePXv02WefXZN9AQDgesRQAaAEHDlyRCtXrtQjjzxib6tQoYIkqW7dug7z1qlTR0lJSQWuZ82aNdq7d6+GDBmitWvXqnPnzvLx8VHv3r21du3aUqsfAIB/EoIrcBkJCQkKDg7WXXfdZW+rWrWqKlasqMTERId5f/75Z4WHh+dbR0ZGhuLi4vTOO+/I1dVVOTk5ys7OliRlZ2c73L0AAAAUjuAKFCI3N1cJCQnq37+/3Nz+785xNptNzzzzjGbMmKFPP/1UBw4c0IsvvqiffvpJDz/8cL71vPTSS+rcubNuueUWSVKrVq20aNEi/fDDD3rjjTfUqlWra7ZPAABYGfdxBQqxcuVKJSUlaeDAgfmmDR8+XBkZGRoxYoROnTqlhg0basWKFYqMjHSYb8+ePfrkk0+0c+dOe1vPnj21du1atWnTRrVq1dKCBQtKe1cAAPhH4OIsAAAAOBUXZwEAAOAfheAKAAAAS2CMKwq0KDHZ2SXgBtGjVgVnlwAAsAh6XAEAAGAJBFcAAABYAsEVAAAAlkBwBQAAgCUQXAEAAGAJBFcAAABYAsEVAAAAlkBwBQAAgCUQXAEAAGAJBFcAAABYAsEVAAAAlkBwBQAAgCUQXAEAAGAJBFcAAABYAsEVAAAAlkBwBQAAgCUQXAEAAGAJBFcAAABYAsEVAAAAlkBwBQAAgCUQXAEAAGAJBFcAAABYAsEVAAAAlkBwBQAAgCUQXAEAAGAJBFcAAABYAsEVAAAAlkBwBQAAgCUQXAEAAGAJBFcAAABYglODa9WqVWWz2fK94uLiJEkZGRmKi4tTYGCgfH19FRsbq9TUVGeWDAAAACdxanDdsmWLkpOT7a8VK1ZIknr16iVJGjFihL788kstXLhQ69at07Fjx9SjRw9nlgwAAAAncXPmxoOCghzeT548WZGRkWrXrp3S0tI0Z84cLViwQB06dJAkJSQkqE6dOtq0aZNatGjhjJIBAADgJNfNGNesrCz95z//0cCBA2Wz2bRt2zZlZ2crOjraPk/t2rVVpUoVbdy4sdD1ZGZmKj093eEFAAAA67tuguuSJUt0+vRpDRgwQJKUkpIiDw8PlS1b1mG+kJAQpaSkFLqe+Ph4BQQE2F9hYWGlWDUAAACulesmuM6ZM0d33nmnKlas+LfWM3r0aKWlpdlfR48eLaEKAQAA4ExOHeOa58iRI1q5cqUWLVpkbwsNDVVWVpZOnz7t0Ouampqq0NDQQtfl6ekpT0/P0iwXAAAATnBd9LgmJCQoODhYd911l72tSZMmcnd316pVq+xtiYmJSkpKUlRUlDPKBAAAgBM5vcc1NzdXCQkJ6t+/v9zc/q+cgIAAPfzwwxo5cqTKly8vf39/DR06VFFRUdxRAAAA4Abk9OC6cuVKJSUlaeDAgfmmTZ8+XS4uLoqNjVVmZqZiYmI0a9YsJ1QJAAAAZ7MZY4yziyhN6enpCggIUFpamvz9/Z1djmUsSkx2dgm4QfSoVcHZJQAAnKyoee26GOMKAAAAXAnBFQAAAJZAcAUAAIAlEFwBAABgCQRXAAAAWALBFQAAAJZAcAUAAIAlEFwBAABgCQRXAAAAWALBFQAAAJZAcAUAAIAlEFwBAABgCQRXAAAAWALBFQAAAJZAcAUAAIAlEFwBAABgCQRXAAAAWALBFQAAAJZAcAUAAIAlEFwBAABgCQRXAAAAWALBFQAAAJZAcAUAAIAlEFwBAABgCQRXAAAAWALBFQAAAJZAcAUAAIAlEFwBAABgCQRXAAAAWALBFQAAAJZAcAUAAIAlEFwBAABgCQRXAAAAWALBFQAAAJZAcAUAAIAlEFwBAABgCQRXAAAAWALBFQAAAJZAcAUAAIAlEFwBAABgCQRXAAAAWALBFQAAAJZAcAUAAIAlEFwBAABgCQRXAAAAWALBFQAAAJZAcAUAAIAlOD24/vbbb7r//vsVGBgob29v1a9fX1u3brVPN8ZozJgxqlChgry9vRUdHa39+/c7sWIAAAA4g1OD6x9//KFWrVrJ3d1dS5cu1Y8//qipU6eqXLly9nmmTJmiGTNm6O2339bmzZvl4+OjmJgYZWRkOLFyAAAAXGtuztz4K6+8orCwMCUkJNjbIiIi7P9vjNFrr72mF154Qd26dZMkffDBBwoJCdGSJUvUp0+fa14zAAAAnMOpPa5ffPGFmjZtql69eik4OFi33HKL3n33Xfv0Q4cOKSUlRdHR0fa2gIAANW/eXBs3bixwnZmZmUpPT3d4AQAAwPqcGlx/+eUXvfXWW6pRo4aWL1+uJ554Qk8++aTmzZsnSUpJSZEkhYSEOCwXEhJin3ap+Ph4BQQE2F9hYWGluxMAAAC4JpwaXHNzc9W4cWNNmjRJt9xyix577DE9+uijevvtt696naNHj1ZaWpr9dfTo0RKsGAAAAM7i1OBaoUIF1a1b16GtTp06SkpKkiSFhoZKklJTUx3mSU1NtU+7lKenp/z9/R1eAAAAsD6nBtdWrVopMTHRoe3nn39WeHi4pD8v1AoNDdWqVavs09PT07V582ZFRUVd01oBAADgXE69q8CIESPUsmVLTZo0Sb1799b333+v2bNna/bs2ZIkm82m4cOH6+WXX1aNGjUUERGhF198URUrVlT37t2dWToAAACuMacG12bNmmnx4sUaPXq0JkyYoIiICL322mvq16+ffZ5Ro0bp3Llzeuyxx3T69Gm1bt1ay5Ytk5eXlxMrBwAAwLVmM8YYZxdRmtLT0xUQEKC0tDTGuxbDosRkZ5eAG0SPWhWcXQIAwMmKmtec/shXAAAAoCgIrgAAALAEgisAAAAsgeAKAAAASyC4AgAAwBIIrgAAALAEgisAAAAsgeAKAAAASyC4AgAAwBIIrgAAALAEgisAAAAsgeAKAAAASyC4AgAAwBIIrgAAALAEgisAAAAsgeAKAAAASyC4AgAAwBIIrgAAALAEgisAAAAsgeAKAAAASyC4AgAAwBIIrgAAALAEgisAAAAsgeAKAAAASyC4AgAAwBIIrgAAALAEgisAAAAsgeAKAAAASyC4AgAAwBIIrgAAALAEgisAAAAsgeAKAAAASyC4AgAAwBIIrgAAALAEgisAAAAsgeAKAAAASyC4AgAAwBIIrgAAALAEgisAAAAsgeAKAAAASyC4AgAAwBIIrgAAALAEgisAAAAsgeAKAAAASyC4AgAAwBIIrgAAALAEpwbXcePGyWazObxq165tn56RkaG4uDgFBgbK19dXsbGxSk1NdWLFAAAAcBan97jefPPNSk5Otr/Wr19vnzZixAh9+eWXWrhwodatW6djx46pR48eTqwWAAAAzuLm9ALc3BQaGpqvPS0tTXPmzNGCBQvUoUMHSVJCQoLq1KmjTZs2qUWLFte6VAAAADiR03tc9+/fr4oVK6patWrq16+fkpKSJEnbtm1Tdna2oqOj7fPWrl1bVapU0caNG51VLgAAAJzEqT2uzZs319y5c1WrVi0lJydr/PjxatOmjfbs2aOUlBR5eHiobNmyDsuEhIQoJSWl0HVmZmYqMzPT/j49Pb20ygcAAMA15NTgeuedd9r/v0GDBmrevLnCw8P1ySefyNvb+6rWGR8fr/Hjx5dUiQAAALhOOH2owF+VLVtWNWvW1IEDBxQaGqqsrCydPn3aYZ7U1NQCx8TmGT16tNLS0uyvo0ePlnLVAAAAuBauq+B69uxZHTx4UBUqVFCTJk3k7u6uVatW2acnJiYqKSlJUVFRha7D09NT/v7+Di8AAABYn1OHCjz99NPq0qWLwsPDdezYMY0dO1aurq7q27evAgIC9PDDD2vkyJEqX768/P39NXToUEVFRXFHAQAAgBuQU4Prr7/+qr59++rkyZMKCgpS69attWnTJgUFBUmSpk+fLhcXF8XGxiozM1MxMTGaNWuWM0sGAACAk9iMMcbZRZSm9PR0BQQEKC0tjWEDxbAoMdnZJeAG0aNWBWeXAABwsqLmtetqjCsAAABQGIIrAAAALIHgCgAAAEsguAIAAMASCK4AAACwBIIrAAAALOGqg2tycrJ69uypoKAglS9fXl26dNEvv/xSkrUBAAAAdlcdXAcOHKh69epp3bp1Wr16tUJCQnTfffeVZG0AAACAXZGD67Bhw3Tu3Dn7+wMHDujZZ59V3bp11ahRIw0bNkyJiYmlUiQAAABQ5Ee+Vq5cWU2aNNGUKVPUtWtX3XvvvWrevLk6d+6s7OxsLVq0SP369SvNWgEAAHADK9YjXw8dOqTBgwfL29tbM2fO1Pbt27V27Vrl5OSoVatW6tmzp2w2W2nWW2w88vXq8MhXXCs88hUAUNS8VuQeV0mKiIjQ0qVL9eGHH6pdu3YaNmyY/v3vf193YRUAAAD/PMW+OOvkyZPq16+ftmzZoh07digqKko//PBDadQGAAAA2BU5uK5atUohISEKCgpS5cqV9dNPP+n9999XfHy8+vbtq1GjRunChQulWSsAAABuYEUOrnFxcRo1apTOnz+vN954Q8OHD5cktW/fXtu3b5e7u7saNWpUSmUCAADgRlfk4JqcnKy77rpLXl5euuOOO3TixAn7NE9PT02cOFGLFi0qlSIBAACAIl+c1bVrV/Xs2VNdu3bV+vXr1blz53zz3HzzzSVaHAAAAJCnyD2uc+bM0aBBg5SWlqb7779fr732WimWBQAAADgqco+rh4eHhg4dWpq1AAAAAIUq9u2wAAAAAGcguAIAAMASCK4AAACwBIIrAAAALOGqguvp06f13nvvafTo0Tp16pQkafv27frtt99KtDgAAAAgT5HvKpDnhx9+UHR0tAICAnT48GE9+uijKl++vBYtWqSkpCR98MEHpVEnAAAAbnDF7nEdOXKkBgwYoP3798vLy8ve3rlzZ33zzTclWhwAAACQp9jBdcuWLRo0aFC+9kqVKiklJaVEigIAAAAuVezg6unpqfT09HztP//8s4KCgkqkKAAAAOBSxQ6uXbt21YQJE5SdnS1JstlsSkpK0rPPPqvY2NgSLxAAAACQriK4Tp06VWfPnlVwcLAuXLigdu3aqXr16vLz89PEiRNLo0YAAACg+HcVCAgI0IoVK7R+/Xr98MMPOnv2rBo3bqzo6OjSqA8AAACQdBXBNU/r1q3VunXrkqwFAAAAKFSxg+uMGTMKbLfZbPLy8lL16tXVtm1bubq6/u3iAAAAgDzFDq7Tp0/XiRMndP78eZUrV06S9Mcff6hMmTLy9fXV8ePHVa1aNa1Zs0ZhYWElXjAAAABuTMW+OGvSpElq1qyZ9u/fr5MnT+rkyZP6+eef1bx5c73++utKSkpSaGioRowYURr1AgAA4AZV7B7XF154QZ999pkiIyPtbdWrV9e///1vxcbG6pdfftGUKVO4NRYAAABKVLF7XJOTk3Xx4sV87RcvXrQ/OatixYo6c+bM368OAAAA+P8VO7i2b99egwYN0o4dO+xtO3bs0BNPPKEOHTpIknbv3q2IiIiSqxIAAAA3vGIH1zlz5qh8+fJq0qSJPD095enpqaZNm6p8+fKaM2eOJMnX11dTp04t8WIBAABw4yr2GNfQ0FCtWLFCP/30k37++WdJUq1atVSrVi37PO3bty+5CgEAAAD9jQcQ1K5dW7Vr1y7JWgAAAIBCXVVw/fXXX/XFF18oKSlJWVlZDtOmTZtWIoUBAAAAf1Xs4Lpq1Sp17dpV1apV008//aR69erp8OHDMsaocePGpVEjAAAAUPyLs0aPHq2nn35au3fvlpeXlz777DMdPXpU7dq1U69evUqjRgAAAKD4wXXfvn168MEHJUlubm66cOGCfH19NWHCBL3yyislXiAAAAAgXUVw9fHxsY9rrVChgg4ePGif9vvvv5dcZQAAAMBfFHuMa4sWLbR+/XrVqVNHnTt31lNPPaXdu3dr0aJFatGiRWnUCAAAABS/x3XatGlq3ry5JGn8+PHq2LGjPv74Y1WtWtX+AIKrMXnyZNlsNg0fPtzelpGRobi4OAUGBsrX11exsbFKTU296m0AAADAuord41qtWjX7//v4+Ojtt9/+20Vs2bJF77zzjho0aODQPmLECP33v//VwoULFRAQoCFDhqhHjx7asGHD394mAAAArKXYPa7VqlXTyZMn87WfPn3aIdQW1dmzZ9WvXz+9++67KleunL09LS1Nc+bM0bRp09ShQwc1adJECQkJ+u6777Rp06ZibwcAAADWVuzgevjwYeXk5ORrz8zM1G+//VbsAuLi4nTXXXcpOjraoX3btm3Kzs52aK9du7aqVKmijRs3Fns7AAAAsLYiDxX44osv7P+/fPlyBQQE2N/n5ORo1apVqlq1arE2/tFHH2n79u3asmVLvmkpKSny8PBQ2bJlHdpDQkKUkpJS6DozMzOVmZlpf5+enl6smgAAAHB9KnJw7d69uyTJZrOpf//+DtPc3d1VtWpVTZ06tcgbPnr0qIYNG6YVK1bIy8uryMtdSXx8vMaPH19i6wMAAMD1ochDBXJzc5Wbm6sqVaro+PHj9ve5ubnKzMxUYmKi7r777iJveNu2bTp+/LgaN24sNzc3ubm5ad26dZoxY4bc3NwUEhKirKwsnT592mG51NRUhYaGFrre0aNHKy0tzf46evRokWsCAADA9avYdxU4dOhQiWy4Y8eO2r17t0PbQw89pNq1a+vZZ59VWFiY3N3dtWrVKsXGxkqSEhMTlZSUpKioqELX6+npKU9PzxKpEQAAANePYgdXSVq1apVWrVpl73n9q/fff79I6/Dz81O9evUc2nx8fBQYGGhvf/jhhzVy5EiVL19e/v7+Gjp0qKKionjQAQAAwA2o2MF1/PjxmjBhgpo2baoKFSrIZrOVRl2SpOnTp8vFxUWxsbHKzMxUTEyMZs2aVWrbAwAAwPXLZowxxVmgQoUKmjJlih544IHSqqlEpaenKyAgQGlpafL393d2OZaxKDHZ2SXgBtGjVgVnlwAAcLKi5rVi38c1KytLLVu2/FvFAQAAAMVV7OD6yCOPaMGCBaVRCwAAAFCoYo9xzcjI0OzZs7Vy5Uo1aNBA7u7uDtOnTZtWYsUBAAAAeYodXH/44Qc1atRIkrRnzx6HaaV5oRYAAABubMUOrmvWrCmNOgAAAIDLKvYY1zwHDhzQ8uXLdeHCBUlSMW9OAAAAABRLsYPryZMn1bFjR9WsWVOdO3dWcvKft016+OGH9dRTT5V4gQAAAIB0FcF1xIgRcnd3V1JSksqUKWNvv/fee7Vs2bISLQ4AAADIU+wxrv/73/+0fPlyVa5c2aG9Ro0aOnLkSIkVBgAAAPxVsXtcz50759DTmufUqVPy9PQskaIAAACASxU7uLZp00YffPCB/b3NZlNubq6mTJmi9u3bl2hxAAAAQJ5iDxWYMmWKOnbsqK1btyorK0ujRo3S3r17derUKW3YsKE0agQAAACK3+Nar149/fzzz2rdurW6deumc+fOqUePHtqxY4ciIyNLo0YAAACg+D2ukhQQEKDnn3++pGsBAAAAClXsHteEhAQtXLgwX/vChQs1b968EikKAAAAuFSxg2t8fLxuuummfO3BwcGaNGlSiRQFAAAAXKrYwTUpKUkRERH52sPDw5WUlFQiRQEAAACXKnZwDQ4O1g8//JCvfdeuXQoMDCyRogAAAIBLFTu49u3bV08++aTWrFmjnJwc5eTkaPXq1Ro2bJj69OlTGjUCAAAAxb+rwEsvvaTDhw+rY8eOcnP7c/Hc3Fw9+OCDjHEFAABAqSlWcDXGKCUlRXPnztXLL7+snTt3ytvbW/Xr11d4eHhp1QgAAAAUP7hWr15de/fuVY0aNVSjRo3SqgsAAABwUKwxri4uLqpRo4ZOnjxZWvUAAAAABSr2xVmTJ0/WM888oz179pRGPQAAAECBin1x1oMPPqjz58+rYcOG8vDwkLe3t8P0U6dOlVhxAAAAQJ5iB9fXXnutFMoAAAAALq/YwbV///6lUQcAAABwWcUe4ypJBw8e1AsvvKC+ffvq+PHjkqSlS5dq7969JVocAAAAkKfYwXXdunWqX7++Nm/erEWLFuns2bOS/nzk69ixY0u8QAAAAEC6iuD63HPP6eWXX9aKFSvk4eFhb+/QoYM2bdpUosUBAAAAeYodXHfv3q177rknX3twcLB+//33EikKAAAAuFSxg2vZsmWVnJycr33Hjh2qVKlSiRQFAAAAXKrYwbVPnz569tlnlZKSIpvNptzcXG3YsEFPP/20HnzwwdKoEQAAACh+cJ00aZJq166tsLAwnT17VnXr1lXbtm3VsmVLvfDCC6VRIwAAAFD8+7h6eHjo3Xff1ZgxY7R7926dPXtWt9xyi2rUqFEa9QEAAACSihFcc3Nz9eqrr+qLL75QVlaWOnbsqLFjx+Z75CsAAABQGoo8VGDixIn617/+JV9fX1WqVEmvv/664uLiSrM2AAAAwK7IwfWDDz7QrFmztHz5ci1ZskRffvmlPvzwQ+Xm5pZmfQAAAICkYgTXpKQkde7c2f4+OjpaNptNx44dK5XCAAAAgL8qcnC9ePGivLy8HNrc3d2VnZ1d4kUBAAAAlyryxVnGGA0YMECenp72toyMDD3++OPy8fGxty1atKhkKwQAAABUjODav3//fG33339/iRYDAAAAFKbIwTUhIaE06wAAAAAuq9hPzgIAAACcgeAKAAAASyC4AgAAwBIIrgAAALAEpwbXt956Sw0aNJC/v7/8/f0VFRWlpUuX2qdnZGQoLi5OgYGB8vX1VWxsrFJTU51YMQAAAJzFqcG1cuXKmjx5srZt26atW7eqQ4cO6tatm/bu3StJGjFihL788kstXLhQ69at07Fjx9SjRw9nlgwAAAAnsRljjLOL+Kvy5cvr1VdfVc+ePRUUFKQFCxaoZ8+ekqSffvpJderU0caNG9WiRYsirS89PV0BAQFKS0uTv79/aZb+j7IoMdnZJeAG0aNWBWeXAABwsqLmtetmjGtOTo4++ugjnTt3TlFRUdq2bZuys7MVHR1tn6d27dqqUqWKNm7c6MRKAQAA4AxFfgBBadm9e7eioqKUkZEhX19fLV68WHXr1tXOnTvl4eGhsmXLOswfEhKilJSUQteXmZmpzMxM+/v09PTSKh0AAADXkNN7XGvVqqWdO3dq8+bNeuKJJ9S/f3/9+OOPV72++Ph4BQQE2F9hYWElWC0AAACcxenB1cPDQ9WrV1eTJk0UHx+vhg0b6vXXX1doaKiysrJ0+vRph/lTU1MVGhpa6PpGjx6ttLQ0++vo0aOlvAcAAAC4FpweXC+Vm5urzMxMNWnSRO7u7lq1apV9WmJiopKSkhQVFVXo8p6envbba+W9AAAAYH1OHeM6evRo3XnnnapSpYrOnDmjBQsWaO3atVq+fLkCAgL08MMPa+TIkSpfvrz8/f01dOhQRUVFFfmOAgAAAPjncGpwPX78uB588EElJycrICBADRo00PLly3X77bdLkqZPny4XFxfFxsYqMzNTMTExmjVrljNLBgAAgJNcd/dxLWncx/XqcB9XXCvcxxUAYLn7uAIAAACXQ3AFAACAJRBcAQAAYAkEVwAAAFgCwRUAAACWQHAFAACAJRBcAQAAYAkEVwAAAFgCwRUAAACWQHAFAACAJRBcAQAAYAkEVwAAAFgCwRUAAACWQHAFAACAJRBcAQAAYAkEVwAAbgDx8fFq1qyZ/Pz8FBwcrO7duysxMdFhnkGDBikyMlLe3t4KCgpSt27d9NNPP9mnnzp1Sl26dJGvr69uueUW7dixw2H5uLg4TZ069ZrsD25MBFcAAG4A69atU1xcnDZt2qQVK1YoOztbnTp10rlz5+zzNGnSRAkJCdq3b5+WL18uY4w6deqknJwcSdLEiRN15swZbd++XbfddpseffRR+7KbNm3S5s2bNXz48Gu9a7iB2IwxxtlFlKb09HQFBAQoLS1N/v7+zi7HMhYlJju7BNwgetSq4OwSgBvSiRMnFBwcrHXr1qlt27YFzvPDDz+oYcOGOnDggCIjI9W5c2d17dpVjz/+uPbt26emTZvq3Llzys7OVrNmzfTee++padOm13hP8E9Q1LxGjysAADegtLQ0SVL58uULnH7u3DklJCQoIiJCYWFhkqSGDRtq9erVunjxopYvX64GDRpIkqZMmaLbbruN0IpSR3AFAOAGk5ubq+HDh6tVq1aqV6+ew7RZs2bJ19dXvr6+Wrp0qVasWCEPDw9J0nPPPSc3NzdFRkZq8eLFmjNnjvbv36958+bpxRdf1OOPP65q1aqpd+/e9mAMlCSCKwAAN5i4uDjt2bNHH330Ub5p/fr1044dO7Ru3TrVrFlTvXv3VkZGhiQpICBACxYs0JEjR7Ru3TrVrVtXgwYN0quvvqoPP/xQv/zyixITE1WmTBlNmDDhWu8WbgAEVwAAbiBDhgzRV199pTVr1qhy5cr5pgcEBKhGjRpq27atPv30U/30009avHhxgetKSEhQ2bJl1a1bN61du1bdu3eXu7u7evXqpbVr15bynuBG5ObsAgAAQOkzxmjo0KFavHix1q5dq4iIiCItY4xRZmZmvmknTpzQhAkTtH79eklSTk6OsrOzJUnZ2dn2OxEAJYngCgDADSAuLk4LFizQ559/Lj8/P6WkpEj6s4fV29tbv/zyiz7++GN16tRJQUFB+vXXXzV58mR5e3urc+fO+dY3fPhwPfXUU6pUqZIkqVWrVpo/f746deqk2bNnq1WrVtd0/3BjYKgAAAA3gLfeektpaWm67bbbVKFCBfvr448/liR5eXnp22+/VefOnVW9enXde++98vPz03fffafg4GCHdS1fvlwHDhzQ4MGD7W1DhgxRtWrV1Lx5c2VlZWns2LHXdP9wY+A+rigQ93HFtcJ9XAEA3McVAAAA/ygEVwAAAFgCF2cBAG4IDIHCtcIQqNJDjysAAAAsgeAKAAAASyC4AgAAwBIIrgAAALAEgisAAAAsgeAKAAAASyC4AgAAwBIIrgAAALAEgisAAAAsgeAKAAAASyC4AgAAwBIIrgAAALAEgisAAAAsgeAKAAAASyC4AgAAwBIIrgAAALAEgisAAAAsgeAKAAAAS3BqcI2Pj1ezZs3k5+en4OBgde/eXYmJiQ7zZGRkKC4uToGBgfL19VVsbKxSU1OdVDEAAACcxanBdd26dYqLi9OmTZu0YsUKZWdnq1OnTjp37px9nhEjRujLL7/UwoULtW7dOh07dkw9evRwYtUAAABwBjdnbnzZsmUO7+fOnavg4GBt27ZNbdu2VVpamubMmaMFCxaoQ4cOkqSEhATVqVNHmzZtUosWLZxRNgAAAJzguhrjmpaWJkkqX768JGnbtm3Kzs5WdHS0fZ7atWurSpUq2rhxo1NqBAAAgHM4tcf1r3JzczV8+HC1atVK9erVkySlpKTIw8NDZcuWdZg3JCREKSkpBa4nMzNTmZmZ9vfp6emlVjMAAACuneumxzUuLk579uzRRx999LfWEx8fr4CAAPsrLCyshCoEAACAM10XwXXIkCH66quvtGbNGlWuXNneHhoaqqysLJ0+fdph/tTUVIWGhha4rtGjRystLc3+Onr0aGmWDgAAgGvEqcHVGKMhQ4Zo8eLFWr16tSIiIhymN2nSRO7u7lq1apW9LTExUUlJSYqKiipwnZ6envL393d4AQAAwPqcOsY1Li5OCxYs0Oeffy4/Pz/7uNWAgAB5e3srICBADz/8sEaOHKny5cvL399fQ4cOVVRUFHcUAAAAuME4Nbi+9dZbkqTbbrvNoT0hIUEDBgyQJE2fPl0uLi6KjY1VZmamYmJiNGvWrGtcKQAAAJzNqcHVGHPFeby8vPTmm2/qzTffvAYVAQAA4Hp1XVycBQAAAFwJwRUAAACWQHAFAACAJRBcAQAAYAkEVwAAAFgCwRUAAACWQHAFAACAJRBcAQAAYAkEVwAAAFgCwRUAAACWQHAFAACAJRBcAQAAYAkEVwAAAFgCwRUAAACWQHAFAACAJRBcAQAAYAkEVwAAAFgCwRUAAACWQHAFAACAJRBcAQAAYAkEVwAAAFgCwRUAAACWQHAFAACAJRBcAQAAYAkEVwAAAFgCwRUAAACWQHAFAACAJRBcAQAAYAkEVwAAAFgCwRUAAACWQHAFAACAJRBcAQAAYAkEVwAAAFgCwRUAAACWQHAFAACAJRBcAQAAYAkEVwAAAFgCwRUAAACWQHAFAACAJRBcAQAAYAkEVwAAAFgCwRUAAACWQHAFAACAJRBcAQAAYAkEVwAAAFgCwRUAAACWQHAFAACAJTg1uH7zzTfq0qWLKlasKJvNpiVLljhMN8ZozJgxqlChgry9vRUdHa39+/c7p1gAAAA4lVOD67lz59SwYUO9+eabBU6fMmWKZsyYobffflubN2+Wj4+PYmJilJGRcY0rBQAAgLO5OXPjd955p+68884Cpxlj9Nprr+mFF15Qt27dJEkffPCBQkJCtGTJEvXp0+dalgoAAAAnu27HuB46dEgpKSmKjo62twUEBKh58+bauHFjoctlZmYqPT3d4QUAAADru26Da0pKiiQpJCTEoT0kJMQ+rSDx8fEKCAiwv8LCwkq1TgAAAFwb121wvVqjR49WWlqa/XX06FFnlwQAAIAScN0G19DQUElSamqqQ3tqaqp9WkE8PT3l7+/v8AIAAID1XbfBNSIiQqGhoVq1apW9LT09XZs3b1ZUVJQTKwMAAIAzOPWuAmfPntWBAwfs7w8dOqSdO3eqfPnyqlKlioYPH66XX35ZNWrUUEREhF588UVVrFhR3bt3d17RAAAAcAqnBtetW7eqffv29vcjR46UJPXv319z587VqFGjdO7cOT322GM6ffq0WrdurWXLlsnLy8tZJQMAAMBJbMYY4+wiSlN6eroCAgKUlpbGeNdiWJSY7OwScIPoUauCs0vADYLzGq4VzmvFV9S8dt2OcQUAAAD+iuAKAAAASyC4AgAAwBIIrgAAALAEgisAAAAsgeAKAAAASyC4AgAAwBIIrgAAALAEgisAAAAsgeAKAAAASyC4AgAAwBIIrgAAALAEgisAAAAsgeAKAAAASyC4AgAAwBIIrgAAALAEgisAAAAsgeAKAAAASyC4AgAAwBIIrgAAALAEgisAAAAsgeAKAAAASyC4AgAAwBIIrgAAALAEgisAAAAsgeAKAAAASyC4AgAAwBIIrgAAALAEgisAAAAsgeAKAAAASyC4AgAAwBIIrgAAALAEgisAAAAsgeAKAAAASyC4AgAAwBIIrgAAALAEgisAAAAsgeAKAAAASyC4AgAAwBIIrgAAALAEgisAAAAsgeAKAAAASyC4AgAAwBIIrgAAALAEgisAAAAsgeAKAAAASyC4AgAAwBIsEVzffPNNVa1aVV5eXmrevLm+//57Z5cEAACAa+y6D64ff/yxRo4cqbFjx2r79u1q2LChYmJidPz4cWeXBgAAgGvoug+u06ZN06OPPqqHHnpIdevW1dtvv60yZcro/fffd3ZpAAAAuIbcnF3A5WRlZWnbtm0aPXq0vc3FxUXR0dHauHFjgctkZmYqMzPT/j4tLU2SlJ6eXrrF/sOcP3vG2SXgBpGe7uPsEnCD4LyGa4XzWvHl5TRjzGXnu66D6++//66cnByFhIQ4tIeEhOinn34qcJn4+HiNHz8+X3tYWFip1AgAAICScebMGQUEBBQ6/boOrldj9OjRGjlypP19bm6uTp06pcDAQNlsNidWhn+69PR0hYWF6ejRo/L393d2OQDwt3Few7VijNGZM2dUsWLFy853XQfXm266Sa6urkpNTXVoT01NVWhoaIHLeHp6ytPT06GtbNmypVUikI+/vz8neAD/KJzXcC1crqc1z3V9cZaHh4eaNGmiVatW2dtyc3O1atUqRUVFObEyAAAAXGvXdY+rJI0cOVL9+/dX06ZNdeutt+q1117TuXPn9NBDDzm7NAAAAFxD131wvffee3XixAmNGTNGKSkpatSokZYtW5bvgi3A2Tw9PTV27Nh8Q1UAwKo4r+F6YzNXuu8AAAAAcB24rse4AgAAAHkIrgAAALAEgisAAAAsgeCKf6y1a9fKZrPp9OnTzi7FwYABA9S9e3enbX/u3LnFurfxkiVLVL16dbm6umr48OHFXr4wNptNS5Ys+dvrAVAyqlatqtdee61I854/f16xsbHy9/e3n2eLs3xhxo0bp0aNGv2tdeCfjeCKyxowYIBsNpsmT57s0L5kyZISfxLZ4cOHZbPZtHPnzhJd77WQF5JtNptcXFwUEBCgW265RaNGjVJycrLDvK+//rrmzp17Teoq6BfJvffeq59//rnI6xg0aJB69uypo0eP6qWXXir28gBK1okTJ/TEE0+oSpUq8vT0VGhoqGJiYrRhw4YiLV/YPz63bNmixx57rEjrmDdvnr799lt99913Sk5OVkBAQLGWB67WdX87LDifl5eXXnnlFQ0aNEjlypVzdjnKysqSh4fHdbntxMRE+fv7Kz09Xdu3b9eUKVM0Z84crV27VvXr15dUtCeDlCZvb295e3sXad6zZ8/q+PHjiomJcXgMX1GXB1DyYmNjlZWVpXnz5qlatWpKTU3VqlWrdPLkyb+13qCgoCLPe/DgQdWpU0f16tW7quWBq0WPK64oOjpaoaGhio+Pv+x869evV5s2beTt7a2wsDA9+eSTOnfunH16QX8aLlu2rL33MSIiQpJ0yy23yGaz6bbbbpP0f39anzhxoipWrKhatWpJkubPn6+mTZvKz89PoaGhuu+++3T8+PFi7VtSUpK6desmX19f+fv7q3fv3g6PGM77s9V7772niIgIeXl5XXZ9wcHBCg0NVc2aNdWnTx9t2LBBQUFBeuKJJ+zzXDpU4NNPP1X9+vXl7e2twMBARUdH24/b2rVrdeutt8rHx0dly5ZVq1atdOTIEUl//uLo1q2bQkJC5Ovrq2bNmmnlypX29d522206cuSIRowYYe8NlvL3tuzatUvt27eXn5+f/P391aRJE23dulVr166Vn5+fJKlDhw6y2Wxau3Ztgb01n3/+uRo3biwvLy9Vq1ZN48eP18WLF+3T9+/fr7Zt28rLy0t169bVihUrivDpALjU6dOn9e233+qVV15R+/btFR4erltvvVWjR49W165dJUnTpk1T/fr15ePjo7CwMA0ePFhnz56V9Oc55aGHHlJaWpr9vDBu3DhJjn+hMcZo3Lhx9l7dihUr6sknn5T057ll6tSp+uabbxzO1Zf+hef06dN65JFHFBQUJH9/f3Xo0EG7du1y2J/JkycrJCREfn5+evjhh5WRkVF6Bw//CARXXJGrq6smTZqkmTNn6tdffy1wnoMHD+qOO+5QbGysfvjhB3388cdav369hgwZUuTtfP/995KklStXKjk5WYsWLbJPW7VqlRITE7VixQp99dVXkqTs7Gy99NJL2rVrl5YsWaLDhw9rwIABRd5ebm6uunXrplOnTmndunVasWKFfvnlF917770O8x04cECfffaZFi1aVOxhDN7e3nr88ce1YcOGAkN1cnKy+vbtq4EDB2rfvn1au3atevToIWOMLl68qO7du6tdu3b64YcftHHjRj322GP2AHr27Fl17txZq1at0o4dO3THHXeoS5cuSkpKkiQtWrRIlStX1oQJE5ScnJxvyEKefv36qXLlytqyZYu2bdum5557Tu7u7mrZsqUSExMlSZ999pmSk5PVsmXLfMt/++23evDBBzVs2DD9+OOPeueddzR37lxNnDjRfpx79OghDw8Pbd68WW+//baeffbZYh1HAH/y9fWVr6+vlixZoszMzALncXFx0YwZM7R3717NmzdPq1ev1qhRoyRJLVu21GuvvSZ/f3/7eeHpp5/Ot47PPvtM06dP1zvvvKP9+/dryZIl9r8aLVq0SI8++qiioqLynav/qlevXjp+/LiWLl2qbdu2qXHjxurYsaNOnTolSfrkk080btw4TZo0SVu3blWFChU0a9askjhM+CczwGX079/fdOvWzRhjTIsWLczAgQONMcYsXrzY/PXr8/DDD5vHHnvMYdlvv/3WuLi4mAsXLhhjjJFkFi9e7DBPQECASUhIMMYYc+jQISPJ7NixI18NISEhJjMz87K1btmyxUgyZ86cMcYYs2bNGiPJ/PHHHwXO/7///c+4urqapKQke9vevXuNJPP9998bY4wZO3ascXd3N8ePH7/sti+3raVLlxpJZvPmzfb9yTum27ZtM5LM4cOH8y138uRJI8msXbv2stv+q5tvvtnMnDnT/j48PNxMnz7dYZ6EhAQTEBBgf+/n52fmzp1b4Pr++OMPI8msWbOm0OU7duxoJk2a5LDc/PnzTYUKFYwxxixfvty4ubmZ3377zT4975hc+n0AcGWffvqpKVeunPHy8jItW7Y0o0ePNrt27Sp0/oULF5rAwED7+0t/hvP89XwxdepUU7NmTZOVlVXgOocNG2batWtX6PLffvut8ff3NxkZGQ7zREZGmnfeeccYY0xUVJQZPHiww/TmzZubhg0bFrovAD2uKLJXXnlF8+bN0759+/JN27Vrl+bOnWvvDfD19VVMTIxyc3N16NChv73t+vXr5xtbum3bNnXp0kVVqlSRn5+f2rVrJ0n2Hscr2bdvn8LCwhQWFmZvq1u3rsqWLeuwj+Hh4X9r7Jb5/x9OV9DFbA0bNlTHjh1Vv3599erVS++++67++OMPSVL58uU1YMAAxcTEqEuXLnr99dcdek3Pnj2rp59+WnXq1FHZsmXl6+urffv2FXn/84wcOVKPPPKIoqOjNXnyZB08eLBYy+/atUsTJkxw+OwfffRRJScn6/z58/bj/NcxslFRUcXaBoD/Exsbq2PHjumLL77QHXfcobVr16px48b2YVcrV65Ux44dValSJfn5+emBBx7QyZMndf78+SJvo1evXrpw4YKqVaumRx99VIsXL3YY/nMlu3bt0tmzZxUYGOhwbjh06JD9HLNv3z41b97cYTnODbgSgiuKrG3btoqJidHo0aPzTTt79qwGDRqknTt32l+7du3S/v37FRkZKenP4GYuecJwdnZ2kbbt4+Pj8P7cuXOKiYmRv7+/PvzwQ23ZskWLFy+W9OcFVCXp0m0XV14Irlq1ar5prq6uWrFihZYuXaq6detq5syZqlWrlj3sJyQkaOPGjWrZsqU+/vhj1axZU5s2bZIkPf3001q8eLEmTZqkb7/9Vjt37lT9+vWLvf/jxo3T3r17ddddd2n16tWqW7eu/VgWxdmzZzV+/HiHz3737t3av3//FccEA7g6Xl5euv322/Xiiy/qu+++04ABAzR27FgdPnxYd999txo0aKDPPvtM27Zt05tvvimpeOfGsLAwJSYmatasWfL29tbgwYPVtm3bIp+zz549qwoVKjicF3bu3KnExEQ988wzV7XPgMRdBVBMkydPVqNGjewXSOVp3LixfvzxR1WvXr3QZYOCghx6DPfv3+/QA5DXo5qTk3PFOn766SedPHlSkydPtveYbt26tVj7UqdOHR09elRHjx61r+PHH3/U6dOnVbdu3WKtqzAXLlzQ7Nmz1bZt20J7bW02m1q1aqVWrVppzJgxCg8P1+LFizVy5EhJf16sdsstt2j06NGKiorSggUL1KJFC23YsEEDBgzQPffcI+nPXxSHDx92WLeHh0eRjmfNmjVVs2ZNjRgxQn379lVCQoJ9vVfSuHFjJSYmFvrZ5x3n5ORkVahQQZLs4RtAyahbt66WLFmibdu2KTc3V1OnTpWLy599U5988onDvEU9L3h7e6tLly7q0qWL4uLiVLt2be3evVuNGze+4rKNGzdWSkqK3NzcCvxHu/TnuWHz5s168MEH7W2cG3AlBFcUS/369dWvXz/NmDHDof3ZZ59VixYtNGTIED3yyCPy8fHRjz/+qBUrVuiNN96Q9OeV6W+88YaioqKUk5OjZ599Vu7u7vZ1BAcHy9vbW8uWLVPlypXl5eVV6K2jqlSpIg8PD82cOVOPP/649uzZo5deeqlY+xIdHW3fn9dee00XL17U4MGD1a5dOzVt2rSYR+ZPx48fV0ZGhs6cOaNt27ZpypQp+v333wu9eGHz5s1atWqVOnXqpODgYG3evFknTpxQnTp1dOjQIc2ePVtdu3ZVxYoVlZiYqP3799tP8jVq1NCiRYvUpUsX2Ww2vfjii8rNzXVYf9WqVfXNN9+oT58+8vT01E033eQw/cKFC3rmmWfUs2dPRURE6Ndff9WWLVsUGxtb5H0eM2aM7r77blWpUkU9e/aUi4uLdu3apT179ujll19WdHS0atasqf79++vVV19Venq6nn/++WIeWQCSdPLkSfXq1UsDBw5UgwYN5Ofnp61bt2rKlCnq1q2bqlevruzsbM2cOVNdunTRhg0b9Pbbbzuso2rVqjp79qxWrVqlhg0bqkyZMipTpozDPHPnzlVOTo6aN2+uMmXK6D//+Y+8vb0VHh5epDqjo6MVFRWl7t27a8qUKapZs6aOHTum//73v7rnnnvUtGlTDRs2TAMGDFDTpk3VqlUrffjhh9q7d6+qVatWYscL/0DOHmSL69tfLyTKc+jQIePh4WEu/fp8//335vbbbze+vr7Gx8fHNGjQwEycONE+/bfffjOdOnUyPj4+pkaNGubrr792uDjLGGPeffddExYWZlxcXOwD/wuqwRhjFixYYKpWrWo8PT1NVFSU+eKLLxwu7rrSxVnGGHPkyBHTtWtX4+PjY/z8/EyvXr1MSkqKffrYsWOLdKFA3rYkGZvNZvz8/EzDhg3NM888Y5KTkx3m/ev+/PjjjyYmJsYEBQUZT09PU7NmTfvFVSkpKaZ79+6mQoUKxsPDw4SHh5sxY8aYnJwcY8yfn0P79u2Nt7e3CQsLM2+88YZp166dGTZsmH1bGzduNA0aNDCenp72z+uvF2ZkZmaaPn36mLCwMOPh4WEqVqxohgwZYr+grigXZxljzLJly0zLli2Nt7e38ff3N7feequZPXu2fXpiYqJp3bq18fDwMDVr1jTLli3j4izgKmRkZJjnnnvONG7c2AQEBJgyZcqYWrVqmRdeeMGcP3/eGGPMtGnTTIUKFYy3t7eJiYkxH3zwQb5z4eOPP24CAwONJDN27FhjjOPFVYsXLzbNmzc3/v7+xsfHx7Ro0cKsXLnSvvyVLs4yxpj09HQzdOhQU7FiRePu7m7CwsJMv379HC6InThxornpppuMr6+v6d+/vxk1ahQXZ+GybMZcMugQAAAAuA5xcRYAAAAsgeAKAAAASyC4AgAAwBIIrgAAALAEgisAAAAsgeAKAAAASyC4AgAAwBIIrgAAALAEgisAAAAsgeAKAAAASyC4AgAAwBIIrgAAALCE/w/b/vXTzzI0mAAAAABJRU5ErkJggg==",
      "text/plain": [
       "<Figure size 800x600 with 1 Axes>"
      ]
     },
     "metadata": {},
     "output_type": "display_data"
    }
   ],
   "source": [
    "#to create a figure for our future visual:\n",
    "plt.figure(figsize=(8, 6))\n",
    "\n",
    "#to create a graph and assign the type of graph and color: \n",
    "ftime_sat_bars = ftime_satisf_percent.plot(kind='bar', color='lightblue')\n",
    "\n",
    "#to assign the title and ylabel:\n",
    "plt.title('Percentage of Satisfaction for Returning Customers')\n",
    "plt.ylabel('Percentage %')\n",
    "\n",
    "#to leave xlabel empty:\n",
    "plt.xlabel('')\n",
    "\n",
    "#to assign the rotation for ticks to 0: \n",
    "plt.xticks(rotation=0)\n",
    "\n",
    "#to place percentage values on top of the bars\n",
    "for bar in ftime_sat_bars.patches:\n",
    "    yval = bar.get_height()\n",
    "    plt.text(bar.get_x() + bar.get_width()/2.0, \n",
    "            yval, \n",
    "            f'{int(yval)}%', \n",
    "            ha='center', \n",
    "            va='bottom')\n",
    "\n",
    "plt.show()"
   ]
  },
  {
   "cell_type": "markdown",
   "metadata": {},
   "source": [
    "The satisfaction rate for Returning customers(47%) are much higher than for First-time customers (23%). But even for the Returning customers the rate is still below the 70% which is considered as a good satisfaction rate (according to Katie Muse from the source above). We need to explore data more, to find out what services the company can improve. "
   ]
  },
  {
   "cell_type": "markdown",
   "metadata": {},
   "source": [
    "### Does flight distance affect customer preferences or flight patterns?"
   ]
  },
  {
   "cell_type": "code",
   "execution_count": 18,
=======
   "execution_count": 65,
>>>>>>> 2340e33fc88fd5bd600ee7643b6b87380f722fd3
   "metadata": {},
   "outputs": [],
   "source": [
    "# ensure the Flight Distance to numeric and remove all the blanks.\n",
    "df['Flight Distance'] = pd.to_numeric(df['Flight Distance'], errors='coerce')\n",
    "df = df.dropna(subset=['Flight Distance','Class'])"
   ]
  },
  {
   "cell_type": "code",
<<<<<<< HEAD
   "execution_count": 20,
=======
   "execution_count": 66,
>>>>>>> 2340e33fc88fd5bd600ee7643b6b87380f722fd3
   "metadata": {},
   "outputs": [],
   "source": [
    "# Define the order from the 'Class' column\n",
    "class_order = ['Economy', 'Economy Plus', 'Business']\n",
    "\n",
    "# Reorder the 'Class' column\n",
    "df['Class'] = pd.Categorical(df['Class'],categories=class_order, ordered=True)"
   ]
  },
  {
   "cell_type": "code",
<<<<<<< HEAD
   "execution_count": 21,
=======
   "execution_count": 67,
>>>>>>> 2340e33fc88fd5bd600ee7643b6b87380f722fd3
   "metadata": {},
   "outputs": [
    {
     "data": {
      "text/plain": [
       "Text(0, 0.5, 'Class')"
      ]
     },
<<<<<<< HEAD
     "execution_count": 21,
=======
     "execution_count": 67,
>>>>>>> 2340e33fc88fd5bd600ee7643b6b87380f722fd3
     "metadata": {},
     "output_type": "execute_result"
    },
    {
     "data": {
      "image/png": "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",
      "text/plain": [
       "<Figure size 800x300 with 1 Axes>"
      ]
     },
     "metadata": {},
     "output_type": "display_data"
    }
   ],
   "source": [
    "plt.figure(figsize=(8,3))\n",
    "sns.scatterplot(x ='Flight Distance', y = 'Class',data = df)\n",
    "\n",
    "# Add title and label\n",
    "plt.title('Flight Distance vs flight patterns')\n",
    "plt.xlabel('Flight Distance (KM)')\n",
    "plt.ylabel('Class')"
   ]
  },
  {
   "cell_type": "markdown",
   "metadata": {},
   "source": [
    "If the flight distance is less than 3000 km, the flight patterns are similar. However, for distances greater than 3000 km, a higher proportion of passengers choose business class."
   ]
  },
  {
   "cell_type": "markdown",
   "metadata": {},
   "source": [
    "Which factors contribute to customer satisfaction the most? What about dissatisfaction?"
   ]
  },
  {
   "cell_type": "code",
<<<<<<< HEAD
   "execution_count": 22,
=======
   "execution_count": 77,
>>>>>>> 2340e33fc88fd5bd600ee7643b6b87380f722fd3
   "metadata": {},
   "outputs": [],
   "source": [
    "# Convert categorical variables to numerical if needed\n",
    "df = pd.get_dummies(df, drop_first=True)"
   ]
  },
  {
   "cell_type": "code",
<<<<<<< HEAD
   "execution_count": 24,
=======
   "execution_count": 78,
>>>>>>> 2340e33fc88fd5bd600ee7643b6b87380f722fd3
   "metadata": {},
   "outputs": [],
   "source": [
    "# Define features and target\n",
    "X = df.drop('Satisfaction_Satisfied', axis=1)\n",
    "y = df['Satisfaction_Satisfied']"
   ]
  },
  {
   "cell_type": "code",
<<<<<<< HEAD
   "execution_count": 25,
=======
   "execution_count": 79,
>>>>>>> 2340e33fc88fd5bd600ee7643b6b87380f722fd3
   "metadata": {},
   "outputs": [
    {
     "data": {
      "text/html": [
<<<<<<< HEAD
       "<style>#sk-container-id-1 {\n",
=======
       "<style>#sk-container-id-2 {\n",
>>>>>>> 2340e33fc88fd5bd600ee7643b6b87380f722fd3
       "  /* Definition of color scheme common for light and dark mode */\n",
       "  --sklearn-color-text: black;\n",
       "  --sklearn-color-line: gray;\n",
       "  /* Definition of color scheme for unfitted estimators */\n",
       "  --sklearn-color-unfitted-level-0: #fff5e6;\n",
       "  --sklearn-color-unfitted-level-1: #f6e4d2;\n",
       "  --sklearn-color-unfitted-level-2: #ffe0b3;\n",
       "  --sklearn-color-unfitted-level-3: chocolate;\n",
       "  /* Definition of color scheme for fitted estimators */\n",
       "  --sklearn-color-fitted-level-0: #f0f8ff;\n",
       "  --sklearn-color-fitted-level-1: #d4ebff;\n",
       "  --sklearn-color-fitted-level-2: #b3dbfd;\n",
       "  --sklearn-color-fitted-level-3: cornflowerblue;\n",
       "\n",
       "  /* Specific color for light theme */\n",
       "  --sklearn-color-text-on-default-background: var(--sg-text-color, var(--theme-code-foreground, var(--jp-content-font-color1, black)));\n",
       "  --sklearn-color-background: var(--sg-background-color, var(--theme-background, var(--jp-layout-color0, white)));\n",
       "  --sklearn-color-border-box: var(--sg-text-color, var(--theme-code-foreground, var(--jp-content-font-color1, black)));\n",
       "  --sklearn-color-icon: #696969;\n",
       "\n",
       "  @media (prefers-color-scheme: dark) {\n",
       "    /* Redefinition of color scheme for dark theme */\n",
       "    --sklearn-color-text-on-default-background: var(--sg-text-color, var(--theme-code-foreground, var(--jp-content-font-color1, white)));\n",
       "    --sklearn-color-background: var(--sg-background-color, var(--theme-background, var(--jp-layout-color0, #111)));\n",
       "    --sklearn-color-border-box: var(--sg-text-color, var(--theme-code-foreground, var(--jp-content-font-color1, white)));\n",
       "    --sklearn-color-icon: #878787;\n",
       "  }\n",
       "}\n",
       "\n",
<<<<<<< HEAD
       "#sk-container-id-1 {\n",
       "  color: var(--sklearn-color-text);\n",
       "}\n",
       "\n",
       "#sk-container-id-1 pre {\n",
       "  padding: 0;\n",
       "}\n",
       "\n",
       "#sk-container-id-1 input.sk-hidden--visually {\n",
=======
       "#sk-container-id-2 {\n",
       "  color: var(--sklearn-color-text);\n",
       "}\n",
       "\n",
       "#sk-container-id-2 pre {\n",
       "  padding: 0;\n",
       "}\n",
       "\n",
       "#sk-container-id-2 input.sk-hidden--visually {\n",
>>>>>>> 2340e33fc88fd5bd600ee7643b6b87380f722fd3
       "  border: 0;\n",
       "  clip: rect(1px 1px 1px 1px);\n",
       "  clip: rect(1px, 1px, 1px, 1px);\n",
       "  height: 1px;\n",
       "  margin: -1px;\n",
       "  overflow: hidden;\n",
       "  padding: 0;\n",
       "  position: absolute;\n",
       "  width: 1px;\n",
       "}\n",
       "\n",
<<<<<<< HEAD
       "#sk-container-id-1 div.sk-dashed-wrapped {\n",
=======
       "#sk-container-id-2 div.sk-dashed-wrapped {\n",
>>>>>>> 2340e33fc88fd5bd600ee7643b6b87380f722fd3
       "  border: 1px dashed var(--sklearn-color-line);\n",
       "  margin: 0 0.4em 0.5em 0.4em;\n",
       "  box-sizing: border-box;\n",
       "  padding-bottom: 0.4em;\n",
       "  background-color: var(--sklearn-color-background);\n",
       "}\n",
       "\n",
<<<<<<< HEAD
       "#sk-container-id-1 div.sk-container {\n",
=======
       "#sk-container-id-2 div.sk-container {\n",
>>>>>>> 2340e33fc88fd5bd600ee7643b6b87380f722fd3
       "  /* jupyter's `normalize.less` sets `[hidden] { display: none; }`\n",
       "     but bootstrap.min.css set `[hidden] { display: none !important; }`\n",
       "     so we also need the `!important` here to be able to override the\n",
       "     default hidden behavior on the sphinx rendered scikit-learn.org.\n",
       "     See: https://github.com/scikit-learn/scikit-learn/issues/21755 */\n",
       "  display: inline-block !important;\n",
       "  position: relative;\n",
       "}\n",
       "\n",
<<<<<<< HEAD
       "#sk-container-id-1 div.sk-text-repr-fallback {\n",
=======
       "#sk-container-id-2 div.sk-text-repr-fallback {\n",
>>>>>>> 2340e33fc88fd5bd600ee7643b6b87380f722fd3
       "  display: none;\n",
       "}\n",
       "\n",
       "div.sk-parallel-item,\n",
       "div.sk-serial,\n",
       "div.sk-item {\n",
       "  /* draw centered vertical line to link estimators */\n",
       "  background-image: linear-gradient(var(--sklearn-color-text-on-default-background), var(--sklearn-color-text-on-default-background));\n",
       "  background-size: 2px 100%;\n",
       "  background-repeat: no-repeat;\n",
       "  background-position: center center;\n",
       "}\n",
       "\n",
       "/* Parallel-specific style estimator block */\n",
       "\n",
<<<<<<< HEAD
       "#sk-container-id-1 div.sk-parallel-item::after {\n",
=======
       "#sk-container-id-2 div.sk-parallel-item::after {\n",
>>>>>>> 2340e33fc88fd5bd600ee7643b6b87380f722fd3
       "  content: \"\";\n",
       "  width: 100%;\n",
       "  border-bottom: 2px solid var(--sklearn-color-text-on-default-background);\n",
       "  flex-grow: 1;\n",
       "}\n",
       "\n",
<<<<<<< HEAD
       "#sk-container-id-1 div.sk-parallel {\n",
=======
       "#sk-container-id-2 div.sk-parallel {\n",
>>>>>>> 2340e33fc88fd5bd600ee7643b6b87380f722fd3
       "  display: flex;\n",
       "  align-items: stretch;\n",
       "  justify-content: center;\n",
       "  background-color: var(--sklearn-color-background);\n",
       "  position: relative;\n",
       "}\n",
       "\n",
<<<<<<< HEAD
       "#sk-container-id-1 div.sk-parallel-item {\n",
=======
       "#sk-container-id-2 div.sk-parallel-item {\n",
>>>>>>> 2340e33fc88fd5bd600ee7643b6b87380f722fd3
       "  display: flex;\n",
       "  flex-direction: column;\n",
       "}\n",
       "\n",
<<<<<<< HEAD
       "#sk-container-id-1 div.sk-parallel-item:first-child::after {\n",
=======
       "#sk-container-id-2 div.sk-parallel-item:first-child::after {\n",
>>>>>>> 2340e33fc88fd5bd600ee7643b6b87380f722fd3
       "  align-self: flex-end;\n",
       "  width: 50%;\n",
       "}\n",
       "\n",
<<<<<<< HEAD
       "#sk-container-id-1 div.sk-parallel-item:last-child::after {\n",
=======
       "#sk-container-id-2 div.sk-parallel-item:last-child::after {\n",
>>>>>>> 2340e33fc88fd5bd600ee7643b6b87380f722fd3
       "  align-self: flex-start;\n",
       "  width: 50%;\n",
       "}\n",
       "\n",
<<<<<<< HEAD
       "#sk-container-id-1 div.sk-parallel-item:only-child::after {\n",
=======
       "#sk-container-id-2 div.sk-parallel-item:only-child::after {\n",
>>>>>>> 2340e33fc88fd5bd600ee7643b6b87380f722fd3
       "  width: 0;\n",
       "}\n",
       "\n",
       "/* Serial-specific style estimator block */\n",
       "\n",
<<<<<<< HEAD
       "#sk-container-id-1 div.sk-serial {\n",
=======
       "#sk-container-id-2 div.sk-serial {\n",
>>>>>>> 2340e33fc88fd5bd600ee7643b6b87380f722fd3
       "  display: flex;\n",
       "  flex-direction: column;\n",
       "  align-items: center;\n",
       "  background-color: var(--sklearn-color-background);\n",
       "  padding-right: 1em;\n",
       "  padding-left: 1em;\n",
       "}\n",
       "\n",
       "\n",
       "/* Toggleable style: style used for estimator/Pipeline/ColumnTransformer box that is\n",
       "clickable and can be expanded/collapsed.\n",
       "- Pipeline and ColumnTransformer use this feature and define the default style\n",
       "- Estimators will overwrite some part of the style using the `sk-estimator` class\n",
       "*/\n",
       "\n",
       "/* Pipeline and ColumnTransformer style (default) */\n",
       "\n",
<<<<<<< HEAD
       "#sk-container-id-1 div.sk-toggleable {\n",
=======
       "#sk-container-id-2 div.sk-toggleable {\n",
>>>>>>> 2340e33fc88fd5bd600ee7643b6b87380f722fd3
       "  /* Default theme specific background. It is overwritten whether we have a\n",
       "  specific estimator or a Pipeline/ColumnTransformer */\n",
       "  background-color: var(--sklearn-color-background);\n",
       "}\n",
       "\n",
       "/* Toggleable label */\n",
<<<<<<< HEAD
       "#sk-container-id-1 label.sk-toggleable__label {\n",
=======
       "#sk-container-id-2 label.sk-toggleable__label {\n",
>>>>>>> 2340e33fc88fd5bd600ee7643b6b87380f722fd3
       "  cursor: pointer;\n",
       "  display: block;\n",
       "  width: 100%;\n",
       "  margin-bottom: 0;\n",
       "  padding: 0.5em;\n",
       "  box-sizing: border-box;\n",
       "  text-align: center;\n",
       "}\n",
       "\n",
<<<<<<< HEAD
       "#sk-container-id-1 label.sk-toggleable__label-arrow:before {\n",
=======
       "#sk-container-id-2 label.sk-toggleable__label-arrow:before {\n",
>>>>>>> 2340e33fc88fd5bd600ee7643b6b87380f722fd3
       "  /* Arrow on the left of the label */\n",
       "  content: \"▸\";\n",
       "  float: left;\n",
       "  margin-right: 0.25em;\n",
       "  color: var(--sklearn-color-icon);\n",
       "}\n",
       "\n",
<<<<<<< HEAD
       "#sk-container-id-1 label.sk-toggleable__label-arrow:hover:before {\n",
=======
       "#sk-container-id-2 label.sk-toggleable__label-arrow:hover:before {\n",
>>>>>>> 2340e33fc88fd5bd600ee7643b6b87380f722fd3
       "  color: var(--sklearn-color-text);\n",
       "}\n",
       "\n",
       "/* Toggleable content - dropdown */\n",
       "\n",
<<<<<<< HEAD
       "#sk-container-id-1 div.sk-toggleable__content {\n",
=======
       "#sk-container-id-2 div.sk-toggleable__content {\n",
>>>>>>> 2340e33fc88fd5bd600ee7643b6b87380f722fd3
       "  max-height: 0;\n",
       "  max-width: 0;\n",
       "  overflow: hidden;\n",
       "  text-align: left;\n",
       "  /* unfitted */\n",
       "  background-color: var(--sklearn-color-unfitted-level-0);\n",
       "}\n",
       "\n",
<<<<<<< HEAD
       "#sk-container-id-1 div.sk-toggleable__content.fitted {\n",
=======
       "#sk-container-id-2 div.sk-toggleable__content.fitted {\n",
>>>>>>> 2340e33fc88fd5bd600ee7643b6b87380f722fd3
       "  /* fitted */\n",
       "  background-color: var(--sklearn-color-fitted-level-0);\n",
       "}\n",
       "\n",
<<<<<<< HEAD
       "#sk-container-id-1 div.sk-toggleable__content pre {\n",
=======
       "#sk-container-id-2 div.sk-toggleable__content pre {\n",
>>>>>>> 2340e33fc88fd5bd600ee7643b6b87380f722fd3
       "  margin: 0.2em;\n",
       "  border-radius: 0.25em;\n",
       "  color: var(--sklearn-color-text);\n",
       "  /* unfitted */\n",
       "  background-color: var(--sklearn-color-unfitted-level-0);\n",
       "}\n",
       "\n",
<<<<<<< HEAD
       "#sk-container-id-1 div.sk-toggleable__content.fitted pre {\n",
=======
       "#sk-container-id-2 div.sk-toggleable__content.fitted pre {\n",
>>>>>>> 2340e33fc88fd5bd600ee7643b6b87380f722fd3
       "  /* unfitted */\n",
       "  background-color: var(--sklearn-color-fitted-level-0);\n",
       "}\n",
       "\n",
<<<<<<< HEAD
       "#sk-container-id-1 input.sk-toggleable__control:checked~div.sk-toggleable__content {\n",
=======
       "#sk-container-id-2 input.sk-toggleable__control:checked~div.sk-toggleable__content {\n",
>>>>>>> 2340e33fc88fd5bd600ee7643b6b87380f722fd3
       "  /* Expand drop-down */\n",
       "  max-height: 200px;\n",
       "  max-width: 100%;\n",
       "  overflow: auto;\n",
       "}\n",
       "\n",
<<<<<<< HEAD
       "#sk-container-id-1 input.sk-toggleable__control:checked~label.sk-toggleable__label-arrow:before {\n",
=======
       "#sk-container-id-2 input.sk-toggleable__control:checked~label.sk-toggleable__label-arrow:before {\n",
>>>>>>> 2340e33fc88fd5bd600ee7643b6b87380f722fd3
       "  content: \"▾\";\n",
       "}\n",
       "\n",
       "/* Pipeline/ColumnTransformer-specific style */\n",
       "\n",
<<<<<<< HEAD
       "#sk-container-id-1 div.sk-label input.sk-toggleable__control:checked~label.sk-toggleable__label {\n",
=======
       "#sk-container-id-2 div.sk-label input.sk-toggleable__control:checked~label.sk-toggleable__label {\n",
>>>>>>> 2340e33fc88fd5bd600ee7643b6b87380f722fd3
       "  color: var(--sklearn-color-text);\n",
       "  background-color: var(--sklearn-color-unfitted-level-2);\n",
       "}\n",
       "\n",
<<<<<<< HEAD
       "#sk-container-id-1 div.sk-label.fitted input.sk-toggleable__control:checked~label.sk-toggleable__label {\n",
=======
       "#sk-container-id-2 div.sk-label.fitted input.sk-toggleable__control:checked~label.sk-toggleable__label {\n",
>>>>>>> 2340e33fc88fd5bd600ee7643b6b87380f722fd3
       "  background-color: var(--sklearn-color-fitted-level-2);\n",
       "}\n",
       "\n",
       "/* Estimator-specific style */\n",
       "\n",
       "/* Colorize estimator box */\n",
<<<<<<< HEAD
       "#sk-container-id-1 div.sk-estimator input.sk-toggleable__control:checked~label.sk-toggleable__label {\n",
=======
       "#sk-container-id-2 div.sk-estimator input.sk-toggleable__control:checked~label.sk-toggleable__label {\n",
>>>>>>> 2340e33fc88fd5bd600ee7643b6b87380f722fd3
       "  /* unfitted */\n",
       "  background-color: var(--sklearn-color-unfitted-level-2);\n",
       "}\n",
       "\n",
<<<<<<< HEAD
       "#sk-container-id-1 div.sk-estimator.fitted input.sk-toggleable__control:checked~label.sk-toggleable__label {\n",
=======
       "#sk-container-id-2 div.sk-estimator.fitted input.sk-toggleable__control:checked~label.sk-toggleable__label {\n",
>>>>>>> 2340e33fc88fd5bd600ee7643b6b87380f722fd3
       "  /* fitted */\n",
       "  background-color: var(--sklearn-color-fitted-level-2);\n",
       "}\n",
       "\n",
<<<<<<< HEAD
       "#sk-container-id-1 div.sk-label label.sk-toggleable__label,\n",
       "#sk-container-id-1 div.sk-label label {\n",
=======
       "#sk-container-id-2 div.sk-label label.sk-toggleable__label,\n",
       "#sk-container-id-2 div.sk-label label {\n",
>>>>>>> 2340e33fc88fd5bd600ee7643b6b87380f722fd3
       "  /* The background is the default theme color */\n",
       "  color: var(--sklearn-color-text-on-default-background);\n",
       "}\n",
       "\n",
       "/* On hover, darken the color of the background */\n",
<<<<<<< HEAD
       "#sk-container-id-1 div.sk-label:hover label.sk-toggleable__label {\n",
=======
       "#sk-container-id-2 div.sk-label:hover label.sk-toggleable__label {\n",
>>>>>>> 2340e33fc88fd5bd600ee7643b6b87380f722fd3
       "  color: var(--sklearn-color-text);\n",
       "  background-color: var(--sklearn-color-unfitted-level-2);\n",
       "}\n",
       "\n",
       "/* Label box, darken color on hover, fitted */\n",
<<<<<<< HEAD
       "#sk-container-id-1 div.sk-label.fitted:hover label.sk-toggleable__label.fitted {\n",
=======
       "#sk-container-id-2 div.sk-label.fitted:hover label.sk-toggleable__label.fitted {\n",
>>>>>>> 2340e33fc88fd5bd600ee7643b6b87380f722fd3
       "  color: var(--sklearn-color-text);\n",
       "  background-color: var(--sklearn-color-fitted-level-2);\n",
       "}\n",
       "\n",
       "/* Estimator label */\n",
       "\n",
<<<<<<< HEAD
       "#sk-container-id-1 div.sk-label label {\n",
=======
       "#sk-container-id-2 div.sk-label label {\n",
>>>>>>> 2340e33fc88fd5bd600ee7643b6b87380f722fd3
       "  font-family: monospace;\n",
       "  font-weight: bold;\n",
       "  display: inline-block;\n",
       "  line-height: 1.2em;\n",
       "}\n",
       "\n",
<<<<<<< HEAD
       "#sk-container-id-1 div.sk-label-container {\n",
=======
       "#sk-container-id-2 div.sk-label-container {\n",
>>>>>>> 2340e33fc88fd5bd600ee7643b6b87380f722fd3
       "  text-align: center;\n",
       "}\n",
       "\n",
       "/* Estimator-specific */\n",
<<<<<<< HEAD
       "#sk-container-id-1 div.sk-estimator {\n",
=======
       "#sk-container-id-2 div.sk-estimator {\n",
>>>>>>> 2340e33fc88fd5bd600ee7643b6b87380f722fd3
       "  font-family: monospace;\n",
       "  border: 1px dotted var(--sklearn-color-border-box);\n",
       "  border-radius: 0.25em;\n",
       "  box-sizing: border-box;\n",
       "  margin-bottom: 0.5em;\n",
       "  /* unfitted */\n",
       "  background-color: var(--sklearn-color-unfitted-level-0);\n",
       "}\n",
       "\n",
<<<<<<< HEAD
       "#sk-container-id-1 div.sk-estimator.fitted {\n",
=======
       "#sk-container-id-2 div.sk-estimator.fitted {\n",
>>>>>>> 2340e33fc88fd5bd600ee7643b6b87380f722fd3
       "  /* fitted */\n",
       "  background-color: var(--sklearn-color-fitted-level-0);\n",
       "}\n",
       "\n",
       "/* on hover */\n",
<<<<<<< HEAD
       "#sk-container-id-1 div.sk-estimator:hover {\n",
=======
       "#sk-container-id-2 div.sk-estimator:hover {\n",
>>>>>>> 2340e33fc88fd5bd600ee7643b6b87380f722fd3
       "  /* unfitted */\n",
       "  background-color: var(--sklearn-color-unfitted-level-2);\n",
       "}\n",
       "\n",
<<<<<<< HEAD
       "#sk-container-id-1 div.sk-estimator.fitted:hover {\n",
=======
       "#sk-container-id-2 div.sk-estimator.fitted:hover {\n",
>>>>>>> 2340e33fc88fd5bd600ee7643b6b87380f722fd3
       "  /* fitted */\n",
       "  background-color: var(--sklearn-color-fitted-level-2);\n",
       "}\n",
       "\n",
       "/* Specification for estimator info (e.g. \"i\" and \"?\") */\n",
       "\n",
       "/* Common style for \"i\" and \"?\" */\n",
       "\n",
       ".sk-estimator-doc-link,\n",
       "a:link.sk-estimator-doc-link,\n",
       "a:visited.sk-estimator-doc-link {\n",
       "  float: right;\n",
       "  font-size: smaller;\n",
       "  line-height: 1em;\n",
       "  font-family: monospace;\n",
       "  background-color: var(--sklearn-color-background);\n",
       "  border-radius: 1em;\n",
       "  height: 1em;\n",
       "  width: 1em;\n",
       "  text-decoration: none !important;\n",
       "  margin-left: 1ex;\n",
       "  /* unfitted */\n",
       "  border: var(--sklearn-color-unfitted-level-1) 1pt solid;\n",
       "  color: var(--sklearn-color-unfitted-level-1);\n",
       "}\n",
       "\n",
       ".sk-estimator-doc-link.fitted,\n",
       "a:link.sk-estimator-doc-link.fitted,\n",
       "a:visited.sk-estimator-doc-link.fitted {\n",
       "  /* fitted */\n",
       "  border: var(--sklearn-color-fitted-level-1) 1pt solid;\n",
       "  color: var(--sklearn-color-fitted-level-1);\n",
       "}\n",
       "\n",
       "/* On hover */\n",
       "div.sk-estimator:hover .sk-estimator-doc-link:hover,\n",
       ".sk-estimator-doc-link:hover,\n",
       "div.sk-label-container:hover .sk-estimator-doc-link:hover,\n",
       ".sk-estimator-doc-link:hover {\n",
       "  /* unfitted */\n",
       "  background-color: var(--sklearn-color-unfitted-level-3);\n",
       "  color: var(--sklearn-color-background);\n",
       "  text-decoration: none;\n",
       "}\n",
       "\n",
       "div.sk-estimator.fitted:hover .sk-estimator-doc-link.fitted:hover,\n",
       ".sk-estimator-doc-link.fitted:hover,\n",
       "div.sk-label-container:hover .sk-estimator-doc-link.fitted:hover,\n",
       ".sk-estimator-doc-link.fitted:hover {\n",
       "  /* fitted */\n",
       "  background-color: var(--sklearn-color-fitted-level-3);\n",
       "  color: var(--sklearn-color-background);\n",
       "  text-decoration: none;\n",
       "}\n",
       "\n",
       "/* Span, style for the box shown on hovering the info icon */\n",
       ".sk-estimator-doc-link span {\n",
       "  display: none;\n",
       "  z-index: 9999;\n",
       "  position: relative;\n",
       "  font-weight: normal;\n",
       "  right: .2ex;\n",
       "  padding: .5ex;\n",
       "  margin: .5ex;\n",
       "  width: min-content;\n",
       "  min-width: 20ex;\n",
       "  max-width: 50ex;\n",
       "  color: var(--sklearn-color-text);\n",
       "  box-shadow: 2pt 2pt 4pt #999;\n",
       "  /* unfitted */\n",
       "  background: var(--sklearn-color-unfitted-level-0);\n",
       "  border: .5pt solid var(--sklearn-color-unfitted-level-3);\n",
       "}\n",
       "\n",
       ".sk-estimator-doc-link.fitted span {\n",
       "  /* fitted */\n",
       "  background: var(--sklearn-color-fitted-level-0);\n",
       "  border: var(--sklearn-color-fitted-level-3);\n",
       "}\n",
       "\n",
       ".sk-estimator-doc-link:hover span {\n",
       "  display: block;\n",
       "}\n",
       "\n",
       "/* \"?\"-specific style due to the `<a>` HTML tag */\n",
       "\n",
<<<<<<< HEAD
       "#sk-container-id-1 a.estimator_doc_link {\n",
=======
       "#sk-container-id-2 a.estimator_doc_link {\n",
>>>>>>> 2340e33fc88fd5bd600ee7643b6b87380f722fd3
       "  float: right;\n",
       "  font-size: 1rem;\n",
       "  line-height: 1em;\n",
       "  font-family: monospace;\n",
       "  background-color: var(--sklearn-color-background);\n",
       "  border-radius: 1rem;\n",
       "  height: 1rem;\n",
       "  width: 1rem;\n",
       "  text-decoration: none;\n",
       "  /* unfitted */\n",
       "  color: var(--sklearn-color-unfitted-level-1);\n",
       "  border: var(--sklearn-color-unfitted-level-1) 1pt solid;\n",
       "}\n",
       "\n",
<<<<<<< HEAD
       "#sk-container-id-1 a.estimator_doc_link.fitted {\n",
=======
       "#sk-container-id-2 a.estimator_doc_link.fitted {\n",
>>>>>>> 2340e33fc88fd5bd600ee7643b6b87380f722fd3
       "  /* fitted */\n",
       "  border: var(--sklearn-color-fitted-level-1) 1pt solid;\n",
       "  color: var(--sklearn-color-fitted-level-1);\n",
       "}\n",
       "\n",
       "/* On hover */\n",
<<<<<<< HEAD
       "#sk-container-id-1 a.estimator_doc_link:hover {\n",
=======
       "#sk-container-id-2 a.estimator_doc_link:hover {\n",
>>>>>>> 2340e33fc88fd5bd600ee7643b6b87380f722fd3
       "  /* unfitted */\n",
       "  background-color: var(--sklearn-color-unfitted-level-3);\n",
       "  color: var(--sklearn-color-background);\n",
       "  text-decoration: none;\n",
       "}\n",
       "\n",
<<<<<<< HEAD
       "#sk-container-id-1 a.estimator_doc_link.fitted:hover {\n",
       "  /* fitted */\n",
       "  background-color: var(--sklearn-color-fitted-level-3);\n",
       "}\n",
       "</style><div id=\"sk-container-id-1\" class=\"sk-top-container\"><div class=\"sk-text-repr-fallback\"><pre>RandomForestClassifier(random_state=42)</pre><b>In a Jupyter environment, please rerun this cell to show the HTML representation or trust the notebook. <br />On GitHub, the HTML representation is unable to render, please try loading this page with nbviewer.org.</b></div><div class=\"sk-container\" hidden><div class=\"sk-item\"><div class=\"sk-estimator fitted sk-toggleable\"><input class=\"sk-toggleable__control sk-hidden--visually\" id=\"sk-estimator-id-1\" type=\"checkbox\" checked><label for=\"sk-estimator-id-1\" class=\"sk-toggleable__label fitted sk-toggleable__label-arrow fitted\">&nbsp;&nbsp;RandomForestClassifier<a class=\"sk-estimator-doc-link fitted\" rel=\"noreferrer\" target=\"_blank\" href=\"https://scikit-learn.org/1.5/modules/generated/sklearn.ensemble.RandomForestClassifier.html\">?<span>Documentation for RandomForestClassifier</span></a><span class=\"sk-estimator-doc-link fitted\">i<span>Fitted</span></span></label><div class=\"sk-toggleable__content fitted\"><pre>RandomForestClassifier(random_state=42)</pre></div> </div></div></div></div>"
=======
       "#sk-container-id-2 a.estimator_doc_link.fitted:hover {\n",
       "  /* fitted */\n",
       "  background-color: var(--sklearn-color-fitted-level-3);\n",
       "}\n",
       "</style><div id=\"sk-container-id-2\" class=\"sk-top-container\"><div class=\"sk-text-repr-fallback\"><pre>RandomForestClassifier(random_state=42)</pre><b>In a Jupyter environment, please rerun this cell to show the HTML representation or trust the notebook. <br />On GitHub, the HTML representation is unable to render, please try loading this page with nbviewer.org.</b></div><div class=\"sk-container\" hidden><div class=\"sk-item\"><div class=\"sk-estimator fitted sk-toggleable\"><input class=\"sk-toggleable__control sk-hidden--visually\" id=\"sk-estimator-id-2\" type=\"checkbox\" checked><label for=\"sk-estimator-id-2\" class=\"sk-toggleable__label fitted sk-toggleable__label-arrow fitted\">&nbsp;&nbsp;RandomForestClassifier<a class=\"sk-estimator-doc-link fitted\" rel=\"noreferrer\" target=\"_blank\" href=\"https://scikit-learn.org/1.5/modules/generated/sklearn.ensemble.RandomForestClassifier.html\">?<span>Documentation for RandomForestClassifier</span></a><span class=\"sk-estimator-doc-link fitted\">i<span>Fitted</span></span></label><div class=\"sk-toggleable__content fitted\"><pre>RandomForestClassifier(random_state=42)</pre></div> </div></div></div></div>"
>>>>>>> 2340e33fc88fd5bd600ee7643b6b87380f722fd3
      ],
      "text/plain": [
       "RandomForestClassifier(random_state=42)"
      ]
     },
<<<<<<< HEAD
     "execution_count": 25,
=======
     "execution_count": 79,
>>>>>>> 2340e33fc88fd5bd600ee7643b6b87380f722fd3
     "metadata": {},
     "output_type": "execute_result"
    }
   ],
   "source": [
    "# Split the data into training and testing sets\n",
    "X_train, X_test, y_train, y_test = train_test_split(X, y, test_size=0.2, random_state=42)\n",
    "\n",
    "# Train a RandomForestClassifier to determine feature importance\n",
    "model = RandomForestClassifier(n_estimators=100, random_state=42)\n",
    "model.fit(X_train, y_train)"
   ]
  },
  {
   "cell_type": "code",
<<<<<<< HEAD
   "execution_count": 26,
=======
   "execution_count": 80,
>>>>>>> 2340e33fc88fd5bd600ee7643b6b87380f722fd3
   "metadata": {},
   "outputs": [],
   "source": [
    "# Get feature importances\n",
    "importances = model.feature_importances_\n",
    "feature_names = X.columns\n",
    "feature_importance_df = pd.DataFrame({'Feature': feature_names, 'Importance': importances})"
   ]
  },
  {
   "cell_type": "code",
<<<<<<< HEAD
   "execution_count": 27,
=======
   "execution_count": 81,
>>>>>>> 2340e33fc88fd5bd600ee7643b6b87380f722fd3
   "metadata": {},
   "outputs": [
    {
     "name": "stdout",
     "output_type": "stream",
     "text": [
      "                    Feature  Importance\n",
      "8           Online Boarding    0.168496\n",
      "16   In-flight Wifi Service    0.136094\n",
      "21  Type of Travel_Personal    0.097954\n",
      "23           Class_Business    0.095060\n",
      "17  In-flight Entertainment    0.065359\n",
      "12         Leg Room Service    0.042751\n",
      "6    Ease of Online Booking    0.036639\n",
      "11             Seat Comfort    0.036582\n",
      "20  Customer Type_Returning    0.035764\n",
      "2           Flight Distance    0.033889\n"
     ]
    }
   ],
   "source": [
    "# Sort the dataframe by importance\n",
    "feature_importance_df = feature_importance_df.sort_values(by='Importance', ascending=False)\n",
    "print(feature_importance_df.head(10))"
   ]
  },
  {
   "cell_type": "code",
<<<<<<< HEAD
   "execution_count": 28,
=======
   "execution_count": 82,
>>>>>>> 2340e33fc88fd5bd600ee7643b6b87380f722fd3
   "metadata": {},
   "outputs": [
    {
     "data": {
      "image/png": "iVBORw0KGgoAAAANSUhEUgAABIUAAAK9CAYAAAC6tdxXAAAAOXRFWHRTb2Z0d2FyZQBNYXRwbG90bGliIHZlcnNpb24zLjkuMCwgaHR0cHM6Ly9tYXRwbG90bGliLm9yZy80BEi2AAAACXBIWXMAAA9hAAAPYQGoP6dpAACjy0lEQVR4nOzdd3xO9///8eclZC9BJNpIjCRi7xW71C5qNx+b2ntV7VhtzarSohWU0qGotmYFDbWD2mK2TSlKkFrJ+f3hl+vrkogkQtT1uN9u1+3mep/3eZ/XOdeVfD559n3ex2QYhiEAAAAAAABYlUwZXQAAAAAAAACeP0IhAAAAAAAAK0QoBAAAAAAAYIUIhQAAAAAAAKwQoRAAAAAAAIAVIhQCAAAAAACwQoRCAAAAAAAAVohQCAAAAAAAwAoRCgEAAAAAAFghQiEAAICX1JgxY2QymSzaTCaTevXq9VyOHxYWJpPJpLNnzz6X4wEpkdTPRUpcvHhRzZo1U7Zs2WQymTRjxoz0L+4x0lozADwJoRAAAKlkMplS9AoPD3/mtcyZM0fNmzdX7ty5ZTKZ1L59+8f2vXbtmt5++23lyJFDTk5Oql69uvbt25ei41SrVu2x53ns2LF0OpsHfvzxR40ZMyZdx0wvt2/f1vTp01WuXDm5ubnJ3t5eAQEB6tWrl06cOPFMjz1x4kStXLnymR4jrV7E2p719yg8PFxvvvmmvLy8ZGtrK09PTzVs2FArVqx4Zsd8Ea9zevr+++9VtWpVeXp6ytHRUXnz5lWLFi20du3aVI8VGxurMWPGpOvv4f79+2vdunUaNmyYFi9erDp16qTb2NKzqRkAnsRkGIaR0UUAAPBf8sUXX1i8X7RokTZs2KDFixdbtNeqVUs5c+Z8prX4+fnpxo0bKlu2rDZu3KiQkBCFhYUl6hcfH6/KlSvrwIEDGjx4sLJnz67Zs2frwoUL2rt3r/z9/ZM9TrVq1RQVFaVJkyYl2vbGG2/I1dU1vU5JvXr10scff6wX7f+iXL58WXXq1NHevXvVoEED1axZU87Ozjp+/LiWLVumv/76S3fv3n1mx3d2dlazZs2S/Hwf5/79+7p//77s7e3NbSaTST179tSsWbOeeW1xcXG6d++e7Ozsnvssh2f5PRo9erRCQ0Pl7++v1q1by9fXV1euXNGPP/6o8PBwLVmyRG+99Va6Hzct34H/iilTpmjw4MGqWrWqGjVqJEdHR506dUobN25UsWLFUn3Oly9fVo4cOTR69OhE4WBSPxcp4eXlpZo1ayb634D08ixqBoAnyZzRBQAA8F/zv//9z+L9r7/+qg0bNiRqfx62bNliniXk7Oz82H7ffPONtm/frq+//lrNmjWTJLVo0UIBAQEaPXq0li5d+sRjubm5Zcg5pof4+HjdvXv3qf6gat++vfbv369vvvlGTZs2tdg2btw4DR8+/GnLTDe3bt2Sk5OTMmfOrMyZM+7/7tnY2MjGxibDjv8sfPPNNwoNDVWzZs20dOlSZcmSxbxt8ODBWrdune7du5eBFb6YDMPQ7du35eDgkGjb/fv3NW7cONWqVUvr169PtP3SpUvpWktafy4uXbokd3f3dK0lpTL6ZxnAS8wAAABPpWfPnsaj/5N68+ZNY8CAAcarr75q2NraGgEBAcbkyZON+Ph4i36SjJ49expffPGFERAQYNjZ2RklS5Y0tmzZkuo6nJycjHbt2iW5rXnz5kbOnDmNuLg4i/a3337bcHR0NG7fvp3s2FWrVjUKFSr02O0rV6406tWrZ3h7exu2trZG3rx5jdDQUOP+/fuJ+v76669G3bp1DXd3d8PR0dEoUqSIMWPGDMMwDKNdu3aGpESvBGm5rgULFjQyZ85sfPfdd4ZhGMaXX35plCxZ0nB2djZcXFyMwoULm4//OL/++qshyejSpUuy/R62adMmo1KlSoajo6Ph5uZmvPHGG8aRI0cs+owePdqQZJw8edJo166d4ebmZri6uhrt27c3bt26ZXE+j74SPuuEMQ4fPmy0bt3acHd3N4oXL26x7XHXJrnvXLt27QxfX99E5/XomMnVtmDBAkOScebMGXN/X19fo379+sa2bduMMmXKGHZ2dkaePHmMhQsXJjrWgQMHjCpVqhj29vbGK6+8YowbN874/PPPE435qPT6HiWlQIEChoeHhxETE/PEvkmdv2EYxubNmw1JxubNm81tJ06cMN58800jZ86chp2dnfHKK68YLVu2NK5du2YYRvLX2TAMY9++fUadOnUMFxcXw8nJyahRo4axY8eOJOvZtm2b0bt3byN79uyGm5ub8fbbbxt37twx/vnnH6NNmzaGu7u74e7ubgwePDjRNYmLizOmT59uFCxY0LCzszM8PT2Nt99+27h69apFv4TPee3atUapUqUMOzs7Y/r06Ulep+joaEOSMWbMmCde0zt37hgjR440SpYsabi6uhqOjo5GpUqVjJ9//tnc58yZM0ler9GjRxuGkfTPxfr1643g4GDDzc3NcHJyMgICAoxhw4ZZXLekvk9XrlwxBg4caBQuXNhwcnIyXFxcjDp16hiRkZGJav/333+N0aNHG/7+/oadnZ3h5eVlNGnSxDh16lSaar53754RGhpq5M2b17C1tTV8fX2NYcOGJfp9npqfOQDWh7gZAIB0ZhiG3njjDW3evFmdOnVS8eLFtW7dOg0ePFh//PGHpk+fbtF/y5YtWr58ufr06SM7OzvNnj1bderU0a5du1S4cOF0qWn//v0qWbKkMmWyXE6wbNmymjt3rk6cOKEiRYokO0ZcXJwuX75s0WZvby9nZ2eFhYXJ2dlZAwYMkLOzs37++WeNGjVKMTExmjx5srn/hg0b1KBBA3l7e6tv377y8vLS0aNHtWbNGvXt21ddu3bVn3/+meTteKm9rj///LO++uor9erVS9mzZ5efn582bNig1q1b67XXXtP7778vSTp69KgiIiLUt2/fx5776tWrJUlt2rRJ9hol2Lhxo+rWrau8efNqzJgx+vfff/XRRx8pODhY+/btk5+fn0X/Fi1aKE+ePJo0aZL27dun+fPny9PT01zj4sWL1blzZ5UtW1Zvv/22JClfvnwWYzRv3lz+/v6aOHHiE2+ZSs/vXEpqe9SpU6fUrFkzderUSe3atdPnn3+u9u3bq1SpUipUqJAk6Y8//lD16tVlMpk0bNgwOTk5af78+bKzs3tiTen5PXrYyZMndezYMXXs2FEuLi5PrCOl7t69q9q1a+vOnTvq3bu3vLy89Mcff2jNmjW6du2a3Nzckr3Ohw8fVuXKleXq6qohQ4YoS5Ys+vTTT1WtWjVt2bJF5cqVszhewjHGjh2rX3/9VXPnzpW7u7u2b9+u3Llza+LEifrxxx81efJkFS5cWG3btjXv27VrV4WFhalDhw7q06ePzpw5o1mzZmn//v2KiIiwmDl1/PhxtW7dWl27dlWXLl0UGBiY5Pl7enrKwcFB33//vXr37i0PD4/HXquYmBjNnz9frVu3VpcuXXTjxg199tlnql27tnbt2qXixYsrR44cmjNnjrp3764mTZrozTfflCQVLVo0yTEPHz6sBg0aqGjRogoNDZWdnZ1OnTqliIgISVKVKlW0ePFitWnTRrVq1bK4HqdPn9bKlSvVvHlz5cmTRxcvXtSnn36qqlWr6siRI8qVK5ekB78/GzRooE2bNqlVq1bq27evbty4oQ0bNui3335TzZo1U1WzJHXu3FkLFy5Us2bNNHDgQO3cuVOTJk3S0aNH9d1331n0TcnPHAArlbGZFAAA/32PzhRauXKlIckYP368Rb9mzZoZJpPJOHXqlLlN//+/Bu/Zs8fcdu7cOcPe3t5o0qRJqupIbqaQk5OT0bFjx0TtP/zwgyHJWLt2bbJjV61aNdmZCrGxsYn26dq1q8UspPv37xt58uQxfH19jX/++cei78OzEZKaeWUYqb+umTJlMg4fPmzRt2/fvoarq2uSM5iS06RJE0NSorofp3jx4oanp6dx5coVc9uBAweMTJkyGW3btjW3JfzX/0c/myZNmhjZsmWzaHvc55swRuvWrR+77WEp/c6ldKZQcrU9bqaQJGPr1q3mtkuXLhl2dnbGwIEDzW29e/c2TCaTsX//fnPblStXDA8PjyfOFDKM9PkePWrVqlWGpMfOeHlUSmcK7d+/35BkfP3118mO97jr3LhxY8PW1taIiooyt/3555+Gi4uLUaVKlUT11K5d2+JnrkKFCobJZDK6detmbrt//77x6quvGlWrVjW3bdu2zZBkLFmyxOL4a9euTdSe8Dk/6XdLglGjRhmSDCcnJ6Nu3brGhAkTjL179ybqd//+fePOnTsWbf/884+RM2dOi5+jv//+22KmzcMe/Q5Pnz7dkGT8/fffydao/z/L7mG3b99ONAPzzJkzhp2dnREaGmpuS5jhNm3atETjJnwWqak5MjLSkGR07tzZot+gQYMMSRYzp1L6MwfAOvH0MQAA0tmPP/4oGxsb9enTx6J94MCBMgxDP/30k0V7hQoVVKpUKfP73Llzq1GjRlq3bp3i4uLSpaZ///03yRkWCWvs/Pvvv08cI2GmzcOvIUOGSJLFOiE3btzQ5cuXVblyZcXGxpqfTrZ//36dOXNG/fr1S7QuR0oWIU7tda1ataoKFixo0ebu7q5bt25pw4YNTzzew2JiYiQpRbNDoqOjFRkZqfbt21vMeChatKhq1aqlH3/8MdE+3bp1s3hfuXJlXblyxXzclHh0jOQ8j+9ccgoWLKjKlSub3+fIkUOBgYE6ffq0uW3t2rWqUKGCihcvbm7z8PBQSEjIUx07td+jh6Xme5Aabm5ukqR169YpNjY2VfvGxcVp/fr1aty4sfLmzWtu9/b21ltvvaVffvkl0feoU6dOFj9z5cqVk2EY6tSpk7nNxsZGpUuXtvhMvv76a7m5ualWrVq6fPmy+VWqVCk5Oztr8+bNFsfJkyePateunaLzGDt2rJYuXaoSJUpo3bp1Gj58uEqVKqWSJUvq6NGjFnXZ2tpKerBW2NWrV3X//n2VLl06xU9TfFTC76NVq1YpPj4+Vfva2dmZZ2DGxcXpypUrcnZ2VmBgoEU93377rbJnz67evXsnGiMti7An/B4ZMGCARfvAgQMlST/88INFe0p+5gBYJ0IhAADS2blz55QrV65EfzgGBQWZtz8sqSd/BQQEKDY2Vn///Xe61OTg4KA7d+4kar99+7Z5+5M4OTmpZs2aFq+E0OXw4cNq0qSJ3Nzc5Orqqhw5cpgXpb5+/bokKSoqSpLSfEtcaq9rnjx5Eo3Ro0cPBQQEqG7dunr11VfVsWPHFD3uOuHpajdu3EhRnZKSvFUmKChIly9f1q1btyzac+fObfE+a9askqR//vnnicdLkNT5Ps7z+M4l59HzlR6c88Pne+7cOeXPnz9Rv6TaUiO136OHpeZ7kBp58uTRgAEDNH/+fGXPnl21a9fWxx9/bP7ZSc7ff/+t2NjYx37f4uPjdeHCBYv2R69/Qijl4+OTqP3hz+TkyZO6fv26PD09lSNHDovXzZs3Ey0InZrvpCS1bt1a27Zt0z///KP169frrbfe0v79+9WwYUPz7ypJWrhwoYoWLSp7e3tly5ZNOXLk0A8//JCi65WUli1bKjg4WJ07d1bOnDnVqlUrffXVVykKiOLj4zV9+nT5+/vLzs5O2bNnV44cOXTw4EGLeqKiohQYGJhui0WfO3dOmTJlSvTz4OXlJXd390Tf45T8zAGwToRCAABYAW9vb0VHRydqT2hLWPciLa5du6aqVavqwIEDCg0N1ffff68NGzaY18NJ7X95Ty9JBV2enp6KjIzU6tWrzevK1K1bV+3atUt2rAIFCkiSDh069ExqfdwTuoxUPE49JcFeajxu9kJ6zCRKj/PNCKn9HqTmGk6dOlUHDx7Uu+++q3///Vd9+vRRoUKF9Pvvv6e94Md43PVPqv3hzyQ+Pl6enp6JZgwmvEJDQy32Tet30tXVVbVq1dKSJUvUrl07RUVFaefOnZKkL774Qu3bt1e+fPn02Wefae3atdqwYYNq1KiR5t81Dg4O2rp1qzZu3Kg2bdro4MGDatmypWrVqvXE7/vEiRM1YMAAValSRV988YXWrVunDRs2qFChQs/ld19KZxn9V3/mADx7hEIAAKQzX19f/fnnn4lmEyTcRuXr62vRfvLkyURjnDhxQo6OjsqRI0e61FS8eHHt27cv0R8pO3fulKOjowICAtI8dnh4uK5cuaKwsDD17dtXDRo0UM2aNc2zXRIkLIr722+/JTve4/7ISe11fRxbW1s1bNhQs2fPVlRUlLp27apFixbp1KlTj92nYcOGkh78QfokCXUcP3480bZjx44pe/bscnJySlGtD0vLLSaPk5LvXNasWXXt2rVE/ZKaSZOetSXw9fVN8jNJ7nN62LP4HgUEBCgwMFCrVq3SzZs3n1hDws/Ao9fxcbORihQpohEjRmjr1q3atm2b/vjjD33yySfJnlOOHDnk6Oj42O9bpkyZEs0ASqt8+fLpypUrCg4OTjRrsGbNmipWrFi6HOdhpUuXlvR/AfY333yjvHnzasWKFWrTpo1q166tmjVrWswkklL/ncyUKZNee+01TZs2TUeOHNGECRP0888/J7ol7lHffPONqlevrs8++0ytWrXS66+/rpo1ayb6zPPly6fjx4/r3r17jx0rNTX7+voqPj4+0c/yxYsXde3atRT/PgQAQiEAANJZvXr1FBcXp1mzZlm0T58+XSaTSXXr1rVo37Fjh8XaExcuXNCqVav0+uuvP/a/7qZWs2bNdPHiRa1YscLcdvnyZX399ddq2LBhip7o9DgJNT78X5zv3r2r2bNnW/QrWbKk8uTJoxkzZiT6g+nhfRMCk0f7pPa6JuXKlSsW7zNlymR+uk9St9clqFChgurUqaP58+dr5cqVibbfvXtXgwYNkvRgVlbx4sW1cOFCi3P47bfftH79etWrV++JdSbFyckpyZAmLVLyncuXL5+uX7+ugwcPmvtFR0cneqpReteWoHbt2tqxY4ciIyPNbVevXtWSJUtStP+z+h6NHTtWV65cUefOnXX//v1E29evX681a9ZI+r8gdOvWrebtcXFxmjt3rsU+MTExicYqUqSIMmXKZPG9TOo629jY6PXXX9eqVat09uxZc/vFixe1dOlSVapUyXzb29Nq0aKF4uLiNG7cuETb7t+/n+bvQGxsrHbs2JHktoQ1nhJuj0vq983OnTsT7e/o6Cgp8eeflKtXryZqS1jLKrnfCwn1PDrb5uuvv9Yff/xh0da0aVNdvnw50fdO+r9zSU3NCb9HZsyYYdE+bdo0SVL9+vWfOAYASBKPpAcAIJ01bNhQ1atX1/Dhw3X27FkVK1ZM69ev16pVq9SvX79Ej+suXLiwateubfF4cOnBH59P8v333+vAgQOSpHv37ungwYMaP368JOmNN94wBx7NmjVT+fLl1aFDBx05ckTZs2fX7NmzFRcXl6LjJKdixYrKmjWr2rVrpz59+shkMmnx4sWJ/lDKlCmT5syZo4YNG6p48eLq0KGDvL29dezYMR0+fFjr1q2TJPMCyH369FHt2rVlY2OjVq1apfq6JqVz5866evWqatSooVdffVXnzp3TRx99pOLFi5vXlHmcRYsW6fXXX9ebb76phg0b6rXXXpOTk5NOnjypZcuWKTo6WlOmTJEkTZ48WXXr1lWFChXUqVMn8yPp3dzcNGbMmDRc5QfXZePGjZo2bZpy5cqlPHnyJHrUeEql5DvXqlUrDR06VE2aNFGfPn0UGxurOXPmKCAgINGCvulZW4IhQ4boiy++UK1atdS7d2/zI+lz586tq1evPnFWxbP6HrVs2VKHDh3ShAkTtH//frVu3Vq+vr66cuWK1q5dq02bNmnp0qWSpEKFCql8+fIaNmyYrl69Kg8PDy1btixRAPTzzz+rV69eat68uQICAnT//n0tXrxYNjY2atq0qcU5JXWdx48frw0bNqhSpUrq0aOHMmfOrE8//VR37tzRBx98kJbLn6SqVauqa9eumjRpkiIjI/X6668rS5YsOnnypL7++mt9+OGHatasWarHjY2NVcWKFVW+fHnVqVNHPj4+unbtmlauXKlt27apcePGKlGihCSpQYMGWrFihZo0aaL69evrzJkz+uSTT1SwYEGL2VsODg4qWLCgli9froCAAHl4eKhw4cJJrmkWGhqqrVu3qn79+vL19dWlS5c0e/Zsvfrqq6pUqVKytTdo0EChoaHq0KGDKlasqEOHDmnJkiUWi35LUtu2bbVo0SINGDBAu3btUuXKlXXr1i1t3LhRPXr0UKNGjVJVc7FixdSuXTvNnTvXfAvvrl27tHDhQjVu3FjVq1dP9ecAwEplxCPPAAB4mST16OsbN24Y/fv3N3LlymVkyZLF8Pf3NyZPnmzxGGjD+L9HHH/xxReGv7+/YWdnZ5QoUcL8qOonadeuXZKPipdkLFiwwKLv1atXjU6dOhnZsmUzHB0djapVqxq7d+9O0XGqVq1qFCpU6LHbIyIijPLlyxsODg5Grly5jCFDhhjr1q2zeOx2gl9++cWoVauW4eLiYjg5ORlFixY1PvroI/P2+/fvG7179zZy5MhhmEwmi2ub2uv6qG+++cZ4/fXXDU9PT8PW1tbInTu30bVrVyM6OjpF1yE2NtaYMmWKUaZMGcPZ2dmwtbU1/P39jd69eyd6lPnGjRuN4OBgw8HBwXB1dTUaNmxoHDlyxKJPwmOmH30UdlKPMj927JhRpUoVw8HBwZBkfjT548Z4eFtS1yYl37n169cbhQsXNmxtbY3AwEDjiy++SHLMx9X2uEfS169fP9GxqlatavH4c8N48Kj2ypUrG3Z2dsarr75qTJo0yZg5c6Yhyfjrr78SjfGw9PgeJWfTpk1Go0aNDE9PTyNz5sxGjhw5jIYNGxqrVq2y6BcVFWXUrFnTsLOzM3LmzGm8++67xoYNGyx+Nk6fPm107NjRyJcvn2Fvb294eHgY1atXNzZu3Ggx1uOus2EYxr59+4zatWsbzs7OhqOjo1G9enVj+/btFvsnfB6P/tw/7jvUrl07w8nJKdG5z5071yhVqpTh4OBguLi4GEWKFDGGDBli/Pnnn+Y+j/uck3Lv3j1j3rx5RuPGjQ1fX1/Dzs7OcHR0NEqUKGFMnjzZ4hH08fHxxsSJE839SpQoYaxZs8Zo166d4evrazHu9u3bjVKlShm2trYWj3p/9Duc8FnmypXLsLW1NXLlymW0bt3aOHHihMV4Sf1euX37tjFw4EDD29vbcHBwMIKDg40dO3Yk+X2OjY01hg8fbuTJk8fIkiWL4eXlZTRr1syIiopKdc0J123s2LHm8Xx8fIxhw4YZt2/ftuiXmp85ANbHZBisLgYAQEYxmUzq2bNnkrcUAEisX79++vTTT3Xz5s10u70SAABrxZpCAAAAeCH9+++/Fu+vXLmixYsXq1KlSgRCAACkA9YUAgAAwAupQoUKqlatmoKCgnTx4kV99tlniomJ0ciRIzO6NAAAXgqEQgAAAHgh1atXT998843mzp0rk8mkkiVL6rPPPlOVKlUyujQAAF4KrCkEAAAAAABghVhTCAAAAAAAwAoRCgEAAAAAAFgh1hQCnrH4+Hj9+eefcnFxkclkyuhyAAAAAAAvOcMwdOPGDeXKlUuZMj1+PhChEPCM/fnnn/Lx8cnoMgAAAAAAVubChQt69dVXH7udUAh4xlxcXCQ9+GF0dXXN4GoAAAAAAC+7mJgY+fj4mP8efRxCIeAZS7hlzNXVlVAIAAAAAPDcPGkJExaaBgAAAAAAsEKEQgAAAAAAAFaIUAgAAAAAAMAKsaYQ8JxUGfGlbOwcMroMAAAAAEAq7Z3cNqNLeCaYKQQAAAAAAGCFCIUAAAAAAACsEKEQAAAAAACAFSIUAgAAAAAAsEKEQgAAAAAAAFaIUAgAAAAAAMAKEQoBAAAAAABYIUIhAAAAAAAAK0QoBAAAAAAAYIUIhQAAAAAAAKwQoRAAAAAAAIAVIhQCAAAAAACwQoRCAAAAAAAAVohQCAAAAAAAwAoRCgEAAAAAAFghQiEAAAAAAAArRCgEAAAAAABghQiFAAAAAAAArBChEAAAAAAAgBUiFHrJnD17ViaTSZGRkZKk8PBwmUwmXbt2LUPryghjxoxR8eLFze/bt2+vxo0bZ1g9AAAAAAC8SAiFXhAXLlxQx44dlStXLtna2srX11d9+/bVlStXnmrcihUrKjo6Wm5ubulUadLat28vk8lkfmXLlk116tTRwYMHn+lxU+PDDz9UWFhYRpcBAAAAAMALgVDoBXD69GmVLl1aJ0+e1JdffqlTp07pk08+0aZNm1ShQgVdvXo1zWPb2trKy8tLJpMpHStOWp06dRQdHa3o6Ght2rRJmTNnVoMGDZ75ce/du5eifm5ubnJ3d3+2xQAAAAAA8B9BKPQC6Nmzp2xtbbV+/XpVrVpVuXPnVt26dbVx40b98ccfGj58uLmvn5+fJk6cqI4dO8rFxUW5c+fW3LlzHzv2o7ePhYWFyd3dXevWrVNQUJCcnZ3NYc7D5s+fr6CgINnb26tAgQKaPXv2E8/Dzs5OXl5e8vLyUvHixfXOO+/owoUL+vvvv819Dh06pBo1asjBwUHZsmXT22+/rZs3b5q37969W7Vq1VL27Nnl5uamqlWrat++fRbHMZlMmjNnjt544w05OTlpwoQJkqT33ntPOXPmlIuLizp16qTbt29b7Pfo7WPVqlVTnz59NGTIEHl4eMjLy0tjxoyx2OfYsWOqVKmS7O3tVbBgQW3cuFEmk0krV6584vUAAAAAAOBFRiiUwa5evap169apR48ecnBwsNjm5eWlkJAQLV++XIZhmNunTp2q0qVLa//+/erRo4e6d++u48ePp/iYsbGxmjJlihYvXqytW7fq/PnzGjRokHn7kiVLNGrUKE2YMEFHjx7VxIkTNXLkSC1cuDDFx7h586a++OIL5c+fX9myZZMk3bp1S7Vr11bWrFm1e/duff3119q4caN69epl3u/GjRtq166dfvnlF/3666/y9/dXvXr1dOPGDYvxx4wZoyZNmujQoUPq2LGjvvrqK40ZM0YTJ07Unj175O3tnaIga+HChXJyctLOnTv1wQcfKDQ0VBs2bJAkxcXFqXHjxnJ0dNTOnTs1d+5ci4Duce7cuaOYmBiLFwAAAAAAL5rMGV2AtTt58qQMw1BQUFCS24OCgvTPP//o77//lqenpySpXr166tGjhyRp6NChmj59ujZv3qzAwMAUHfPevXv65JNPlC9fPklSr169FBoaat4+evRoTZ06VW+++aYkKU+ePDpy5Ig+/fRTtWvX7rHjrlmzRs7OzpIeBEDe3t5as2aNMmV6kD0uXbpUt2/f1qJFi+Tk5CRJmjVrlho2bKj3339fOXPmVI0aNSzGnDt3rtzd3bVlyxaLW9HeeustdejQwfy+VatW6tSpkzp16iRJGj9+vDZu3JhottCjihYtqtGjR0uS/P39NWvWLG3atEm1atXShg0bFBUVpfDwcHl5eUmSJkyYoFq1aiU75qRJkzR27Nhk+wAAAAAAkNGYKfSCeHgm0JMULVrU/G+TySQvLy9dunQpxfs7OjqaAyFJ8vb2Nu9/69YtRUVFqVOnTnJ2dja/xo8fr6ioqGTHrV69uiIjIxUZGaldu3apdu3aqlu3rs6dOydJOnr0qIoVK2YOhCQpODhY8fHx5plOFy9eVJcuXeTv7y83Nze5urrq5s2bOn/+vMWxSpcubfH+6NGjKleunEVbhQoVnngtHr6Wj16L48ePy8fHxxwISVLZsmWfOOawYcN0/fp18+vChQtP3AcAAAAAgOeNmUIZLH/+/DKZTDp69KiaNGmSaPvRo0eVNWtW5ciRw9yWJUsWiz4mk0nx8fEpPmZS+yeEUgnr+8ybNy9RyGJjY5PsuE5OTsqfP7/5/fz58+Xm5qZ58+Zp/PjxKaqtXbt2unLlij788EP5+vrKzs5OFSpU0N27dxMdKz087bVMip2dnezs7J5qDAAAAAAAnjVmCmWwbNmyqVatWpo9e7b+/fdfi21//fWXlixZopYtWz6Xp4dJUs6cOZUrVy6dPn1a+fPnt3jlyZMnVWOZTCZlypTJfF5BQUE6cOCAbt26Ze4TERGhTJkymW99i4iIUJ8+fVSvXj0VKlRIdnZ2unz58hOPFRQUpJ07d1q0/frrr6mq91GBgYG6cOGCLl68aG7bvXv3U40JAAAAAMCLglDoBTBr1izduXNHtWvX1tatW3XhwgWtXbtWtWrV0iuvvGJ+utbzMnbsWE2aNEkzZ87UiRMndOjQIS1YsEDTpk1Ldr87d+7or7/+0l9//aWjR4+qd+/eunnzpho2bChJCgkJkb29vdq1a6fffvtNmzdvVu/evdWmTRvlzJlT0oN1fRYvXqyjR49q586dCgkJSbQAd1L69u2rzz//XAsWLNCJEyc0evRoHT58+KmuQ61atZQvXz61a9dOBw8eVEREhEaMGCFJzy2kAwAAAADgWSEUegH4+/trz549yps3r1q0aKF8+fLp7bffVvXq1bVjxw55eHg813o6d+6s+fPna8GCBSpSpIiqVq2qsLCwJ84UWrt2rby9veXt7a1y5cqZnzBWrVo1SQ/WMlq3bp2uXr2qMmXKqFmzZnrttdc0a9Ys8xifffaZ/vnnH5UsWVJt2rRRnz59zAtsJ6dly5YaOXKkhgwZolKlSuncuXPq3r37U10HGxsbrVy5Ujdv3lSZMmXUuXNn89PH7O3tn2psAAAAAAAymslIzQrHgJWLiIhQpUqVdOrUKYvFupMTExMjNzc3Fev9iWzsnjzrCQAAAADwYtk7uW1Gl5AqCX+HXr9+Xa6uro/tx0LTQDK+++47OTs7y9/fX6dOnVLfvn0VHByc4kAIAAAAAIAXFaEQkIwbN25o6NChOn/+vLJnz66aNWtq6tSpGV0WAAAAAABPjVAISEbbtm3Vtu1/a5ogAAAAAAApwULTAAAAAAAAVohQCAAAAAAAwAoRCgEAAAAAAFghQiEAAAAAAAArRCgEAAAAAABghQiFAAAAAAAArBChEAAAAAAAgBUiFAIAAAAAALBChEIAAAAAAABWiFAIAAAAAADAChEKAQAAAAAAWCFCIQAAAAAAACtEKAQAAAAAAGCFCIUAAAAAAACsUOaMLgCwFlvHt5arq2tGlwEAAAAAgCRmCgEAAAAAAFglQiEAAAAAAAArRCgEAAAAAABghQiFAAAAAAAArBChEAAAAAAAgBUiFAIAAAAAALBChEIAAAAAAABWiFAIAAAAAADAChEKAQAAAAAAWCFCIQAAAAAAACtEKAQAAAAAAGCFMmd0AYC1qDLiS9nYOWR0GQAAAMALZe/kthldAmC1mCkEAAAAAABghQiFAAAAAAAArBChEAAAAAAAgBUiFAIAAAAAALBChEIAAAAAAABWiFAIAAAAAADAChEKAQAAAAAAWCFCIQAAAAAAACtEKAQAAAAAAGCFCIUAAAAAAACsEKEQAAAAAACAFSIUAgAAAAAAsEKEQgAAAAAAAFaIUAgAAAAAAMAKEQoBAAAAAABYIUIhAAAAAAAAK0QoBAAAAAAAYIUIhQAAAAAAAKwQoRAAAAAAAIAVIhR6ho4dO6by5cvL3t5exYsX19mzZ2UymRQZGSlJCg8Pl8lk0rVr11I85pgxY1S8ePFnUm9KhIWFyd3d3aJt7ty58vHxUaZMmTRjxowMr/FJTCaTVq5cmdFlAAAAAACQoQiFktC+fXs1btz4qccZPXq0nJycdPz4cW3atCnR9ooVKyo6Olpubm5PfayHVatWTf369Uu2zzvvvKMCBQpYtB07dkwmk0nt27e3aA8LC5OdnZ3+/fdftWzZUidOnDBvi4mJUa9evTR06FD98ccfevvttzVo0KAkz/dh3333ncqXLy83Nze5uLioUKFCT6w5vURHR6tu3brP5VgAAAAAALyoCIWeoaioKFWqVEm+vr7Kli1bou22trby8vKSyWR67rVVr15dx48f119//WVu27x5s3x8fBQeHm7Rd/PmzSpfvrwcHBzk4OAgT09P87bz58/r3r17ql+/vry9veXo6ChnZ+ckzzfBpk2b1LJlSzVt2lS7du3S3r17NWHCBN27d++pziml+3t5ecnOzu6pjgUAAAAAwH8doVAKVKtWTX369NGQIUPk4eEhLy8vjRkzJtl9TCaT9u7dq9DQUJlMpiT7J3X72Lx58+Tj4yNHR0c1adJE06ZNS3S7liQtXrxYfn5+cnNzU6tWrXTjxg1JD2Y5bdmyRR9++KFMJpNMJpPOnj2baP9KlSopS5YsFgFQeHi4evbsqatXr1rsEx4erurVq0uyvH0sLCxMRYoUkSTlzZvXfKwn3T72/fffKzg4WIMHD1ZgYKACAgLUuHFjffzxxxb9Vq1apZIlS8re3l558+bV2LFjdf/+fYtrPGfOHL3xxhtycnLSuHHj9Oqrr2rOnDkW4+zfv1+ZMmXSuXPnzPs9fPvY77//rtatW8vDw0NOTk4qXbq0du7cmeI6AAAAAAD4LyIUSqGFCxfKyclJO3fu1AcffKDQ0FBt2LDhsf2jo6NVqFAhDRw4UNHR0Ro0aNATjxEREaFu3bqpb9++ioyMVK1atTRhwoRE/aKiorRy5UqtWbNGa9as0ZYtW/Tee+9Jkj788ENVqFBBXbp0UXR0tKKjo+Xj45NoDCcnJ5UpU0abN282t4WHh+u1115TcHCwuf306dM6f/68ORR6WMuWLbVx40ZJ0q5dux57rEd5eXnp8OHD+u233x7bZ9u2bWrbtq369u2rI0eO6NNPP1VYWFii6zFmzBg1adJEhw4dUufOndW6dWstXbrUos+SJUsUHBwsX1/fRMe5efOmqlatqj/++EOrV6/WgQMHNGTIEMXHx6eqjofduXNHMTExFi8AAAAAAF40hEIpVLRoUY0ePVr+/v5q27atSpcuney6OV5eXsqcObOcnZ3l5eUlZ2fnJx7jo48+Ut26dTVo0CAFBASoR48eSa59Ex8fr7CwMBUuXFiVK1dWmzZtzLW4ubnJ1tZWjo6O8vLykpeXl2xsbJI8XvXq1c0zhY4cOaLbt2+rRIkSqlKlirk9PDxc9vb2Kl++fKL9HRwczLeJ5ciRI9ljPax3794qU6aMihQpIj8/P7Vq1Uqff/657ty5Y+4zduxYvfPOO2rXrp3y5s2rWrVqady4cfr0008txnrrrbfUoUMH5c2bV7lz51ZISIgiIiJ0/vx587VatmyZQkJCkqxl6dKl+vvvv7Vy5UpVqlRJ+fPnV4sWLVShQoVU1fGwSZMmyc3NzfxKSVAGAAAAAMDzRiiUQkWLFrV47+3trUuXLkmSunXrJmdnZ/MrrY4fP66yZctatD36XpL8/Pzk4uKSZC2pUa1aNZ04cULR0dEKDw9XpUqVZGNjo6pVq1qEQhUrVkzXNXicnJz0ww8/6NSpUxoxYoScnZ01cOBAlS1bVrGxsZKkAwcOKDQ01OK6Jsx+SugjSaVLl7YYu3jx4goKCjLPFtqyZYsuXbqk5s2bJ1lLZGSkSpQoIQ8PjyS3p7SOhw0bNkzXr183vy5cuJDqawQAAAAAwLOWOaML+K/IkiWLxXuTyWS+xSg0NDRFt4c9j1pSIzg4WLa2ttq8ebM2b96sqlWrSpLKlCmjy5cv6/Tp0woPD1fXrl3Tpe5H5cuXT/ny5VPnzp01fPhwBQQEaPny5erQoYNu3rypsWPH6s0330y0n729vfnfTk5OibaHhIRo6dKleuedd7R06VLVqVPnsQtfOzg4JFtjSut4mJ2dHQtZAwAAAABeeIRC6cDT09PiiVxpFRgYqN27d1u0Pfo+JWxtbRUXF/fEfg4ODipXrpzCw8O1ZcsWDR48WNKD0Kl8+fL67LPPdOHChSTXE0pvfn5+cnR01K1btyRJJUuW1PHjx5U/f/5Uj/XWW29pxIgR2rt3r7755ht98sknj+1btGhRzZ8/X1evXk1yttDT1AEAAAAAwIuMUOgF0rt3b1WpUkXTpk1Tw4YN9fPPP+unn35K9SPr/fz8tHPnTp09e1bOzs7y8PBQpkxJ3ylYvXp1TZ8+XdKDACRB1apVNWXKFPOC1OlpzJgxio2NVb169eTr66tr165p5syZunfvnmrVqiVJGjVqlBo0aKDcuXOrWbNmypQpkw4cOKDffvtN48ePT3Z8Pz8/VaxYUZ06dVJcXJzeeOONx/Zt3bq1Jk6cqMaNG2vSpEny9vbW/v37lStXLlWoUOGp6gAAAAAA4EXGmkIvkODgYH3yySeaNm2aihUrprVr16p///6PvU3pcQYNGiQbGxsVLFhQOXLkMC+6nJTq1avrxo0bCg4OVubM/5cRVq1aVTdu3DA/uj49Va1aVadPn1bbtm1VoEAB1a1bV3/99ZfWr1+vwMBASVLt2rW1Zs0arV+/XmXKlFH58uU1ffr0JJ8glpSQkBAdOHBATZo0SfYWMVtbW61fv16enp6qV6+eihQpovfee8+8YPbT1gEAAAAAwIvKZBiGkdFF4PG6dOmiY8eOadu2bRldCtIoJiZGbm5uKtb7E9nYJb+GEQAAAGBt9k5um9ElAC+dhL9Dr1+/LldX18f24/axF8yUKVNUq1YtOTk56aefftLChQs1e/bsjC4LAAAAAAC8ZAiFXjC7du3SBx98oBs3bihv3ryaOXOmOnfunNFlAQAAAACAlwyh0Avmq6++yugSAAAAAACAFWChaQAAAAAAACtEKAQAAAAAAGCFCIUAAAAAAACsEKEQAAAAAACAFSIUAgAAAAAAsEKEQgAAAAAAAFaIUAgAAAAAAMAKEQoBAAAAAABYIUIhAAAAAAAAK0QoBAAAAAAAYIUIhQAAAAAAAKwQoRAAAAAAAIAVIhQCAAAAAACwQoRCAAAAAAAAVohQCAAAAAAAwAplzugCAGuxdXxrubq6ZnQZAAAAAABIYqYQAAAAAACAVSIUAgAAAAAAsEKEQgAAAAAAAFaIUAgAAAAAAMAKEQoBAAAAAABYIUIhAAAAAAAAK0QoBAAAAAAAYIUIhQAAAAAAAKwQoRAAAAAAAIAVIhQCAAAAAACwQoRCAAAAAAAAVihzRhcAWIsqI76UjZ1DRpcBAACes72T22Z0CQAAJImZQgAAAAAAAFaIUAgAAAAAAMAKEQoBAAAAAABYIUIhAAAAAAAAK0QoBAAAAAAAYIUIhQAAAAAAAKwQoRAAAAAAAIAVIhQCAAAAAACwQoRCAAAAAAAAVohQCAAAAAAAwAoRCgEAAAAAAFghQiEAAAAAAAArRCgEAAAAAABghQiFAAAAAAAArBChEAAAAAAAgBUiFAIAAAAAALBChEIAAAAAAABWiFAIAAAAAADAChEKAQAAAAAAWCFCoecsNjZWTZs2laurq0wmk65du5bRJaWYn5+fZsyYkdFlZDiuAwAAAADgZfCfDYVMJlOyrzFjxmR0iUlauHChtm3bpu3btys6Olpubm4W26tVq5bseVWrVi1jCk8lPz8/c81OTk4qWbKkvv7664wuCwAAAAAA/H+ZM7qAtIqOjjb/e/ny5Ro1apSOHz9ubnN2ds6Isp4oKipKQUFBKly4cJLbV6xYobt370qSLly4oLJly2rjxo0qVKiQJMnW1tai/71795QlS5ZnW3QahYaGqkuXLoqJidHUqVPVsmVLvfLKK6pYsWKqx7p7926icwcAAAAAAGn3n50p5OXlZX65ubnJZDLJy8tLLi4uCggI0Nq1ay36r1y5Uk5OTrpx44bOnj0rk8mkZcuWqWLFirK3t1fhwoW1ZcsWi31+++031a1bV87OzsqZM6fatGmjy5cvJ1vXt99+q0KFCsnOzk5+fn6aOnWqeVu1atU0depUbd269bGzfjw8PMznlSNHDklStmzZzG3ZsmXTnDlz9MYbb8jJyUkTJkxQXFycOnXqpDx58sjBwUGBgYH68MMPzWOuX79e9vb2iW5V69u3r2rUqGF+/8svv6hy5cpycHCQj4+P+vTpo1u3biV7vslxcXGRl5eXAgIC9PHHH8vBwUHff/+9pAeBV4sWLeTu7i4PDw81atRIZ8+eNe/bvn17NW7cWBMmTFCuXLkUGBgoSZo9e7b8/f1lb2+vnDlzqlmzZuZ97ty5oz59+sjT01P29vaqVKmSdu/ebd4eHh4uk8mkTZs2qXTp0nJ0dFTFihUtwsSoqCg1atRIOXPmlLOzs8qUKaONGzem+RoAAAAAAPCi+s+GQo/j5OSkVq1aacGCBRbtCxYsULNmzeTi4mJuGzx4sAYOHKj9+/erQoUKatiwoa5cuSJJunbtmmrUqKESJUpoz549Wrt2rS5evKgWLVo89th79+5VixYt1KpVKx06dEhjxozRyJEjFRYWJunBLKAuXbqoQoUKio6O1ooVK9J0jmPGjFGTJk106NAhdezYUfHx8Xr11Vf19ddf68iRIxo1apTeffddffXVV5Kk1157Te7u7vr222/NY8TFxWn58uUKCQmR9CAMqVOnjpo2baqDBw9q+fLl+uWXX9SrV6801fiozJkzK0uWLLp7967u3bun2rVry8XFRdu2bVNERIScnZ1Vp04d8ywpSdq0aZOOHz+uDRs2aM2aNdqzZ4/69Omj0NBQHT9+XGvXrlWVKlXM/YcMGaJvv/1WCxcu1L59+5Q/f37Vrl1bV69etahl+PDhmjp1qvbs2aPMmTOrY8eO5m03b95UvXr1tGnTJu3fv1916tRRw4YNdf78+RSf6507dxQTE2PxAgAAAADgRfOfvX0sOZ07d1bFihUVHR0tb29vXbp0ST/++GOiGR+9evVS06ZNJUlz5szR2rVr9dlnn2nIkCGaNWuWSpQooYkTJ5r7f/755/Lx8dGJEycUEBCQ6LjTpk3Ta6+9ppEjR0qSAgICdOTIEU2ePFnt27eXh4eHHB0dZWtrKy8vrzSf31tvvaUOHTpYtI0dO9b87zx58mjHjh366quv1KJFC9nY2KhVq1ZaunSpOnXqJOlB4HLt2jXz+U+aNEkhISHq16+fJMnf318zZ85U1apVNWfOHNnb26e53rt372rq1Km6fv26atSooeXLlys+Pl7z58+XyWSS9CC0c3d3V3h4uF5//XVJDwK++fPnm28bW7FihZycnNSgQQO5uLjI19dXJUqUkCTdunVLc+bMUVhYmOrWrStJmjdvnjZs2KDPPvtMgwcPNtczYcIEVa1aVZL0zjvvqH79+rp9+7bs7e1VrFgxFStWzNx33Lhx+u6777R69eoUB2STJk2y+DwAAAAAAHgRvXQzhSSpbNmyKlSokBYuXChJ+uKLL+Tr62sxq0SSKlSoYP535syZVbp0aR09elSSdODAAW3evFnOzs7mV4ECBSQ9mFWTlKNHjyo4ONiiLTg4WCdPnlRcXFy6nV/p0qUTtX388ccqVaqUcuTIIWdnZ82dO9didktISIjCw8P1559/SpKWLFmi+vXry93dXdKD8w0LC7M439q1ays+Pl5nzpxJU51Dhw6Vs7OzHB0d9f777+u9995T/fr1deDAAZ06dUouLi7mY3l4eOj27dsW17ZIkSIW6wjVqlVLvr6+yps3r9q0aaMlS5YoNjZW0oPP5N69exbXP0uWLCpbtqz5M01QtGhR87+9vb0lSZcuXZL0YKbQoEGDFBQUJHd3dzk7O+vo0aOpmik0bNgwXb9+3fy6cOFCKq4aAAAAAADPx0s5U0h6MFvo448/1jvvvKMFCxaoQ4cO5lkpKXHz5k01bNhQ77//fqJtCUFCRnFycrJ4v2zZMg0aNEhTp05VhQoV5OLiosmTJ2vnzp3mPmXKlFG+fPm0bNkyde/eXd999535tjbpwfl27dpVffr0SXS83Llzp6nOwYMHq3379uY1mRKu/82bN1WqVCktWbIk0T4J6ygldZ4uLi7at2+fwsPDtX79eo0aNUpjxoyxWDcoJR5emDuhpvj4eEnSoEGDtGHDBk2ZMkX58+eXg4ODmjVrZnFb25PY2dnJzs4uVTUBAAAAAPC8vbSh0P/+9z8NGTJEM2fO1JEjR9SuXbtEfX799Vfz7KH79+9r79695luESpYsqW+//VZ+fn7KnDlllykoKEgREREWbREREQoICJCNjc1TntHjRUREqGLFiurRo4e5LanZTCEhIVqyZIleffVVZcqUSfXr1zdvK1mypI4cOaL8+fOnW13Zs2dPcrySJUtq+fLl8vT0lKura6rGzJw5s2rWrKmaNWtq9OjRcnd3188//6zatWvL1tZWERER8vX1lfTgyWy7d+823xKXEhEREWrfvr2aNGki6UGA9fAC2AAAAAAAvCxeytvHJClr1qx68803NXjwYL3++ut69dVXE/X5+OOP9d133+nYsWPq2bOn/vnnH/Oiwz179tTVq1fVunVr7d69W1FRUVq3bp06dOjw2FvBBg4cqE2bNmncuHE6ceKEFi5cqFmzZmnQoEHP9Fz9/f21Z88erVu3TidOnNDIkSOTnD0TEhKiffv2acKECWrWrJnFbJahQ4dq+/bt6tWrlyIjI3Xy5EmtWrUq3RaafrSO7Nmzq1GjRtq2bZvOnDmj8PBw9enTR7///vtj91uzZo1mzpypyMhInTt3TosWLVJ8fLwCAwPl5OSk7t27a/DgwVq7dq2OHDmiLl26KDY21ryOUkr4+/trxYoVioyM1IEDB/TWW2+ZZxEBAAAAAPAyeWlDIUnq1KmT7t69a/F0qYe99957eu+991SsWDH98ssvWr16tbJnzy5JypUrlyIiIhQXF6fXX39dRYoUUb9+/eTu7q5MmZK+bCVLltRXX32lZcuWqXDhwho1apRCQ0PVvn37Z3WKkqSuXbvqzTffVMuWLVWuXDlduXLFYtZQgvz586ts2bI6ePCg+aljCYoWLaotW7boxIkTqly5skqUKKFRo0YpV65c6V6vo6Ojtm7dqty5c+vNN99UUFCQOnXqpNu3byc7c8jd3V0rVqxQjRo1FBQUpE8++URffvmlChUqJOnB59m0aVO1adNGJUuW1KlTp7Ru3TplzZo1xbVNmzZNWbNmVcWKFdWwYUPVrl1bJUuWfOpzBgAAAADgRWMyDMPI6CKelcWLF6t///76888/LRYsPnv2rPLkyaP9+/erePHiGVcgrEJMTIzc3NxUrPcnsrFzyOhyAADAc7Z3ctuMLgEAYGUS/g69fv16spMvXso1hWJjYxUdHa333ntPXbt2tQiEAAAAAAAA8JLePvbBBx+oQIEC8vLy0rBhwzK6nJfOkiVLLB5d//Ar4VYuAAAAAADwYnupbx/Ds3Hjxg1dvHgxyW1ZsmQxP/0LD3D7GAAA1o3bxwAAz5tV3z6GZ8vFxUUuLi4ZXQYAAAAAAHgKL+XtYwAAAAAAAEgeoRAAAAAAAIAVIhQCAAAAAACwQoRCAAAAAAAAVohQCAAAAAAAwAoRCgEAAAAAAFghQiEAAAAAAAArRCgEAAAAAABghQiFAAAAAAAArBChEAAAAAAAgBUiFAIAAAAAALBChEIAAAAAAABWiFAIAAAAAADACmXO6AIAa7F1fGu5urpmdBkAAAAAAEhiphAAAAAAAIBVIhQCAAAAAACwQoRCAAAAAAAAVohQCAAAAAAAwAoRCgEAAAAAAFghQiEAAAAAAAArRCgEAAAAAABghQiFAAAAAAAArBChEAAAAAAAgBUiFAIAAAAAALBChEIAAAAAAABWiFAIAAAAAADACmXO6AIAa1FlxJeysXPI6DIAAEAa7J3cNqNLAAAg3TFTCAAAAAAAwAoRCgEAAAAAAFghQiEAAAAAAAArRCgEAAAAAABghQiFAAAAAAAArBChEAAAAAAAgBUiFAIAAAAAALBChEIAAAAAAABWiFAIAAAAAADAChEKAQAAAAAAWCFCIQAAAAAAACtEKAQAAAAAAGCFCIUAAAAAAACsEKEQAAAAAACAFSIUAgAAAAAAsEKEQgAAAAAAAFaIUAgAAAAAAMAKEQoBAAAAAABYIUIhAAAAAAAAK0Qo9JIwmUxauXJlRpfxXFSrVk39+vXL6DIAAAAAAPhPIxT6j/jrr7/Uu3dv5c2bV3Z2dvLx8VHDhg21adOmjC7N7OzZszKZTOaXra2t8ufPr/Hjx8swjHQ7zooVKzRu3Lh0Gw8AAAAAAGuUOaMLwJOdPXtWwcHBcnd31+TJk1WkSBHdu3dP69atU8+ePXXs2LGMLtHCxo0bVahQId25c0e//PKLOnfuLG9vb3Xq1Cldxvfw8EiXcQAAAAAAsGbMFPoP6NGjh0wmk3bt2qWmTZsqICBAhQoV0oABA/Trr78muc/QoUMVEBAgR0dH5c2bVyNHjtS9e/fM2w8cOKDq1avLxcVFrq6uKlWqlPbs2SNJOnfunBo2bKisWbPKyclJhQoV0o8//pjierNlyyYvLy/5+voqJCREwcHB2rdvn3l7Urd/NW7cWO3btze/nz17tvz9/WVvb6+cOXOqWbNmj93fz89PEydOVMeOHeXi4qLcuXNr7ty5FuNfuHBBLVq0kLu7uzw8PNSoUSOdPXvWvD08PFxly5aVk5OT3N3dFRwcrHPnzj3xWiXlzp07iomJsXgBAAAAAPCiIRR6wV29elVr165Vz5495eTklGi7u7t7kvu5uLgoLCxMR44c0Ycffqh58+Zp+vTp5u0hISF69dVXtXv3bu3du1fvvPOOsmTJIknq2bOn7ty5o61bt+rQoUN6//335ezsnKb69+zZo71796pcuXKp2qdPnz4KDQ3V8ePHtXbtWlWpUiXZfaZOnarSpUtr//796tGjh7p3767jx49Lku7du6fatWvLxcVF27ZtU0REhJydnVWnTh3dvXtX9+/fV+PGjVW1alUdPHhQO3bs0Ntvvy2TyfTEa5WUSZMmyc3Nzfzy8fFJ8bkDAAAAAPC8cPvYC+7UqVMyDEMFChRI1X4jRoww/9vPz0+DBg3SsmXLNGTIEEnS+fPnNXjwYPO4/v7+5v7nz59X06ZNVaRIEUlS3rx5U3XsihUrKlOmTLp7967u3bunt99+W23btk3x/ufPn5eTk5MaNGggFxcX+fr6qkSJEsnuU69ePfXo0UPSg1lS06dP1+bNmxUYGKjly5crPj5e8+fPNwc9CxYskLu7u8LDw1W6dGldv35dDRo0UL58+SRJQUFBFvU87lolZdiwYRowYID5fUxMDMEQAAAAAOCFw0yhF1xaF2hevny5goOD5eXlJWdnZ40YMULnz583bx8wYIA6d+6smjVr6r333lNUVJR5W58+fTR+/HgFBwdr9OjROnjwYKqPHRkZqQMHDuirr77SqlWr9M4776R4/1q1asnX11d58+ZVmzZttGTJEsXGxia7T9GiRc3/NplM8vLy0qVLlyQ9uP3r1KlTcnFxkbOzs5ydneXh4aHbt28rKipKHh4eat++vWrXrq2GDRvqww8/VHR0tHm85K5VUuzs7OTq6mrxAgAAAADgRUMo9ILz9/eXyWRK1WLSO3bsUEhIiOrVq6c1a9Zo//79Gj58uO7evWvuM2bMGB0+fFj169fXzz//rIIFC+q7776TJHXu3FmnT59WmzZtdOjQIZUuXVofffRRio/v4+Oj/PnzKygoSM2bN1e/fv00depU3b59W5KUKVOmRGHXw+sdubi4aN++ffryyy/l7e2tUaNGqVixYrp27dpjj/no7Vwmk0nx8fGSpJs3b6pUqVKKjIy0eJ04cUJvvfWWpAczh3bs2KGKFStq+fLlCggIMK/XlNy1AgAAAADgv4pQ6AXn4eGh2rVr6+OPP9atW7cSbU8qKNm+fbt8fX01fPhwlS5dWv7+/uZFkx8WEBCg/v37a/369XrzzTe1YMEC8zYfHx9169ZNK1as0MCBAzVv3rw0n4ONjY3u379vDqVy5MhhMRMnLi5Ov/32m8U+mTNnVs2aNfXBBx/o4MGDOnv2rH7++ec0Hb9kyZI6efKkPD09lT9/fouXm5ubuV+JEiU0bNgwbd++XYULF9bSpUvN25K7VgAAAAAA/BcRCv0HfPzxx4qLi1PZsmX17bff6uTJkzp69KhmzpypChUqJOrv7++v8+fPa9myZYqKitLMmTMtZrb8+++/6tWrl8LDw3Xu3DlFRERo9+7d5nV0+vXrp3Xr1unMmTPat2+fNm/ebLHGzpNcuXJFf/31l37//Xf99NNP+vDDD1W9enXzbVQ1atTQDz/8oB9++EHHjh1T9+7dLcKtNWvWaObMmYqMjNS5c+e0aNEixcfHKzAwME3XLyQkRNmzZ1ejRo20bds2nTlzRuHh4erTp49+//13nTlzRsOGDdOOHTt07tw5rV+/XidPnlRQUNATrxUAAAAAAP9VLDT9H5A3b17t27dPEyZM0MCBAxUdHa0cOXKoVKlSmjNnTqL+b7zxhvr3769evXrpzp07ql+/vkaOHKkxY8ZIejBz58qVK2rbtq0uXryo7Nmz680339TYsWMlPZi507NnT/3+++9ydXVVnTp1LJ5c9iQ1a9Y0H8fb21v16tXThAkTzNs7duyoAwcOqG3btsqcObP69++v6tWrm7e7u7trxYoVGjNmjG7fvi1/f399+eWXKlSoUFounxwdHbV161YNHTpUb775pm7cuKFXXnlFr732mlxdXfXvv//q2LFjWrhwoa5cuSJvb2/17NlTXbt21f3795O9VgAAAAAA/FeZjLSuZAwgRWJiYuTm5qZivT+RjZ1DRpcDAADSYO/klD9JFQCAjJbwd+j169eTffgRt48BAAAAAABYIUIhpFi3bt3Mj3R/9NWtW7eMLg8AAAAAAKQCawohxUJDQzVo0KAktyU3HQ0AAAAAALx4CIWQYp6envL09MzoMgAAAAAAQDrg9jEAAAAAAAArRCgEAAAAAABghQiFAAAAAAAArBChEAAAAAAAgBUiFAIAAAAAALBChEIAAAAAAABWiFAIAAAAAADAChEKAQAAAAAAWCFCIQAAAAAAACtEKAQAAAAAAGCFCIUAAAAAAACsEKEQAAAAAACAFSIUAgAAAAAAsEKZM7oAwFpsHd9arq6uGV0GAAAAAACSmCkEAAAAAABglQiFAAAAAAAArBChEAAAAAAAgBUiFAIAAAAAALBChEIAAAAAAABWiFAIAAAAAADAChEKAQAAAAAAWCFCIQAAAAAAACtEKAQAAAAAAGCFCIUAAAAAAACsEKEQAAAAAACAFcqc0QUA1qLKiC9lY+eQ0WUAwEtj7+S2GV0CAADAfxozhQAAAAAAAKwQoRAAAAAAAIAVIhQCAAAAAACwQoRCAAAAAAAAVohQCAAAAAAAwAoRCgEAAAAAAFghQiEAAAAAAAArRCgEAAAAAABghQiFAAAAAAAArBChEAAAAAAAgBUiFAIAAAAAALBChEIAAAAAAABWiFAIAAAAAADAChEKAQAAAAAAWCFCIQAAAAAAACtEKAQAAAAAAGCFCIUAAAAAAACsEKEQAAAAAACAFSIUAgAAAAAAsEKEQkk4duyYypcvL3t7exUvXlxnz56VyWRSZGSkJCk8PFwmk0nXrl1L8ZhjxoxR8eLFn0m9/2VcFwAAAAAAMsZLFQq1b99ejRs3fupxRo8eLScnJx0/flybNm1KtL1ixYqKjo6Wm5vbUx/rYdWqVVO/fv1S1M9kMiV6devWLcXHCgsLk7u7e9qLfURar/2gQYOSvMYvokfDQQAAAAAA/ssyZ3QBL6KoqCjVr19fvr6+kqQbN25YbLe1tZWXl1dGlGbWpUsXhYaGWrQ5Ojo+9zri4uJkMpnSvL+zs7OcnZ3TsSIAAAAAAJASL9VMoUdVq1ZNffr00ZAhQ+Th4SEvLy+NGTMm2X1MJpP27t2r0NBQmUymJPsndfvYvHnz5OPjI0dHRzVp0kTTpk1LcibO4sWL5efnJzc3N7Vq1cocOLVv315btmzRhx9+aJ75c/bs2cfW6ejoKC8vL4uXq6urpP+b0bJixQpVr15djo6OKlasmHbs2GGuv0OHDrp+/br5WAnneefOHQ0aNEivvPKKnJycVK5cOYWHh5uPmzDDaPXq1SpYsKDs7OzUsWNHLVy4UKtWrTKPl7DP0KFDFRAQIEdHR+XNm1cjR47UvXv3zOM9evtYwoyjKVOmyNvbW9myZVPPnj0t9vHz89P48ePVtm1bOTs7y9fXV6tXr9bff/+tRo0aydnZWUWLFtWePXssrtkvv/yiypUry8HBQT4+PurTp49u3bplMe7EiRPVsWNHubi4KHfu3Jo7d655e548eSRJJUqUkMlkUrVq1R77+QAAAAAA8KJ7qUMhSVq4cKGcnJy0c+dOffDBBwoNDdWGDRse2z86OlqFChXSwIEDFR0drUGDBj3xGBEREerWrZv69u2ryMhI1apVSxMmTEjULyoqSitXrtSaNWu0Zs0abdmyRe+9954k6cMPP1SFChXUpUsXRUdHKzo6Wj4+Pmk/cUnDhw/XoEGDFBkZqYCAALVu3Vr3799XxYoVNWPGDLm6upqPlXCevXr10o4dO7Rs2TIdPHhQzZs3V506dXTy5EnzuLGxsXr//fc1f/58HT58WDNnzlSLFi1Up04d83gVK1aUJLm4uCgsLExHjhzRhx9+qHnz5mn69OnJ1r1582ZFRUVp8+bNWrhwocLCwhQWFmbRZ/r06QoODtb+/ftVv359tWnTRm3bttX//vc/7du3T/ny5VPbtm1lGIb52tepU0dNmzbVwYMHtXz5cv3yyy/q1auXxbhTp05V6dKltX//fvXo0UPdu3fX8ePHJUm7du2SJG3cuFHR0dFasWJFkvXfuXNHMTExFi8AAAAAAF40L30oVLRoUY0ePVr+/v5q27atSpcunewaNl5eXsqcObOcnZ3l5eWVolubPvroI9WtW1eDBg1SQECAevToobp16ybqFx8fr7CwMBUuXFiVK1dWmzZtzLW4ubnJ1tbWYgaQjY3NY485e/Zs861XCa8lS5ZY9Bk0aJDq16+vgIAAjR07VufOndOpU6dka2srNzc3mUwm87GcnZ11/vx5LViwQF9//bUqV66sfPnyadCgQapUqZIWLFhgHvfevXuaPXu2KlasqMDAQLm6usrBwUF2dnbm8WxtbSVJI0aMUMWKFeXn56eGDRtq0KBB+uqrr5K9nlmzZtWsWbNUoEABNWjQQPXr10/0mdWrV09du3aVv7+/Ro0apZiYGJUpU0bNmzdXQECAhg4dqqNHj+rixYuSpEmTJikkJET9+vWTv7+/KlasqJkzZ2rRokW6ffu2xbg9evRQ/vz5NXToUGXPnl2bN2+WJOXIkUOSlC1bNnl5ecnDwyPJ+idNmiQ3Nzfz62nDPQAAAAAAngWrCIUe5u3trUuXLkmSunXrZhGqpNXx48dVtmxZi7ZH30sPbk9ycXFJspbUCgkJUWRkpMXrjTfesOjz8Ll7e3tLUrLHO3TokOLi4hQQEGBxXbZs2aKoqChzP1tb20TX9XGWL1+u4OBgc/A0YsQInT9/Ptl9ChUqZBGIJXWdHj5+zpw5JUlFihRJ1Jaw34EDBxQWFmZxXrVr11Z8fLzOnDmT5LgJoVlqP6Nhw4bp+vXr5teFCxdStT8AAAAAAM/DS7/QdJYsWSzem0wmxcfHS5JCQ0NTdHvY86gltdzc3JQ/f/4UHy9hMejkjnfz5k3Z2Nho7969iWYpPRyaOTg4pGhx6R07digkJERjx45V7dq15ebmpmXLlmnq1Kkprjuh9kfrTurckjvfmzdvqmvXrurTp0+i4+XOnTtVx34SOzs72dnZpWofAAAAAACet5c+FEqOp6enPD09n3qcwMBA7d6926Lt0fcpYWtrq7i4uKeuJ63HKlGihOLi4nTp0iVVrlz5qcfbvn27fH19NXz4cHPbuXPn0l70UyhZsqSOHDnyxCAtOQm3xD2vzwgAAAAAgGfppb997Hno3bu3fvzxR02bNk0nT57Up59+qp9++inVj2r38/PTzp07dfbsWV2+fDnZGSqxsbH666+/LF7//PNPqo518+ZNbdq0SZcvX1ZsbKwCAgIUEhKitm3basWKFTpz5ox27dqlSZMm6YcffnjieAcPHtTx48d1+fJl3bt3T/7+/jp//ryWLVumqKgozZw5U999912Ka0xPQ4cO1fbt29WrVy9FRkbq5MmTWrVqVaKFppPj6ekpBwcHrV27VhcvXtT169efYcUAAAAAADxbhELpIDg4WJ988ommTZumYsWKae3aterfv7/s7e1TNc6gQYNkY2OjggULKkeOHMmuvTNv3jx5e3tbvFq3bp3iY1WsWFHdunVTy5YtlSNHDn3wwQeSpAULFqht27YaOHCgAgMD1bhxY+3evdviFqukdOnSRYGBgSpdurRy5MihiIgIvfHGG+rfv7969eql4sWLa/v27Ro5cmSKa0xPRYsW1ZYtW3TixAlVrlxZJUqU0KhRo5QrV64Uj5E5c2bNnDlTn376qXLlyqVGjRo9w4oBAAAAAHi2TEbCM7uRrrp06aJjx45p27ZtGV0KMlhMTIzc3NxUrPcnsrFzyOhyAOClsXdy24wuAQAA4IWU8Hfo9evX5erq+th+Vr2mUHqaMmWKatWqJScnJ/30009auHChZs+endFlAQAAAAAAJIlQKJ3s2rVLH3zwgW7cuKG8efNq5syZ6ty5c0aXBQAAAAAAkKQ0h0KLFy/WJ598ojNnzmjHjh3y9fXVjBkzlCdPHqtca+Wrr77K6BIAAAAAAABSLE0LTc+ZM0cDBgxQvXr1dO3aNfMjut3d3TVjxoz0rA8AAAAAAADPQJpCoY8++kjz5s3T8OHDZWNjY24vXbq0Dh06lG7FAQAAAAAA4NlIUyh05swZlShRIlG7nZ2dbt269dRFAQAAAAAA4NlKUyiUJ08eRUZGJmpfu3atgoKCnrYmAAAAAAAAPGNpWmh6wIAB6tmzp27fvi3DMLRr1y59+eWXmjRpkubPn5/eNQIAAAAAACCdpSkU6ty5sxwcHDRixAjFxsbqrbfeUq5cufThhx+qVatW6V0jAAAAAAAA0lmqQ6H79+9r6dKlql27tkJCQhQbG6ubN2/K09PzWdQHAAAAAACAZyDVawplzpxZ3bp10+3btyVJjo6OBEIAAAAAAAD/MWlaaLps2bLav39/etcCAAAAAACA5yRNawr16NFDAwcO1O+//65SpUrJycnJYnvRokXTpTgAAAAAAAA8G2kKhRIWk+7Tp4+5zWQyyTAMmUwmxcXFpU91AAAAAAAAeCbSFAqdOXMmvesAAAAAAADAc5SmUMjX1ze96wAAAAAAAMBzlKZQaNGiRclub9u2bZqKAQAAAAAAwPORplCob9++Fu/v3bun2NhY2draytHRkVAIAAAAAADgBZemUOiff/5J1Hby5El1795dgwcPfuqigJfR1vGt5erqmtFlAAAAAAAgScqUXgP5+/vrvffeSzSLCAAAAAAAAC+edAuFJClz5sz6888/03NIAAAAAAAAPANpun1s9erVFu8Nw1B0dLRmzZql4ODgdCkMAAAAAAAAz06aQqHGjRtbvDeZTMqRI4dq1KihqVOnpkddAAAAAAAAeIbSFArFx8endx0AAAAAAAB4jtK0plBoaKhiY2MTtf/7778KDQ196qIAAAAAAADwbJkMwzBSu5ONjY2io6Pl6elp0X7lyhV5enoqLi4u3QoE/utiYmLk5uam69ev80h6AAAAAMAzl9K/Q9M0U8gwDJlMpkTtBw4ckIeHR1qGBAAAAAAAwHOUqjWFsmbNKpPJJJPJpICAAItgKC4uTjdv3lS3bt3SvUgAAAAAAACkr1SFQjNmzJBhGOrYsaPGjh0rNzc38zZbW1v5+fmpQoUK6V4kAAAAAAAA0leqQqF27dpJkvLkyaOKFSsqS5Ysz6QoAAAAAAAAPFtpeiR91apVzf++ffu27t69a7GdxXSBxKqM+FI2dg4ZXQZgdfZObpvRJQAAAAAvpDQtNB0bG6tevXrJ09NTTk5Oypo1q8ULAAAAAAAAL7Y0hUKDBw/Wzz//rDlz5sjOzk7z58/X2LFjlStXLi1atCi9awQAAAAAAEA6S9PtY99//70WLVqkatWqqUOHDqpcubLy588vX19fLVmyRCEhIeldJwAAAAAAANJRmmYKXb16VXnz5pX0YP2gq1evSpIqVaqkrVu3pl91AAAAAAAAeCbSFArlzZtXZ86ckSQVKFBAX331laQHM4jc3d3TrTgAAAAAAAA8G2kKhTp06KADBw5Ikt555x19/PHHsre3V//+/TV48OB0LRAAAAAAAADpL01rCvXv39/875o1a+rYsWPau3ev8ufPr6JFi6ZbcQAAAAAAAHg20hQKPez27dvy9fWVr69vetQDAAAAAACA5yBNt4/FxcVp3LhxeuWVV+Ts7KzTp09LkkaOHKnPPvssXQsEAAAAAABA+ktTKDRhwgSFhYXpgw8+kK2trbm9cOHCmj9/froVBwAAAAAAgGcjTaHQokWLNHfuXIWEhMjGxsbcXqxYMR07dizdigMAAAAAAMCzkaZQ6I8//lD+/PkTtcfHx+vevXtPXRQAAAAAAACerTSFQgULFtS2bdsStX/zzTcqUaLEUxcFAAAAAACAZytNTx8bNWqU2rVrpz/++EPx8fFasWKFjh8/rkWLFmnNmjXpXSMAAAAAAADSWapmCp0+fVqGYahRo0b6/vvvtXHjRjk5OWnUqFE6evSovv/+e9WqVetZ1QoAAAAAAIB0kqqZQv7+/oqOjpanp6cqV64sDw8PHTp0SDlz5nxW9QEAAAAAAOAZSNVMIcMwLN7/9NNPunXrVroWBAAAAAAAgGcvTQtNJ3g0JAIAAAAAAMB/Q6pCIZPJJJPJlKgNAAAAAAAA/y2pWlPIMAy1b99ednZ2kqTbt2+rW7ducnJysui3YsWK9KsQSEdhYWHq16+frl27ltGlAAAAAACQoVI1U6hdu3by9PSUm5ub3Nzc9L///U+5cuUyv094WbP27durcePGz/WYYWFh5llcmTJlkre3t1q2bKnz588/1zpSKjY2VsOGDVO+fPlkb2+vHDlyqGrVqlq1atUzP3bLli114sSJZ34cAAAAAABedKmaKbRgwYJnVQeekqurq44fPy7DMHTmzBn16NFDzZs3186dOzO6tES6deumnTt36qOPPlLBggV15coVbd++XVeuXEnzmHFxceZQLDkODg5ycHBI83EAAAAAAHhZPNVC00i93377TXXr1pWzs7Ny5sypNm3a6PLly+btN27cUEhIiJycnOTt7a3p06erWrVq6tevX7LjmkwmeXl5ydvbWxUrVlSnTp20a9cuxcTEmPvMmTNH+fLlk62trQIDA7V48WKLMc6fP69GjRrJ2dlZrq6uatGihS5evGjePmbMGBUvXlyff/65cufOLWdnZ/Xo0UNxcXH64IMP5OXlJU9PT02YMCHZWlevXq13331X9erVk5+fn0qVKqXevXurY8eO5j537tzRoEGD9Morr8jJyUnlypVTeHi4eXtYWJjc3d21evVqFSxYUHZ2dpo/f77s7e0T3RrWt29f1ahRw2K/h33//fcqU6aM7O3tlT17djVp0iTFdQAAAAAA8F9FKPQcXbt2TTVq1FCJEiW0Z88erV27VhcvXlSLFi3MfQYMGKCIiAitXr1aGzZs0LZt27Rv375UHefSpUv67rvvZGNjIxsbG0nSd999p759+2rgwIH67bff1LVrV3Xo0EGbN2+WJMXHx6tRo0a6evWqtmzZog0bNuj06dNq2bKlxdhRUVH66aeftHbtWn355Zf67LPPVL9+ff3+++/asmWL3n//fY0YMSLZGUpeXl768ccfdePGjcf26dWrl3bs2KFly5bp4MGDat68uerUqaOTJ0+a+8TGxur999/X/PnzdfjwYYWEhMjd3V3ffvutuU9cXJyWL1+ukJCQJI/zww8/qEmTJqpXr57279+vTZs2qWzZsqmq41F37txRTEyMxQsAAAAAgBdNqm4fw9OZNWuWSpQooYkTJ5rbPv/8c/n4+OjEiRPy9vbWwoULtXTpUr322muSHtyylytXrieOff36dTk7O8swDMXGxkqS+vTpY14EfMqUKWrfvr169Ogh6UH49Ouvv2rKlCmqXr26Nm3apEOHDunMmTPy8fGRJC1atEiFChXS7t27VaZMGUkPwqPPP/9cLi4uKliwoKpXr67jx4/rxx9/VKZMmRQYGKj3339fmzdvVrly5ZKsde7cuQoJCVG2bNlUrFgxVapUSc2aNVNwcLCkBzOWFixYoPPnz5vPfdCgQVq7dq0WLFhgvn737t3T7NmzVaxYMfPYrVq10tKlS9WpUydJ0qZNm3Tt2jU1bdo0yVomTJigVq1aaezYsea2hPFSWsejJk2aZDEeAAAAAAAvImYKPUcHDhzQ5s2b5ezsbH4VKFBA0oMZOKdPn9a9e/csZqq4ubkpMDDwiWO7uLgoMjJSe/bs0dSpU1WyZEmL27iOHj1qDl0SBAcH6+jRo+btPj4+5kBIkgoWLCh3d3dzH0ny8/OTi4uL+X3OnDlVsGBBi7V8cubMqUuXLj221ipVquj06dPatGmTmjVrpsOHD6ty5coaN26cJOnQoUOKi4tTQECAxbXasmWLoqKizOPY2tqqaNGiFmOHhIQoPDxcf/75pyRpyZIlql+/fqJbxhJERkaaA7hHpbSORw0bNkzXr183vy5cuPDYvgAAAAAAZBRmCj1HN2/eVMOGDfX+++8n2ubt7a1Tp06leexMmTIpf/78kqSgoCBFRUWpe/fuidYNelpZsmSxeG8ymZJsi4+Pf+I4lStXVuXKlTV06FCNHz9eoaGhGjp0qG7evCkbGxvt3bvXfPtbAmdnZ/O/HRwcZDKZLLaXKVNG+fLl07Jly9S9e3d99913CgsLe2wdyS06ndI6HmVnZyc7O7vHbgcAAAAA4EXATKHnqGTJkjp8+LD8/PyUP39+i5eTk5Py5s2rLFmyaPfu3eZ9rl+/nqZHqL/zzjtavny5eT2ioKAgRUREWPSJiIhQwYIFzdsvXLhgMavlyJEjunbtmrnPs1SwYEHdv39ft2/fVokSJRQXF6dLly4luk5eXl5PHCskJERLlizR999/r0yZMql+/fqP7Vu0aFFt2rQpyW1PWwcAAAAAAC8yZgo9A9evX1dkZKRFW7Zs2dSzZ0/NmzdPrVu31pAhQ+Th4aFTp05p2bJlmj9/vlxcXNSuXTsNHjxYHh4e8vT01OjRo5UpU6ZEM2KexMfHR02aNNGoUaO0Zs0aDR48WC1atFCJEiVUs2ZNff/991qxYoU2btwoSapZs6aKFCmikJAQzZgxQ/fv31ePHj1UtWpVlS5dOr0ujSSpWrVqat26tUqXLq1s2bLpyJEjevfdd1W9enW5urrK1dVVISEhatu2raZOnaoSJUro77//1qZNm1S0aNFkQx7pQSg0ZswYTZgwQc2aNUt21s7o0aP12muvKV++fGrVqpXu37+vH3/8UUOHDlVAQMBT1QEAAAAAwIuMmULPQHh4uEqUKGHxGjt2rHLlyqWIiAjFxcXp9ddfV5EiRdSvXz+5u7ub1+SZNm2aKlSooAYNGqhmzZoKDg5WUFCQ7O3tU11H//799cMPP2jXrl1q3LixPvzwQ02ZMkWFChXSp59+qgULFqhatWqSHtzytWrVKmXNmlVVqlRRzZo1lTdvXi1fvjw9L40kqXbt2lq4cKFef/11BQUFqXfv3qpdu7a++uorc58FCxaobdu2GjhwoAIDA9W4cWPt3r1buXPnfuL4+fPnV9myZXXw4MHHPnUsQbVq1fT1119r9erVKl68uGrUqKFdu3alSx0AAAAAALzITIZhGBldBB7v1q1beuWVVzR16lTzE7Xw3xITEyM3NzcV6/2JbOwev4YRgGdj7+S2GV0CAAAA8Fwl/B16/fp1ubq6PrYft4+9YPbv369jx46pbNmyun79ukJDQyVJjRo1yuDKAAAAAADAy4RQ6AU0ZcoUHT9+XLa2tipVqpS2bdum7NmzZ3RZAAAAAADgJUIo9IIpUaKE9u7dm9FlAAAAAACAlxwLTQMAAAAAAFghQiEAAAAAAAArRCgEAAAAAABghQiFAAAAAAAArBChEAAAAAAAgBUiFAIAAAAAALBChEIAAAAAAABWiFAIAAAAAADAChEKAQAAAAAAWCFCIQAAAAAAACtEKAQAAAAAAGCFCIUAAAAAAACsEKEQAAAAAACAFSIUAgAAAAAAsEKZM7oAwFpsHd9arq6uGV0GAAAAAACSmCkEAAAAAABglQiFAAAAAAAArBChEAAAAAAAgBUiFAIAAAAAALBChEIAAAAAAABWiFAIAAAAAADAChEKAQAAAAAAWCFCIQAAAAAAACtEKAQAAAAAAGCFCIUAAAAAAACsEKEQAAAAAACAFcqc0QUA1qLKiC9lY+eQ0WUAz93eyW0zugQAAAAASWCmEAAAAAAAgBUiFAIAAAAAALBChEIAAAAAAABWiFAIAAAAAADAChEKAQAAAAAAWCFCIQAAAAAAACtEKAQAAAAAAGCFCIUAAAAAAACsEKEQAAAAAACAFSIUAgAAAAAAsEKEQgAAAAAAAFaIUAgAAAAAAMAKEQoBAAAAAABYIUIhAAAAAAAAK0QoBAAAAAAAYIUIhQAAAAAAAKwQoRAAAAAAAIAVIhQCAAAAAACwQoRCAAAAAAAAVohQKIPExsaqadOmcnV1lclk0rVr1575Mf38/DRjxgzze5PJpJUrVz7z4z4vj57fo6pVq6Z+/fo9t3oAAAAAAHiR/edDofbt28tkMiV61alTJ6NLS9bChQu1bds2bd++XdHR0XJzc0uy37///qvRo0crICBAdnZ2yp49u5o3b67Dhw8/dQ3R0dGqW7fuU4+TnLCwMIvPxdnZWaVKldKKFSue6XGTsmLFCo0bN+65HxcAAAAAgBdR5owuID3UqVNHCxYssGizs7PLoGpSJioqSkFBQSpcuPBj+9y5c0c1a9bU+fPnNXXqVJUrV04XL17UpEmTVK5cOW3cuFHly5dPcw1eXl5p3jc1XF1ddfz4cUnSjRs3tGDBArVo0UKHDx9WYGDgc6lBkjw8PJ7bsQAAAAAAeNH952cKSQ8CIC8vL4tX1qxZzdunTZumIkWKyMnJST4+PurRo4du3rxp3n7u3Dk1bNhQWbNmlZOTkwoVKqQff/zRvP23335T3bp15ezsrJw5c6pNmza6fPlysjV9++23KlSokOzs7OTn56epU6eat1WrVk1Tp07V1q1bZTKZVK1atSTHmDFjhnbs2KE1a9aoRYsW8vX1VdmyZfXtt98qKChInTp1kmEYkh7MmGrcuLGmTJkib29vZcuWTT179tS9e/ceW+PDt4+dPXtWJpNJK1asUPXq1eXo6KhixYppx44dFvv88ssvqly5shwcHOTj46M+ffro1q1byV4Lk8lk/lz8/f01fvx4ZcqUSQcPHjT3+eeff9S2bVtlzZpVjo6Oqlu3rk6ePJnia5qU+fPny93dXZs2bZKU+PYxPz8/TZw4UR07dpSLi4ty586tuXPnWoyxfft2FS9eXPb29ipdurRWrlwpk8mkyMjIZI8NAAAAAMCL7qUIhZ4kU6ZMmjlzpg4fPqyFCxfq559/1pAhQ8zbe/bsqTt37mjr1q06dOiQ3n//fTk7O0uSrl27pho1aqhEiRLas2eP1q5dq4sXL6pFixaPPd7evXvVokULtWrVSocOHdKYMWM0cuRIhYWFSXpwG1OXLl1UoUIFRUdHP/ZWqqVLl6pWrVoqVqxYovPp37+/jhw5ogMHDpjbN2/erKioKG3evFkLFy5UWFiY+ZgpNXz4cA0aNEiRkZEKCAhQ69atdf/+fUkPZjfVqVNHTZs21cGDB7V8+XL98ssv6tWrV4rHj4uL08KFCyVJJUuWNLe3b99ee/bs0erVq7Vjxw4ZhqF69eqZQ60nXdNHffDBB3rnnXe0fv16vfbaa4+tZ+rUqSpdurT279+vHj16qHv37uZZTTExMWrYsKGKFCmiffv2ady4cRo6dOgTz/HOnTuKiYmxeAEAAAAA8KJ5KW4fW7NmjTnESfDuu+/q3XfflaREs0PGjx+vbt26afbs2ZKk8+fPq2nTpipSpIgkKW/evOb+s2bNUokSJTRx4kRz2+effy4fHx+dOHFCAQEBieqZNm2aXnvtNY0cOVKSFBAQoCNHjmjy5Mlq3769PDw85OjoKFtb22Rv4Tpx4oSqV6+e5LagoCBzn+LFi0uSsmbNqlmzZsnGxkYFChRQ/fr1tWnTJnXp0uWxx3jUoEGDVL9+fUnS2LFjVahQIZ06dUoFChTQpEmTFBISYr6e/v7+mjlzpqpWrao5c+bI3t4+yTGvX79u/nz+/fdfZcmSRXPnzlW+fPkkSSdPntTq1asVERGhihUrSpKWLFkiHx8frVy5Us2bN3/iNX3Y0KFDtXjxYm3ZskWFChVK9nzr1aunHj16mPebPn26Nm/erMDAQC1dulQmk0nz5s2Tvb29ChYsqD/++OOJ13PSpEkaO3Zssn0AAAAAAMhoL0UoVL16dc2ZM8ei7eH1YzZu3KhJkybp2LFjiomJ0f3793X79m3FxsbK0dFRffr0Uffu3bV+/XrVrFlTTZs2VdGiRSVJBw4c0ObNmxOFTtKDmTNJhUJHjx5Vo0aNLNqCg4M1Y8YMxcXFycbGJsXnlnB7WEoUKlTIYmxvb28dOnQoxftLMp93wv6SdOnSJRUoUEAHDhzQwYMHtWTJEov64uPjdebMGXNQ9SgXFxft27dP0oOnrm3cuFHdunVTtmzZ1LBhQx09elSZM2dWuXLlzPtky5ZNgYGBOnr0qKSUX9OpU6fq1q1b2rNnj0W4l5LzTbjN7dKlS5Kk48ePq2jRohZhV9myZZ845rBhwzRgwADz+5iYGPn4+DxxPwAAAAAAnqeX4vYxJycn5c+f3+KVEAqdPXtWDRo0UNGiRfXtt99q7969+vjjjyVJd+/elSR17txZp0+fVps2bXTo0CGVLl1aH330kSTp5s2batiwoSIjIy1eJ0+eVJUqVZ7peQUEBJhDkUcltD8cSmXJksWij8lkUnx8fKqO+fAYJpNJksxj3Lx5U127drW4DgcOHNDJkyfNs36SkilTJvPnUrRoUQ0YMEDVqlXT+++/n6raUqJy5cqKi4vTV199laL+6XHNHmVnZydXV1eLFwAAAAAAL5qXIhRKzt69exUfH6+pU6eqfPnyCggI0J9//pmon4+Pj7p166YVK1Zo4MCBmjdvnqQH694cPnxYfn5+iYInJyenJI8ZFBSkiIgIi7aIiAgFBASkapZQq1attHHjRot1g6QHIc306dNVsGDBROsNPUslS5bUkSNHEl2H/Pnzy9bWNlVj2djY6N9//5X04Hrdv39fO3fuNG+/cuWKjh8/roIFC5r7pOSali1bVj/99JMmTpyoKVOmpPVUJUmBgYE6dOiQ7ty5Y27bvXv3U40JAAAAAMCL4qUIhe7cuaO//vrL4pXwdLD8+fPr3r17+uijj3T69GktXrxYn3zyicX+/fr107p163TmzBnt27dPmzdvNt8K1bNnT129elWtW7fW7t27FRUVpXXr1qlDhw6Ki4tLsp6BAwdq06ZNGjdunE6cOKGFCxdq1qxZGjRoUKrOq3///ipbtqwaNmyor7/+WufPn9fu3bvVtGlTHT16VJ999pl5Ns/zMHToUG3fvl29evUyz5ZatWrVExeaNgzD/LmcOXNGc+fO1bp168y3g/n7+6tRo0bq0qWLfvnlFx04cED/+9//9Morr5j7pOaaVqxYUT/++KPGjh2rGTNmpPl833rrLcXHx+vtt9/W0aNHtW7dOnPQ9DyvOwAAAAAAz8JLEQqtXbtW3t7eFq9KlSpJkooVK6Zp06bp/fffV+HChbVkyRJNmjTJYv+4uDj17NlTQUFBqlOnjgICAsyLUOfKlUsRERGKi4vT66+/riJFiqhfv35yd3dXpkxJX76SJUvqq6++0rJly1S4cGGNGjVKoaGhiRZEfhJ7e3v9/PPPatu2rd59913lz59fderUkY2NjX799VeVL18+9RfrKRQtWlRbtmzRiRMnVLlyZZUoUUKjRo1Srly5kt0vJibG/LkEBQVp6tSpCg0N1fDhw819FixYoFKlSqlBgwaqUKGCDMPQjz/+aL69K7XXtFKlSvrhhx80YsQI862AqeXq6qrvv/9ekZGRKl68uIYPH65Ro0ZJ0mMX1QYAAAAA4L/CZKRmJWPAyi1ZskQdOnTQ9evX5eDgkKJ9YmJi5ObmpmK9P5GNXcr2AV4meye3zegSAAAAAKuS8Hfo9evXk13n9qV4+hjwrCxatEh58+bVK6+8ogMHDmjo0KFq0aJFigMhAAAAAABeVIRCQDL++usvjRo1Sn/99Ze8vb3VvHlzTZgwIaPLAgAAAADgqREKAckYMmSIhgwZktFlAAAAAACQ7l6KhaYBAAAAAACQOoRCAAAAAAAAVohQCAAAAAAAwAoRCgEAAAAAAFghQiEAAAAAAAArRCgEAAAAAABghQiFAAAAAAAArBChEAAAAAAAgBUiFAIAAAAAALBChEIAAAAAAABWiFAIAAAAAADAChEKAQAAAAAAWCFCIQAAAAAAACtEKAQAAAAAAGCFCIUAAAAAAACsUOaMLgCwFlvHt5arq2tGlwEAAAAAgCRmCgEAAAAAAFglQiEAAAAAAAArRCgEAAAAAABghQiFAAAAAAAArBChEAAAAAAAgBUiFAIAAAAAALBChEIAAAAAAABWiFAIAAAAAADAChEKAQAAAAAAWCFCIQAAAAAAACtEKAQAAAAAAGCFMmd0AYC1qDLiS9nYOWR0GcBzt3dy24wuAQAAAEASmCkEAAAAAABghQiFAAAAAAAArBChEAAAAAAAgBUiFAIAAAAAALBChEIAAAAAAABWiFAIAAAAAADAChEKAQAAAAAAWCFCIQAAAAAAACtEKAQAAAAAAGCFCIUAAAAAAACsEKEQAAAAAACAFSIUAgAAAAAAsEKEQgAAAAAAAFaIUAgAAAAAAMAKEQoBAAAAAABYIUIhAAAAAAAAK0QoBAAAAAAAYIUIhQAAAAAAAKwQoRAAAAAAAIAVIhTCSy8iIkJFihRRlixZ1Lhx44wuBwAAAACAFwKh0Evo77//Vvfu3ZU7d27Z2dnJy8tLtWvXVkRERLoex8/PTzNmzEhR3/3796t58+bKmTOn7O3t5e/vry5duujEiRPpWlNSBgwYoOLFi+vMmTMKCwt7qrFMJpNWrlyZLnUBAAAAAJCRCIVeQk2bNtX+/fu1cOFCnThxQqtXr1a1atV05cqVDKlnzZo1Kl++vO7cuaMlS5bo6NGj+uKLL+Tm5qaRI0c+8+NHRUWpRo0aevXVV+Xu7p6mMe7evZu+RQEAAAAAkMEIhV4y165d07Zt2/T++++revXq8vX1VdmyZTVs2DC98cYbFv06d+6sHDlyyNXVVTVq1NCBAwfM26OiotSoUSPlzJlTzs7OKlOmjDZu3GjeXq1aNZ07d079+/eXyWSSyWRKsp7Y2Fh16NBB9erV0+rVq1WzZk3lyZNH5cqV05QpU/Tpp5+a+27ZskVly5aVnZ2dvL299c477+j+/fsWx+zdu7f69eunrFmzKmfOnJo3b55u3bqlDh06yMXFRfnz59dPP/0kSTp79qxMJpOuXLmijh07ymQymWcKpeRYvXr1Ur9+/ZQ9e3bVrl1bfn5+kqQmTZrIZDKZ3wMAAAAA8F9EKPSScXZ2lrOzs1auXKk7d+48tl/z5s116dIl/fTTT9q7d69Kliyp1157TVevXpUk3bx5U/Xq1dOmTZu0f/9+1alTRw0bNtT58+clSStWrNCrr76q0NBQRUdHKzo6OsnjrFu3TpcvX9aQIUOS3J4wc+ePP/5QvXr1VKZMGR04cEBz5szRZ599pvHjx1v0X7hwobJnz65du3apd+/e6t69u5o3b66KFStq3759ev3119WmTRvFxsbKx8dH0dHRcnV11YwZMxQdHa2WLVum6li2traKiIjQJ598ot27d0uSFixYoOjoaPP7R925c0cxMTEWLwAAAAAAXjSEQi+ZzJkzKywsTAsXLpS7u7uCg4P17rvv6uDBg+Y+v/zyi3bt2qWvv/5apUuXlr+/v6ZMmSJ3d3d98803kqRixYqpa9euKly4sPz9/TVu3Djly5dPq1evliR5eHjIxsZGLi4u8vLykpeXV5L1nDx5UpJUoECBZOuePXu2fHx8NGvWLBUoUECNGzfW2LFjNXXqVMXHx5v7FStWTCNGjJC/v7+GDRsme3t7Zc+eXV26dJG/v79GjRqlK1eu6ODBg7KxsZGXl5dMJpPc3Nzk5eUlBweHFB/L399fH3zwgQIDAxUYGKgcOXJIehBkeXl5md8/atKkSXJzczO/fHx8nvSxAQAAAADw3BEKvYSaNm2qP//8U6tXr1adOnUUHh6ukiVLmm+dOnDggG7evKls2bKZZxY5OzvrzJkzioqKkvRgptCgQYMUFBQkd3d3OTs76+jRo+aZQillGEaK+h09elQVKlSwuA0tODhYN2/e1O+//25uK1q0qPnfNjY2ypYtm4oUKWJuy5kzpyTp0qVLT32sUqVKpaj2Rw0bNkzXr183vy5cuJCmcQAAAAAAeJYyZ3QBeDbs7e1Vq1Yt1apVSyNHjlTnzp01evRotW/fXjdv3pS3t7fCw8MT7ZdwO9egQYO0YcMGTZkyRfnz55eDg4OaNWuW6gWXAwICJEnHjh1ThQoVnva0lCVLFov3JpPJoi0h6Hl4xk9aOTk5pWk/Ozs72dnZPfXxAQAAAAB4lpgpZCUKFiyoW7duSZJKliypv/76S5kzZ1b+/PktXtmzZ5ckRUREqH379mrSpImKFCkiLy8vnT171mJMW1tbxcXFJXvc119/XdmzZ9cHH3yQ5PZr165JkoKCgvT/2rvzuKjKvo/j3xFkQGTJjSVIUFEUcV9SSrQ0tDKXSjNvl1LLcr1d63ZL1DTTctfKEivL9MnM3BLXDBfc0Cxyy+0pjcwF0TKE8/zhw9yNgqEyDHI+79drXjlnrrnmd82vMfh2nTNbt26121mUkJAgLy8vBQUF3eaqs3cnr1W0aNF/XDMAAAAAAHcDQqFC5vfff9dDDz2kjz/+WPv27dPRo0e1ePFiTZw4Ua1atZIkNW3aVA0aNFDr1q21Zs0aHTt2TFu2bNGwYcO0c+dOSdeup7NkyRIlJSVp7969evbZZ2/YfRMSEqJvvvlGP//8s86cOZNtPZ6enpo7d65WrFihJ554QmvXrtWxY8e0c+dODRkyRD179pQkvfzyyzp58qT69OmjH3/8UV9++aVGjRqlAQMGqEiRvP3X9E5eKyQkROvWrdPp06d17ty5PK0LAAAAAID8RChUyBQvXlz169fX22+/rUaNGqlq1aoaMWKEevTooRkzZki6dorVypUr1ahRIz333HOqWLGinnnmGR0/ftx2TZ633npL99xzjxo2bKiWLVsqJiZGtWrVsnut2NhYHTt2TOXLl8/xosuS1KpVK23ZskVFixbVs88+q/DwcHXo0EEXLlywfePXvffeq5UrVyoxMVHVq1dXz5491a1bNw0fPjzP36M7ea3JkycrPj5ewcHBqlmzZp7XBgAAAABAfrEYub0SMIDbkpqaKh8fH1XvM0cuVg9nlwPku11vdnZ2CQAAAICpZP0eeuHCBXl7e+c4jp1CAAAAAAAAJkQoBAAAAAAAYEKEQgAAAAAAACZEKAQAAAAAAGBChEIAAAAAAAAmRCgEAAAAAABgQoRCAAAAAAAAJkQoBAAAAAAAYEKEQgAAAAAAACZEKAQAAAAAAGBChEIAAAAAAAAmRCgEAAAAAABgQoRCAAAAAAAAJkQoBAAAAAAAYEKEQgAAAAAAACZEKAQAAAAAAGBChEIAAAAAAAAm5OrsAgCz+GZsB3l7ezu7DAAAAAAAJLFTCAAAAAAAwJQIhQAAAAAAAEyIUAgAAAAAAMCECIUAAAAAAABMiFAIAAAAAADAhAiFAAAAAAAATIhQCAAAAAAAwIQIhQAAAAAAAEyIUAgAAAAAAMCECIUAAAAAAABMiFAIAAAAAADAhAiFAAAAAAAATMjV2QUAZtFo+KdysXo4uwzA4Xa92dnZJQAAAADIBXYKAQAAAAAAmBChEAAAAAAAgAkRCgEAAAAAAJgQoRAAAAAAAIAJEQoBAAAAAACYEKEQAAAAAACACREKAQAAAAAAmBChEAAAAAAAgAkRCgEAAAAAAJgQoRAAAAAAAIAJEQoBAAAAAACYEKEQAAAAAACACREKAQAAAAAAmBChEAAAAAAAgAkRCgEAAAAAAJgQoRAAAAAAAIAJEQoBAAAAAACYEKEQAAAAAACACREKAQAAAAAAmBChEEzFYrFo6dKlzi4DAAAAAACnc3oodPr0afXp00flypWT1WpVcHCwWrZsqXXr1uXJ/MeOHZPFYlFSUlKezJcfNm7cKIvFctPbxo0bnVpjSEiIrZZixYopMjJSc+fOvaU5XnvtNdWoUcMxBebg1KlTatGiRb6+JgAAAAAABZGrM1/82LFjioqKkq+vr958801FRkYqPT1dX3/9tXr16qUff/zRmeXlm/T0dBUtWtR2v2HDhjp16pTtfr9+/ZSamqp58+bZjpUoUSJfa8xObGysevToocuXL2vx4sXq0aOH7r333nwPXQzDUEZGhlxd//lfZ39//3yoCAAAAACAgs+pO4VefvllWSwWJSYm6sknn1TFihUVERGhAQMGaNu2bZKy3+lz/vx5u90y586dU8eOHVW6dGl5eHgoLCzMFqCEhoZKkmrWrCmLxaLGjRtLkjIzMxUbG6ugoCBZrVbVqFFDq1evtr1G1usuWrRIDz74oDw8PFS3bl0dPHhQO3bsUJ06dVS8eHG1aNFCv/32m9265s6dq8qVK8vd3V3h4eGaNWvWDfN+9tlnio6Olru7uxYsWGD3fDc3N/n7+9tuHh4eslqt8vf318GDBxUcHKyzZ8/aPad///568MEHJUlxcXHy9fXV0qVLFRYWJnd3d8XExOjkyZN2z/nyyy9Vq1Ytubu7q1y5cho9erSuXr2a6/55eXnJ399f5cqV09ChQ1WiRAnFx8fb9al79+4qXbq0vL299dBDD2nv3r22GkePHq29e/fadhzFxcXlqt9ZO6lWrVql2rVry2q16ttvv1Xjxo3Vt29fDRkyRCVKlJC/v79ee+01u5r/fvpY1mstWbJETZo0UbFixVS9enVt3brV7jnvvfeegoODVaxYMbVp00ZvvfWWfH19c3xfrly5otTUVLsbAAAAAAAFjdNCobNnz2r16tXq1auXPD09b3j8Zr90X2/EiBH64YcftGrVKiUnJ2v27NkqVaqUJCkxMVGStHbtWp06dUpLliyRJE2dOlWTJ0/WpEmTtG/fPsXExOiJJ57QoUOH7OYeNWqUhg8frt27d8vV1VXPPvushgwZoqlTp2rz5s06fPiwRo4caRu/YMECjRw5UuPGjVNycrJef/11jRgxQvPnz7eb95VXXlG/fv2UnJysmJiYXK+1UaNGKleunD766CPbsfT0dC1YsEDPP/+87djly5c1btw4ffjhh0pISND58+f1zDPP2B7fvHmzOnfurH79+umHH37QO++8o7i4OI0bNy7XtWTJzMzU559/rnPnzsnNzc12/Omnn1ZKSopWrVqlXbt2qVatWnr44Yd19uxZtW/fXgMHDlRERIROnTqlU6dOqX379rf0uq+88oomTJig5ORkVatWTZI0f/58eXp6avv27Zo4caJiY2PtgqrsDBs2TIMGDVJSUpIqVqyoDh062MKxhIQE9ezZU/369VNSUpKaNWv2j+/R+PHj5ePjY7sFBwff0roAAAAAAMgPTjt97PDhwzIMQ+Hh4Xc814kTJ1SzZk3VqVNH0rXr3WQpXbq0JKlkyZJ2pw5NmjRJQ4cOtQUlb7zxhjZs2KApU6Zo5syZtnGDBg2yhTb9+vVThw4dtG7dOkVFRUmSunXrpri4ONv4UaNGafLkyWrbtq2kazuVskKXLl262Mb179/fNuZWdevWTfPmzdPgwYMlSV999ZX+/PNPtWvXzjYmPT1dM2bMUP369SVdC0sqV66sxMRE1atXT6NHj9Yrr7xiq6lcuXIaM2aMhgwZolGjRuWqjqFDh2r48OG6cuWKrl69qhIlSqh79+6SpG+//VaJiYlKSUmR1WqVdO09X7p0qf7nf/5HL7zwgooXLy5XV9fbPqUrNjZWzZo1sztWrVo1W/1hYWGaMWOG1q1bd8O4vxs0aJAee+wxSdLo0aMVERGhw4cPKzw8XNOnT1eLFi00aNAgSVLFihW1ZcsWLV++PMf5Xn31VQ0YMMB2PzU1lWAIAAAAAFDgOG2nkGEYeTbXSy+9pIULF6pGjRoaMmSItmzZctPxqamp+uWXX2zBTpaoqCglJyfbHcvagSJJfn5+kqTIyEi7YykpKZKkS5cu6ciRI+rWrZuKFy9uu40dO1ZHjhyxmzcrwLodXbt21eHDh22n2MXFxaldu3Z2O65cXV1Vt25d2/3w8HD5+vra1rd3717Fxsba1dmjRw+dOnVKly9fzlUdgwcPVlJSktavX6/69evr7bffVoUKFWzzp6WlqWTJknavcfTo0Rvei9uV3Xv4935JUkBAgK0/Ofn7cwICAiTJ9pwDBw6oXr16duOvv389q9Uqb29vuxsAAAAAAAWN03YKhYWFyWKx/OPFpIsUuZZb/T1ESk9PtxvTokULHT9+XCtXrlR8fLwefvhh9erVS5MmTbrjOv9+AWiLxZLtsczMTElSWlqapGvXoMnaoZPFxcXF7n52p8zlVpkyZdSyZUvNmzdPoaGhWrVq1S1/G1laWppGjx6d7W4ld3f3XM1RqlQpVahQQRUqVNDixYsVGRmpOnXqqEqVKkpLS1NAQEC2dd3s1MDc9DtLdu/h33sj2fcnJ9n1+J+eAwAAAADA3c5pO4VKlCihmJgYzZw5U5cuXbrh8fPnz0v67+lff/82ruy+Xr506dLq0qWLPv74Y02ZMkXvvvuuJNmucZORkWEb6+3trcDAQCUkJNjNkZCQoCpVqtz2mvz8/BQYGKiffvrJFpZk3bIueJ1Xunfvrs8++0zvvvuuypcvf8Oup6tXr2rnzp22+wcOHND58+dVuXJlSVKtWrV04MCBG+qsUKGCLZi5FcHBwWrfvr1effVV2/ynT5+Wq6vrDfNnXe/Jzc3Nri9S7vudXypVqqQdO3bYHbv+PgAAAAAAdyOnfiX9zJkzFRUVpXr16ik2NlbVqlXT1atXFR8fr9mzZys5OVkeHh66//77NWHCBIWGhiolJUXDhw+3m2fkyJGqXbu2IiIidOXKFS1fvtwWfpQpU0YeHh5avXq1goKC5O7uLh8fHw0ePFijRo1S+fLlVaNGDc2bN09JSUk3fBPYrRo9erT69u0rHx8fNW/eXFeuXNHOnTt17tw5u+vM3KmYmBh5e3tr7Nixio2NveHxokWLqk+fPpo2bZpcXV3Vu3dv3X///bZTn0aOHKnHH39c9913n5566ikVKVJEe/fu1f79+zV27Njbqqlfv36qWrWqdu7cqaZNm6pBgwZq3bq1Jk6cqIoVK+qXX37RihUr1KZNG9WpU0chISE6evSokpKSFBQUJC8vr1z1Oz/16dNHjRo10ltvvaWWLVtq/fr1WrVqlW1HEQAAAAAAdyunfiV9uXLltHv3bjVp0kQDBw5U1apV1axZM61bt06zZ8+2jfvggw909epV1a5dW/37978htHBzc9Orr76qatWqqVGjRnJxcdHChQslXbu2zrRp0/TOO+8oMDBQrVq1kiT17dtXAwYM0MCBAxUZGanVq1dr2bJlCgsLu6M1de/eXXPnztW8efMUGRmp6OhoxcXF5flOoSJFiqhr167KyMhQ586db3i8WLFiGjp0qJ599llFRUWpePHi+uyzz2yPx8TEaPny5VqzZo3q1q2r+++/X2+//bbKli172zVVqVJFjzzyiEaOHCmLxaKVK1eqUaNGeu6551SxYkU988wzOn78uO3aTE8++aSaN2+uJk2aqHTp0vr0008l/XO/81NUVJTmzJmjt956S9WrV9fq1av173//O9en2AEAAAAAUFBZjLy84jPyVbdu3fTbb79p2bJldsfj4uLUv39/2yl4yFs9evTQjz/+qM2bN+dqfGpqqnx8fFS9zxy5WD0cXB3gfLvevDGoBgAAAJB/sn4PvXDhwk2//Mipp4/h9ly4cEHfffedPvnkkxsCIeS9SZMmqVmzZvL09NSqVas0f/58zZo1y9llAQAAAABwRwiF7kKtWrVSYmKievbsqWbNmuX5/AsWLNCLL76Y7WNly5bV999/n+evWZAlJiZq4sSJunjxosqVK6dp06ape/fuzi4LAAAAAIA7wuljuMHFixf166+/ZvtY0aJF7+i6Q2bE6WMwG04fAwAAAJyL08dw27y8vOTl5eXsMgAAAAAAgAM59dvHAAAAAAAA4ByEQgAAAAAAACZEKAQAAAAAAGBChEIAAAAAAAAmRCgEAAAAAABgQoRCAAAAAAAAJkQoBAAAAAAAYEKEQgAAAAAAACZEKAQAAAAAAGBChEIAAAAAAAAmRCgEAAAAAABgQoRCAAAAAAAAJkQoBAAAAAAAYEKuzi4AMItvxnaQt7e3s8sAAAAAAEASO4UAAAAAAABMiVAIAAAAAADAhAiFAAAAAAAATIhQCAAAAAAAwIQIhQAAAAAAAEyIUAgAAAAAAMCECIUAAAAAAABMiFAIAAAAAADAhAiFAAAAAAAATIhQCAAAAAAAwIQIhQAAAAAAAEzI1dkFAGbRaPincrF6OLsM4LbterOzs0sAAAAAkIfYKQQAAAAAAGBChEIAAAAAAAAmRCgEAAAAAABgQoRCAAAAAAAAJkQoBAAAAAAAYEKEQgAAAAAAACZEKAQAAAAAAGBChEIAAAAAAAAmRCgEAAAAAABgQoRCAAAAAAAAJkQoBAAAAAAAYEKEQgAAAAAAACZEKAQAAAAAAGBChEIAAAAAAAAmRCgEAAAAAABgQoRCAAAAAAAAJkQoBAAAAAAAYEKEQgAAAAAAACZEKAQAAAAAAGBChEKFQOPGjdW/f3/b/ZCQEE2ZMiXXzz927JgsFouSkpLyvLabub5uAAAAAACQfwiF7gJdu3aVxWK54Xb48OFsx+/YsUMvvPBCntYQFxcnX1/fXI3Lqs/FxUX33HOP6tevr9jYWF24cMFu7JIlSzRmzJhcvT4BEgAAAAAAecvV2QUgd5o3b6558+bZHStdunS2Y3M6nl+8vb114MABGYah8+fPa8uWLRo/frzmzZunhIQEBQYGSpJKlCjh1DoBAAAAADAzdgrdJaxWq/z9/e1uLi4u2Y69/vSxH3/8UQ888IDc3d1VpUoVrV27VhaLRUuXLrV73k8//aQmTZqoWLFiql69urZu3SpJ2rhxo5577jlduHDBtgvotddey7FWi8Uif39/BQQEqHLlyurWrZu2bNmitLQ0DRkyxDbu+t0/s2bNUlhYmNzd3eXn56ennnpK0rWdUps2bdLUqVNtr3/s2DFlZGSoW7duCg0NlYeHhypVqqSpU6fa1dK1a1e1bt1akyZNUkBAgEqWLKlevXopPT3dNubKlSsaOnSogoODZbVaVaFCBb3//vu2x/fv368WLVqoePHi8vPzU6dOnXTmzJkc1w8AAAAAwN2AnUKFXEZGhlq3bq377rtP27dv18WLFzVw4MBsxw4bNkyTJk1SWFiYhg0bpg4dOujw4cNq2LChpkyZopEjR+rAgQOSpOLFi99SHWXKlFHHjh31wQcfKCMj44ZAa+fOnerbt68++ugjNWzYUGfPntXmzZslSVOnTtXBgwdVtWpVxcbGSrq2GyozM1NBQUFavHixSpYsqS1btuiFF15QQECA2rVrZ5t7w4YNCggI0IYNG3T48GG1b99eNWrUUI8ePSRJnTt31tatWzVt2jRVr15dR48etYU+58+f10MPPaTu3bvr7bff1h9//KGhQ4eqXbt2Wr9+fbZrvXLliq5cuWK7n5qaekvvFQAAAAAA+YFQ6C6xfPlyuyCmRYsWWrx48T8+Lz4+XkeOHNHGjRvl7+8vSRo3bpyaNWt2w9hBgwbpsccekySNHj1aEREROnz4sMLDw+Xj42PbAXS7wsPDdfHiRf3+++8qU6aM3WMnTpyQp6enHn/8cXl5eals2bKqWbOmJMnHx0dubm4qVqyY3eu7uLho9OjRtvuhoaHaunWrFi1aZBcK3XPPPZoxY4ZcXFwUHh6uxx57TOvWrVOPHj108OBBLVq0SPHx8WratKkkqVy5crbnzpgxQzVr1tTrr79uO/bBBx8oODhYBw8eVMWKFW9Y5/jx4+3qAgAAAACgICIUuks0adJEs2fPtt339PTM1fMOHDig4OBguzClXr162Y6tVq2a7c8BAQGSpJSUFIWHh99OyTcwDEPStdPLrtesWTOVLVtW5cqVU/PmzdW8eXO1adNGxYoVu+mcM2fO1AcffKATJ07ojz/+0F9//aUaNWrYjYmIiLDbmRQQEKDvvvtOkpSUlCQXFxdFR0dnO//evXu1YcOGbHdGHTlyJNtQ6NVXX9WAAQNs91NTUxUcHHzTdQAAAAAAkN8Ihe4Snp6eqlChgkNfo2jRorY/ZwU3mZmZeTZ/cnKyvL29VbJkyRse8/Ly0u7du7Vx40atWbNGI0eO1GuvvaYdO3bk+K1nCxcu1KBBgzR58mQ1aNBAXl5eevPNN7V9+/Yc1yVdW1vWujw8PG5ac1pamlq2bKk33njjhseygrPrWa1WWa3Wm84LAAAAAICzEQoVcpUqVdLJkyf166+/ys/PT9K1r6y/VW5ubsrIyLjtOlJSUvTJJ5+odevWKlIk++ubu7q6qmnTpmratKlGjRolX19frV+/Xm3bts329RMSEtSwYUO9/PLLtmNHjhy5pboiIyOVmZmpTZs22U4f+7tatWrp888/V0hIiFxd+bgAAAAAAAoPvn2skGvWrJnKly+vLl26aN++fUpISNDw4cMlZX8aV05CQkKUlpamdevW6cyZM7p8+XKOYw3D0OnTp3Xq1CklJyfrgw8+UMOGDeXj46MJEyZk+5zly5dr2rRpSkpK0vHjx/Xhhx8qMzNTlSpVsr3+9u3bdezYMZ05c0aZmZkKCwvTzp079fXXX+vgwYMaMWLELQdeISEh6tKli55//nktXbpUR48e1caNG7Vo0SJJUq9evXT27Fl16NBBO3bs0JEjR/T111/rueeeu6OQDAAAAAAAZyMUKuRcXFy0dOlSpaWlqW7duurevbuGDRsmSXJ3d8/1PA0bNlTPnj3Vvn17lS5dWhMnTsxxbGpqqgICAnTvvfeqQYMGeuedd9SlSxft2bMnx1OufH19tWTJEj300EOqXLmy5syZo08//VQRERGSrl0E28XFRVWqVFHp0qV14sQJvfjii2rbtq3at2+v+vXr6/fff7fbNZRbs2fP1lNPPaWXX35Z4eHh6tGjhy5duiRJCgwMVEJCgjIyMvTII48oMjJS/fv3l6+vb447ngAAAAAAuBtYjKyr/8I0EhIS9MADD+jw4cMqX768s8sp9FJTU+Xj46PqfebIxXrzaxgBBdmuNzs7uwQAAAAAuZD1e+iFCxfk7e2d4zgukmICX3zxhYoXL66wsDAdPnxY/fr1U1RUFIEQAAAAAAAmRihkAhcvXtTQoUN14sQJlSpVSk2bNtXkyZOdXRYAAAAAAHAiQiET6Ny5szp35rQPAAAAAADwX1wpFwAAAAAAwIQIhQAAAAAAAEyIUAgAAAAAAMCECIUAAAAAAABMiFAIAAAAAADAhAiFAAAAAAAATIhQCAAAAAAAwIQIhQAAAAAAAEyIUAgAAAAAAMCECIUAAAAAAABMiFAIAAAAAADAhAiFAAAAAAAATIhQCAAAAAAAwIQIhQAAAAAAAEyIUAgAAAAAAMCEXJ1dAGAW34ztIG9vb2eXAQAAAACAJHYKAQAAAAAAmBKhEAAAAAAAgAkRCgEAAAAAAJgQoRAAAAAAAIAJcaFpwMEMw5AkpaamOrkSAAAAAIAZZP3+mfX7aE4IhQAH+/333yVJwcHBTq4EAAAAAGAmFy9elI+PT46PEwoBDlaiRAlJ0okTJ276YYTzpKamKjg4WCdPnpS3t7ezy0E26FHBR48KPnpU8NGjgo8eFXz06O5AnxzPMAxdvHhRgYGBNx1HKAQ4WJEi1y7d5ePjw194BZy3tzc9KuDoUcFHjwo+elTw0aOCjx4VfPTo7kCfHCs3mxK40DQAAAAAAIAJEQoBAAAAAACYEKEQ4GBWq1WjRo2S1Wp1dinIAT0q+OhRwUePCj56VPDRo4KPHhV89OjuQJ8KDovxT99PBgAAAAAAgEKHnUIAAAAAAAAmRCgEAAAAAABgQoRCAAAAAAAAJkQoBAAAAAAAYEKEQsAtmjlzpkJCQuTu7q769esrMTHxpuMXL16s8PBwubu7KzIyUitXrrR73DAMjRw5UgEBAfLw8FDTpk116NAhRy6h0MvLHqWnp2vo0KGKjIyUp6enAgMD1blzZ/3yyy+OXkahltefo7/r2bOnLBaLpkyZksdVm4sjepScnKwnnnhCPj4+8vT0VN26dXXixAlHLcEU8rpPaWlp6t27t4KCguTh4aEqVapozpw5jlxCoXcrPfr+++/15JNPKiQk5KZ/j91q33Fzed2j8ePHq27duvLy8lKZMmXUunVrHThwwIErKPwc8TnKMmHCBFksFvXv3z9vizYZR/To559/1r/+9S+VLFlSHh4eioyM1M6dOx20AvMiFAJuwWeffaYBAwZo1KhR2r17t6pXr66YmBilpKRkO37Lli3q0KGDunXrpj179qh169Zq3bq19u/fbxszceJETZs2TXPmzNH27dvl6empmJgY/fnnn/m1rEIlr3t0+fJl7d69WyNGjNDu3bu1ZMkSHThwQE888UR+LqtQccTnKMsXX3yhbdu2KTAw0NHLKNQc0aMjR47ogQceUHh4uDZu3Kh9+/ZpxIgRcnd3z69lFTqO6NOAAQO0evVqffzxx0pOTlb//v3Vu3dvLVu2LL+WVajcao8uX76scuXKacKECfL398+TOXFzjujRpk2b1KtXL23btk3x8fFKT0/XI488okuXLjlyKYWWI3qUZceOHXrnnXdUrVo1R5RuGo7o0blz5xQVFaWiRYtq1apV+uGHHzR58mTdc889jlyKORkAcq1evXpGr169bPczMjKMwMBAY/z48dmOb9eunfHYY4/ZHatfv77x4osvGoZhGJmZmYa/v7/x5ptv2h4/f/68YbVajU8//dQBKyj88rpH2UlMTDQkGcePH8+bok3GUT363//9X+Pee+819u/fb5QtW9Z4++2387x2s3BEj9q3b2/861//ckzBJuWIPkVERBixsbF2Y2rVqmUMGzYsDys3j1vt0d/l9PfYncyJGzmiR9dLSUkxJBmbNm26k1JNy1E9unjxohEWFmbEx8cb0dHRRr9+/fKoYvNxRI+GDh1qPPDAA3lZJnLATiEgl/766y/t2rVLTZs2tR0rUqSImjZtqq1bt2b7nK1bt9qNl6SYmBjb+KNHj+r06dN2Y3x8fFS/fv0c50TOHNGj7Fy4cEEWi0W+vr55UreZOKpHmZmZ6tSpkwYPHqyIiAjHFG8SjuhRZmamVqxYoYoVKyomJkZlypRR/fr1tXTpUoeto7Bz1GepYcOGWrZsmX7++WcZhqENGzbo4MGDeuSRRxyzkELsdnrkjDnNLL/ezwsXLkiSSpQokWdzmoUje9SrVy899thjN/y9iFvjqB4tW7ZMderU0dNPP60yZcqoZs2aeu+99/KiZFyHUAjIpTNnzigjI0N+fn52x/38/HT69Olsn3P69Ombjs/6563MiZw5okfX+/PPPzV06FB16NBB3t7eeVO4iTiqR2+88YZcXV3Vt2/fvC/aZBzRo5SUFKWlpWnChAlq3ry51qxZozZt2qht27batGmTYxZSyDnqszR9+nRVqVJFQUFBcnNzU/PmzTVz5kw1atQo7xdRyN1Oj5wxp5nlx/uZmZmp/v37KyoqSlWrVs2TOc3EUT1auHChdu/erfHjx99piabnqB799NNPmj17tsLCwvT111/rpZdeUt++fTV//vw7LRnXcXV2AQBwt0hPT1e7du1kGIZmz57t7HLw/3bt2qWpU6dq9+7dslgszi4H2cjMzJQktWrVSv/+978lSTVq1NCWLVs0Z84cRUdHO7M8/M306dO1bds2LVu2TGXLltU333yjXr16KTAwkP+bDtyGXr16af/+/fr222+dXQr+38mTJ9WvXz/Fx8dzXbsCLDMzU3Xq1NHrr78uSapZs6b279+vOXPmqEuXLk6urnBhpxCQS6VKlZKLi4t+/fVXu+O//vprjhdI8/f3v+n4rH/eypzImSN6lCUrEDp+/Lji4+PZJXSbHNGjzZs3KyUlRffdd59cXV3l6uqq48ePa+DAgQoJCXHIOgozR/SoVKlScnV1VZUqVezGVK5cmW8fu02O6NMff/yh//znP3rrrbfUsmVLVatWTb1791b79u01adIkxyykELudHjljTjNz9PvZu3dvLV++XBs2bFBQUNAdz2dGjujRrl27lJKSolq1atl+bti0aZOmTZsmV1dXZWRk5EXppuGoz1FAQAA/N+QTQiEgl9zc3FS7dm2tW7fOdiwzM1Pr1q1TgwYNsn1OgwYN7MZLUnx8vG18aGio/P397cakpqZq+/btOc6JnDmiR9J/A6FDhw5p7dq1KlmypGMWYAKO6FGnTp20b98+JSUl2W6BgYEaPHiwvv76a8ctppByRI/c3NxUt27dG76S+eDBgypbtmwer8AcHNGn9PR0paenq0gR+x8PXVxcbLu9kHu30yNnzGlmjno/DcNQ79699cUXX2j9+vUKDQ3Ni3JNyRE9evjhh/Xdd9/Z/dxQp04ddezYUUlJSXJxccmr8k3BUZ+jqKgofm7IL06+0DVwV1m4cKFhtVqNuLg444cffjBeeOEFw9fX1zh9+rRhGIbRqVMn45VXXrGNT0hIMFxdXY1JkyYZycnJxqhRo4yiRYsa3333nW3MhAkTDF9fX+PLL7809u3bZ7Rq1coIDQ01/vjjj3xfX2GQ1z3666+/jCeeeMIICgoykpKSjFOnTtluV65cccoa73aO+Bxdj28fuzOO6NGSJUuMokWLGu+++65x6NAhY/r06YaLi4uxefPmfF9fYeGIPkVHRxsRERHGhg0bjJ9++smYN2+e4e7ubsyaNSvf11cY3GqPrly5YuzZs8fYs2ePERAQYAwaNMjYs2ePcejQoVzPiVvjiB699NJLho+Pj7Fx40a7nxsuX76c7+srDBzRo+vx7WN3xhE9SkxMNFxdXY1x48YZhw4dMhYsWGAUK1bM+Pjjj/N9fYUdoRBwi6ZPn27cd999hpubm1GvXj1j27Zttseio6ONLl262I1ftGiRUbFiRcPNzc2IiIgwVqxYYfd4ZmamMWLECMPPz8+wWq3Gww8/bBw4cCA/llJo5WWPjh49akjK9rZhw4Z8WlHhk9efo+sRCt05R/To/fffNypUqGC4u7sb1atXN5YuXeroZRR6ed2nU6dOGV27djUCAwMNd3d3o1KlSsbkyZONzMzM/FhOoXQrPcrpvznR0dG5nhO3Lq97lNPPDfPmzcu/RRUyjvgc/R2h0J1zRI+++uoro2rVqobVajXCw8ONd999N59WYy4WwzAMx+9HAgAAAAAAQEHCNYUAAAAAAABMiFAIAAAAAADAhAiFAAAAAAAATIhQCAAAAAAAwIQIhQAAAAAAAEyIUAgAAAAAAMCECIUAAAAAAABMiFAIAAAAAADAhAiFAAAAAAAATIhQCAAAwOS6du2q1q1bO7uMbB07dkwWi0VJSUnOLgUAgEKHUAgAAAAF0l9//eXsEgAAKNQIhQAAAGDTuHFj9enTR/3799c999wjPz8/vffee7p06ZKee+45eXl5qUKFClq1apXtORs3bpTFYtGKFStUrVo1ubu76/7779f+/fvt5v78888VEREhq9WqkJAQTZ482e7xkJAQjRkzRp07d5a3t7deeOEFhYaGSpJq1qwpi8Wixo0bS5J27NihZs2aqVSpUvLx8VF0dLR2795tN5/FYtHcuXPVpk0bFStWTGFhYVq2bJndmO+//16PP/64vL295eXlpQcffFBHjhyxPT537lxVrlxZ7u7uCg8P16xZs+74PQYAoKAgFAIAAICd+fPnq1SpUkpMTFSfPn300ksv6emnn1bDhg21e/duPfLII+rUqZMuX75s97zBgwdr8uTJ2rFjh0qXLq2WLVsqPT1dkrRr1y61a9dOzzzzjL777ju99tprGjFihOLi4uzmmDRpkqpXr649e/ZoxIgRSkxMlCStXbtWp06d0pIlSyRJFy9eVJcuXfTtt99q27ZtCgsL06OPPqqLFy/azTd69Gi1a9dO+/bt06OPPqqOHTvq7NmzkqSff/5ZjRo1ktVq1fr167Vr1y49//zzunr1qiRpwYIFGjlypMaNG6fk5GS9/vrrGjFihObPn5/n7zkAAM5gMQzDcHYRAAAAcJ6uXbvq/PnzWrp0qRo3bqyMjAxt3rxZkpSRkSEfHx+1bdtWH374oSTp9OnTCggI0NatW3X//fdr48aNatKkiRYuXKj27dtLks6ePaugoCDFxcWpXbt26tixo3777TetWbPG9rpDhgzRihUr9P3330u6tlOoZs2a+uKLL2xjjh07ptDQUO3Zs0c1atTIcQ2ZmZny9fXVJ598oscff1zStZ1Cw4cP15gxYyRJly5dUvHixbVq1So1b95c//nPf7Rw4UIdOHBARYsWvWHOChUqaMyYMerQoYPt2NixY7Vy5Upt2bLldt5qAAAKFHYKAQAAwE61atVsf3ZxcVHJkiUVGRlpO+bn5ydJSklJsXtegwYNbH8uUaKEKlWqpOTkZElScnKyoqKi7MZHRUXp0KFDysjIsB2rU6dOrmr89ddf1aNHD4WFhcnHx0fe3t5KS0vTiRMnclyLp6envL29bXUnJSXpwQcfzDYQunTpko4cOaJu3bqpePHittvYsWPtTi8DAOBu5ursAgAAAFCwXB+SWCwWu2MWi0XStd05ec3T0zNX47p06aLff/9dU6dOVdmyZWW1WtWgQYMbLk6d3Vqy6vbw8Mhx/rS0NEnSe++9p/r169s95uLikqsaAQAo6AiFAAAAkCe2bdum++67T5J07tw5HTx4UJUrV5YkVa5cWQkJCXbjExISVLFixZuGLG5ubpJkt5so67mzZs3So48+Kkk6efKkzpw5c0v1VqtWTfPnz1d6evoN4ZGfn58CAwP1008/qWPHjrc0LwAAdwtCIQAAAOSJ2NhYlSxZUn5+fho2bJhKlSql1q1bS5IGDhyounXrasyYMWrfvr22bt2qGTNm/OO3eZUpU0YeHh5avXq1goKC5O7uLh8fH4WFhemjjz5SnTp1lJqaqsGDB9905092evfurenTp+uZZ57Rq6++Kh8fH23btk316tVTpUqVNHr0aPXt21c+Pj5q3ry5rly5op07d+rcuXMaMGDA7b5NAAAUGFxTCAAAAHliwoQJ6tevn2rXrq3Tp0/rq6++su30qVWrlhYtWqSFCxeqatWqGjlypGJjY9W1a9ebzunq6qpp06bpnXfeUWBgoFq1aiVJev/993Xu3DnVqlVLnTp1Ut++fVWmTJlbqrdkyZJav3690tLSFB0drdq1a+u9996z7Rrq3r275s6dq3nz5ikyMlLR0dGKi4tTaGjorb85AAAUQHz7GAAAAO5I1rePnTt3Tr6+vs4uBwAA5BI7hQAAAAAAAEyIUAgAAAAAAMCEOH0MAAAAAADAhNgpBAAAAAAAYEKEQgAAAAAAACZEKAQAAAAAAGBChEIAAAAAAAAmRCgEAAAAAABgQoRCAAAAAAAAJkQoBAAAAAAAYEKEQgAAAAAAACb0f2jACcHFgWxeAAAAAElFTkSuQmCC",
      "text/plain": [
       "<Figure size 1200x800 with 1 Axes>"
      ]
     },
     "metadata": {},
     "output_type": "display_data"
    }
   ],
   "source": [
    "# Plot the top 10 features contributing to satisfaction\n",
    "plt.figure(figsize=(12, 8))\n",
    "sns.barplot(x='Importance', y='Feature', data=feature_importance_df.head(10))\n",
    "plt.title('Top 10 Factors Contributing to Customer Satisfaction')\n",
    "plt.xlabel('Importance')\n",
    "plt.ylabel('Feature')\n",
    "plt.show()"
   ]
  },
  {
   "cell_type": "markdown",
   "metadata": {},
   "source": [
    "The plot of the top 10 factors contributing to customer satisfaction shows that online borading is the most important factor, followed by in-flight wifi service and type of travel personal. These factors are critical as they directly affect the passenger experience during the flight. On the other hand, logistical factors like gate location and Departure and Arrival Time Convenience are also significant, though they might not directly impact the in-flight experience, they influence overall travel satisfaction."
   ]
  },
  {
<<<<<<< HEAD
   "cell_type": "code",
   "execution_count": 29,
=======
   "cell_type": "markdown",
   "metadata": {},
   "source": []
  },
  {
   "cell_type": "code",
   "execution_count": 83,
>>>>>>> 2340e33fc88fd5bd600ee7643b6b87380f722fd3
   "metadata": {},
   "outputs": [
    {
     "data": {
      "image/png": "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",
      "text/plain": [
       "<Figure size 1200x800 with 1 Axes>"
      ]
     },
     "metadata": {},
     "output_type": "display_data"
    }
   ],
   "source": [
    "# Plot the least contributing factors (dissatisfaction)\n",
    "plt.figure(figsize=(12, 8))\n",
    "sns.barplot(x='Importance', y='Feature', data=feature_importance_df.tail(10))\n",
    "plt.title('Top 10 Factors Contributing to Customer Dissatisfaction')\n",
    "plt.xlabel('Importance')\n",
    "plt.ylabel('Feature')\n",
    "plt.show()"
   ]
  },
  {
   "cell_type": "markdown",
   "metadata": {},
   "source": [
    "The plot of the bottom 10 factors contributing to customer dissatisfaction shows that baggage handling and check-in service are the most significant contributors to dissatisfaction. \n",
    "\n",
    "Baggage Handling affects passengers' travel experience by causing inconvenience and stress due to issues with luggage delivery. Ensuring reliable and efficient baggage handling processes can greatly enhance customer satisfaction.\n",
    "\n",
    "Check-in Service sets the initial tone for the passenger’s journey. Problems at this stage can create a poor first impression and impact overall satisfaction. Improving check-in procedures, reducing wait times, and enhancing staff interactions are essential for a positive travel experience."
   ]
  }
 ],
 "metadata": {
  "kernelspec": {
   "display_name": "dsi_participant",
   "language": "python",
   "name": "python3"
  },
  "language_info": {
   "codemirror_mode": {
    "name": "ipython",
    "version": 3
   },
   "file_extension": ".py",
   "mimetype": "text/x-python",
   "name": "python",
   "nbconvert_exporter": "python",
   "pygments_lexer": "ipython3",
   "version": "3.11.9"
  }
 },
 "nbformat": 4,
 "nbformat_minor": 2
}
