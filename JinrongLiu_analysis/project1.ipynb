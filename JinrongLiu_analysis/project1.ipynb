{
 "cells": [
  {
   "cell_type": "markdown",
   "metadata": {},
   "source": [
    "# Asthma Diesase Project"
   ]
  },
  {
   "cell_type": "markdown",
   "metadata": {},
   "source": [
    "Possible models\n",
    "1. Random Forest\n",
    "2. SVM (Support Vector Machine)\n",
    "3. KNN"
   ]
  },
  {
   "cell_type": "code",
   "execution_count": 1,
   "metadata": {},
   "outputs": [
    {
     "name": "stdout",
     "output_type": "stream",
     "text": [
      "   PatientID  Age  Gender  Ethnicity  EducationLevel        BMI  Smoking  \\\n",
      "0       5034   63       0          1               0  15.848744        0   \n",
      "1       5035   26       1          2               2  22.757042        0   \n",
      "2       5036   57       0          2               1  18.395396        0   \n",
      "3       5037   40       1          2               1  38.515278        0   \n",
      "4       5038   61       0          0               3  19.283802        0   \n",
      "\n",
      "   PhysicalActivity  DietQuality  SleepQuality  ...  LungFunctionFEV1  \\\n",
      "0          0.894448     5.488696      8.701003  ...          1.369051   \n",
      "1          5.897329     6.341014      5.153966  ...          2.197767   \n",
      "2          6.739367     9.196237      6.840647  ...          1.698011   \n",
      "3          1.404503     5.826532      4.253036  ...          3.032037   \n",
      "4          4.604493     3.127048      9.625799  ...          3.470589   \n",
      "\n",
      "   LungFunctionFVC  Wheezing  ShortnessOfBreath  ChestTightness  Coughing  \\\n",
      "0         4.941206         0                  0               1         0   \n",
      "1         1.702393         1                  0               0         1   \n",
      "2         5.022553         1                  1               1         0   \n",
      "3         2.300159         1                  0               1         1   \n",
      "4         3.067944         1                  1               1         0   \n",
      "\n",
      "   NighttimeSymptoms  ExerciseInduced  Diagnosis  DoctorInCharge  \n",
      "0                  0                1          0       Dr_Confid  \n",
      "1                  1                1          0       Dr_Confid  \n",
      "2                  1                1          0       Dr_Confid  \n",
      "3                  1                0          0       Dr_Confid  \n",
      "4                  0                1          0       Dr_Confid  \n",
      "\n",
      "[5 rows x 29 columns]\n"
     ]
    }
   ],
   "source": [
    "from sklearn.model_selection import train_test_split, GridSearchCV\n",
    "from sklearn.preprocessing import StandardScaler, OneHotEncoder\n",
    "from sklearn.compose import ColumnTransformer\n",
    "from sklearn.pipeline import Pipeline\n",
    "from sklearn.ensemble import RandomForestClassifier\n",
    "from sklearn.metrics import classification_report, roc_auc_score\n",
    "import pandas as pd\n",
    "from imblearn.over_sampling import SMOTE\n",
    "from sklearn.metrics import classification_report, accuracy_score\n",
    "\n",
    "# Path to your CSV file\n",
    "zip_file_path = r'C:\\Users\\Admin\\Downloads\\archive.zip'\n",
    "csv_file_name = 'asthma_disease_data.csv'\n",
    "\n",
    "# Read the CSV file\n",
    "data = pd.read_csv(zip_file_path)\n",
    "\n",
    "# Display the first few rows of the dataset\n",
    "print(data.head())\n",
    "\n",
    "\n",
    "# Drop confidential column\n",
    "data.drop(columns=['DoctorInCharge'], inplace=True)\n",
    "\n",
    "# Define features and target\n",
    "X = data.drop(columns=['Diagnosis', 'PatientID'])\n",
    "y = data['Diagnosis']\n",
    "\n",
    "# Define numerical and categorical columns\n",
    "numerical_cols = ['Age', 'BMI', 'PhysicalActivity', 'DietQuality', 'SleepQuality', 'PollutionExposure', 'PollenExposure', 'DustExposure', 'LungFunctionFEV1', 'LungFunctionFVC']\n",
    "categorical_cols = ['Gender', 'Ethnicity', 'EducationLevel', 'Smoking', 'PetAllergy', 'FamilyHistoryAsthma', 'HistoryOfAllergies', 'Eczema', 'HayFever', 'GastroesophagealReflux', 'Wheezing', 'ShortnessOfBreath', 'ChestTightness', 'Coughing', 'NighttimeSymptoms', 'ExerciseInduced']\n",
    "\n",
    "# Preprocessing\n",
    "preprocessor = ColumnTransformer(\n",
    "    transformers=[\n",
    "        ('num', StandardScaler(), numerical_cols),\n",
    "        ('cat', OneHotEncoder(), categorical_cols)\n",
    "    ])\n"
   ]
  },
  {
   "cell_type": "markdown",
   "metadata": {},
   "source": [
    "## Random forest model"
   ]
  },
  {
   "cell_type": "code",
   "execution_count": 2,
   "metadata": {},
   "outputs": [
    {
     "name": "stdout",
     "output_type": "stream",
     "text": [
      "              precision    recall  f1-score   support\n",
      "\n",
      "           0       0.95      1.00      0.98       456\n",
      "           1       0.00      0.00      0.00        23\n",
      "\n",
      "    accuracy                           0.95       479\n",
      "   macro avg       0.48      0.50      0.49       479\n",
      "weighted avg       0.91      0.95      0.93       479\n",
      "\n",
      "Accuracy: 0.9519832985386222\n"
     ]
    },
    {
     "name": "stderr",
     "output_type": "stream",
     "text": [
      "c:\\Users\\Admin\\miniconda3\\envs\\dsi_participant\\lib\\site-packages\\sklearn\\metrics\\_classification.py:1509: UndefinedMetricWarning: Precision is ill-defined and being set to 0.0 in labels with no predicted samples. Use `zero_division` parameter to control this behavior.\n",
      "  _warn_prf(average, modifier, f\"{metric.capitalize()} is\", len(result))\n",
      "c:\\Users\\Admin\\miniconda3\\envs\\dsi_participant\\lib\\site-packages\\sklearn\\metrics\\_classification.py:1509: UndefinedMetricWarning: Precision is ill-defined and being set to 0.0 in labels with no predicted samples. Use `zero_division` parameter to control this behavior.\n",
      "  _warn_prf(average, modifier, f\"{metric.capitalize()} is\", len(result))\n",
      "c:\\Users\\Admin\\miniconda3\\envs\\dsi_participant\\lib\\site-packages\\sklearn\\metrics\\_classification.py:1509: UndefinedMetricWarning: Precision is ill-defined and being set to 0.0 in labels with no predicted samples. Use `zero_division` parameter to control this behavior.\n",
      "  _warn_prf(average, modifier, f\"{metric.capitalize()} is\", len(result))\n"
     ]
    }
   ],
   "source": [
    "# Random forest Model\n",
    "model = Pipeline(steps=[\n",
    "    ('preprocessor', preprocessor),\n",
    "    ('classifier', RandomForestClassifier(random_state=42))\n",
    "])\n",
    "\n",
    "# Split the data\n",
    "X_train, X_test, y_train, y_test = train_test_split(X, y, test_size=0.2, random_state=42)\n",
    "RandomForestClassifier(random_state=42, class_weight='balanced')\n",
    "\n",
    "#Training Model\n",
    "\n",
    "smote = SMOTE()\n",
    "X_resampled, y_resampled = smote.fit_resample(X_train, y_train)\n",
    "model.fit(X_resampled, y_resampled)\n",
    "\n",
    "model.fit(X_train, y_train)\n",
    "\n",
    "# Evaluate the model\n",
    "y_pred = model.predict(X_test)\n",
    "print(classification_report(y_test, y_pred))\n",
    "print(\"Accuracy:\", accuracy_score(y_test, y_pred))\n"
   ]
  },
  {
   "cell_type": "markdown",
   "metadata": {},
   "source": [
    "## Support Vector Model"
   ]
  },
  {
   "cell_type": "code",
   "execution_count": 3,
   "metadata": {},
   "outputs": [
    {
     "name": "stdout",
     "output_type": "stream",
     "text": [
      "Classification Report:\n",
      "               precision    recall  f1-score   support\n",
      "\n",
      "           0       0.96      0.52      0.67       681\n",
      "           1       0.06      0.57      0.11        37\n",
      "\n",
      "    accuracy                           0.52       718\n",
      "   macro avg       0.51      0.54      0.39       718\n",
      "weighted avg       0.91      0.52      0.64       718\n",
      "\n",
      "ROC AUC Score: 0.5189506687304044\n"
     ]
    }
   ],
   "source": [
    "import numpy as np\n",
    "from sklearn.preprocessing import StandardScaler\n",
    "from sklearn.svm import SVC\n",
    "from sklearn.metrics import classification_report, roc_auc_score\n",
    "from sklearn.model_selection import train_test_split\n",
    "import pandas as pd\n",
    "\n",
    "# Load the dataset\n",
    "file_path = r'C:\\Users\\Admin\\Downloads\\asthma_disease_data.csv'\n",
    "df = pd.read_csv(file_path)\n",
    " \n",
    "# Drop unnecessary columns\n",
    "df_cleaned = df.drop(columns=['PatientID', 'DoctorInCharge'])\n",
    " \n",
    "# Separate features and target\n",
    "X = df_cleaned.drop(columns=['Diagnosis'])\n",
    "y = df_cleaned['Diagnosis']\n",
    " \n",
    "# Train-test split\n",
    "X_train, X_test, y_train, y_test = train_test_split(X, y, test_size=0.3, random_state=42)\n",
    " \n",
    "# Feature scaling\n",
    "scaler = StandardScaler()\n",
    "X_train_scaled = scaler.fit_transform(X_train)\n",
    "X_test_scaled = scaler.transform(X_test)\n",
    " \n",
    "# Best SVM hyperparameters\n",
    "best_params = {'C': 0.1, 'gamma': 1, 'kernel': 'linear'}\n",
    "best_svc = SVC(**best_params)\n",
    " \n",
    "# Manually oversample the minority class in the training set\n",
    "class_0_indices = np.where(y_train == 0)[0]\n",
    "class_1_indices = np.where(y_train == 1)[0]\n",
    " \n",
    "# Resample the minority class to match the majority class\n",
    "oversampled_class_1_indices = np.random.choice(class_1_indices, size=len(class_0_indices), replace=True)\n",
    " \n",
    "# Combine indices\n",
    "oversampled_indices = np.concatenate([class_0_indices, oversampled_class_1_indices])\n",
    " \n",
    "# Create oversampled training set\n",
    "X_train_oversampled = X_train_scaled[oversampled_indices]\n",
    "y_train_oversampled = y_train.iloc[oversampled_indices]\n",
    " \n",
    "# Refit the SVM model with the best hyperparameters on the oversampled data\n",
    "best_svc.fit(X_train_oversampled, y_train_oversampled)\n",
    " \n",
    "# Predictions and Evaluation\n",
    "y_pred_oversampled = best_svc.predict(X_test_scaled)\n",
    "classification_rep_oversampled = classification_report(y_test, y_pred_oversampled)\n",
    "roc_auc_oversampled = roc_auc_score(y_test, best_svc.decision_function(X_test_scaled))\n",
    " \n",
    "print(\"Classification Report:\\n\", classification_rep_oversampled)\n",
    "print(\"ROC AUC Score:\", roc_auc_oversampled)"
   ]
  },
  {
   "cell_type": "markdown",
   "metadata": {},
   "source": [
    "## K-nearest neighbors Model"
   ]
  },
  {
   "cell_type": "code",
   "execution_count": 8,
   "metadata": {},
   "outputs": [
    {
     "name": "stdout",
     "output_type": "stream",
     "text": [
      "         PatientID          Age       Gender    Ethnicity  EducationLevel  \\\n",
      "count  2392.000000  2392.000000  2392.000000  2392.000000     2392.000000   \n",
      "mean   6229.500000    42.137960     0.493311     0.669732        1.307274   \n",
      "std     690.655244    21.606655     0.500060     0.986120        0.898242   \n",
      "min    5034.000000     5.000000     0.000000     0.000000        0.000000   \n",
      "25%    5631.750000    23.000000     0.000000     0.000000        1.000000   \n",
      "50%    6229.500000    42.000000     0.000000     0.000000        1.000000   \n",
      "75%    6827.250000    61.000000     1.000000     1.000000        2.000000   \n",
      "max    7425.000000    79.000000     1.000000     3.000000        3.000000   \n",
      "\n",
      "               BMI      Smoking  PhysicalActivity  DietQuality  SleepQuality  \\\n",
      "count  2392.000000  2392.000000       2392.000000  2392.000000   2392.000000   \n",
      "mean     27.244877     0.141722          5.051786     5.022867      7.019012   \n",
      "std       7.201628     0.348838          2.903574     2.909980      1.732475   \n",
      "min      15.031803     0.000000          0.001740     0.003031      4.001437   \n",
      "25%      20.968313     0.000000          2.578333     2.432043      5.498500   \n",
      "50%      27.052202     0.000000          5.016881     5.115383      6.975839   \n",
      "75%      33.555903     0.000000          7.540234     7.544216      8.526950   \n",
      "max      39.985611     1.000000          9.995809     9.999904      9.996235   \n",
      "\n",
      "       ...  GastroesophagealReflux  LungFunctionFEV1  LungFunctionFVC  \\\n",
      "count  ...             2392.000000       2392.000000      2392.000000   \n",
      "mean   ...                0.158027          2.548564         3.741270   \n",
      "std    ...                0.364842          0.861809         1.303689   \n",
      "min    ...                0.000000          1.000459         1.500045   \n",
      "25%    ...                0.000000          1.824113         2.607489   \n",
      "50%    ...                0.000000          2.553244         3.734982   \n",
      "75%    ...                0.000000          3.292897         4.864121   \n",
      "max    ...                1.000000          3.999719         5.999421   \n",
      "\n",
      "          Wheezing  ShortnessOfBreath  ChestTightness     Coughing  \\\n",
      "count  2392.000000        2392.000000     2392.000000  2392.000000   \n",
      "mean      0.596154           0.500418        0.503344     0.503344   \n",
      "std       0.490770           0.500104        0.500093     0.500093   \n",
      "min       0.000000           0.000000        0.000000     0.000000   \n",
      "25%       0.000000           0.000000        0.000000     0.000000   \n",
      "50%       1.000000           1.000000        1.000000     1.000000   \n",
      "75%       1.000000           1.000000        1.000000     1.000000   \n",
      "max       1.000000           1.000000        1.000000     1.000000   \n",
      "\n",
      "       NighttimeSymptoms  ExerciseInduced    Diagnosis  \n",
      "count        2392.000000      2392.000000  2392.000000  \n",
      "mean            0.602425         0.604933     0.051839  \n",
      "std             0.489499         0.488967     0.221749  \n",
      "min             0.000000         0.000000     0.000000  \n",
      "25%             0.000000         0.000000     0.000000  \n",
      "50%             1.000000         1.000000     0.000000  \n",
      "75%             1.000000         1.000000     0.000000  \n",
      "max             1.000000         1.000000     1.000000  \n",
      "\n",
      "[8 rows x 28 columns]\n",
      "0.9401114206128134\n"
     ]
    }
   ],
   "source": [
    "import statsmodels.api as sm\n",
    "from sklearn.neighbors import KNeighborsClassifier \n",
    "import random\n",
    "\n",
    "# print the summary of the data\n",
    "print(df.describe())\n",
    "\n",
    "random.seed(42)\n",
    "\n",
    "# Define the model k = 3\n",
    "knn3 = KNeighborsClassifier(n_neighbors=3)\n",
    "knn3.fit(X_train,y_train)\n",
    "\n",
    "# Prediction and evaluation\n",
    "predictions = knn3.predict(X_test)\n",
    "accuracy_rate = knn3.score(X_test,y_test)\n",
    "print(accuracy_rate)"
   ]
  }
 ],
 "metadata": {
  "kernelspec": {
   "display_name": "Python 3",
   "language": "python",
   "name": "python3"
  },
  "language_info": {
   "codemirror_mode": {
    "name": "ipython",
    "version": 3
   },
   "file_extension": ".py",
   "mimetype": "text/x-python",
   "name": "python",
   "nbconvert_exporter": "python",
   "pygments_lexer": "ipython3",
   "version": "3.9.15"
  }
 },
 "nbformat": 4,
 "nbformat_minor": 2
}
